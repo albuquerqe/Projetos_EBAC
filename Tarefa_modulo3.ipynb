{
 "cells": [
  {
   "cell_type": "markdown",
   "id": "5f67e3ea-6636-499f-b9a0-ad9579cabc9d",
   "metadata": {},
   "source": [
    "01 - Teste de gravidez\r\n",
    "Escreva uma célula com controle de fluxos que tem como premissa a existência das seguintes variáveis:\r",
    "`s  cm \"STR\"  indicando os valores\"*\"' para masculino e\"*\"' para feminino\"\"`bet_hc\"\"` que indica a quantidade do beta-HCG no sangue em mUI/mL.\r\n",
    "\r\n",
    "A sua tarefa é escrever um código que imprima como resultado \"indivíduo do sexo masculino\" quando sexo = 'M', caso sexo = 'F', se o valor de beta-HCG for maior que 5, retorne \"Positivo\" indicando que a paciente está grávida, e retorne \"Negativo\" caso contrário."
   ]
  },
  {
   "cell_type": "code",
   "execution_count": 33,
   "id": "7c9e1a3d-9ce1-479f-9ebc-bbb1177dee56",
   "metadata": {},
   "outputs": [
    {
     "name": "stdout",
     "output_type": "stream",
     "text": [
      "Negativo\n"
     ]
    }
   ],
   "source": [
    "sexo = 'M'  \n",
    "beta_hcg = 0  \n",
    "\n",
    "if sexo == 'M':\n",
    "    if beta_hcg > 5:\n",
    "        print(\"Positivo: Masculino\")\n",
    "    else:\n",
    "        print(\"Negativo\")\n",
    "elif sexo == 'F':\n",
    "    if beta_hcg > 5:\n",
    "        print(\"Positivo: Feminino\")\n",
    "    else:\n",
    "        print(\"Negativo\")"
   ]
  },
  {
   "cell_type": "markdown",
   "id": "9d7e3176-e592-442e-af5d-f44270a261e3",
   "metadata": {},
   "source": [
    "02 - Renomeando variáveis\r\n",
    "\r\n",
    "Vamos ver adiante que uma forma de renomear variáveis de um conjunto de dados é através de dicionários - o dicionário deve conter como chave o nome original, associando a cada chave um único valor (tip *sr*) que contenha o nome novoA sua tarefa é escrever um dicionário que possa ser utilizado para traduzir as variáveis name(nome), age(idade) e income(renda). Ou seja, esse dicionário deve relacionar as chaves *name, age* e *income* às suas respectivas traduções.ções."
   ]
  },
  {
   "cell_type": "code",
   "execution_count": 35,
   "id": "525885a6-98b7-4a1a-be8c-693b4f9f8051",
   "metadata": {},
   "outputs": [],
   "source": [
    "dic_renomeacao = {\n",
    "    'name': 'nome',\n",
    "    'age': 'idade',\n",
    "    'income': 'renda'\n",
    "}"
   ]
  },
  {
   "cell_type": "markdown",
   "id": "5fa902d7-d49b-41d9-9d71-7169bfebba78",
   "metadata": {},
   "source": [
    "03 - É divisível?\r\n",
    "A sua tarefa é escrever um código que indique se um número\"`\"` é divisível por um número\"M\"P. Escreva um programa que faça essa verificação para quaisquer combinações de\"`\"` e\"`\"` e devolva uma mensagem indicativa no output.\"\"\n",
    "\"\"\""
   ]
  },
  {
   "cell_type": "code",
   "execution_count": 42,
   "id": "16f647f4-a02d-4425-ad6d-ea42eac05e7e",
   "metadata": {},
   "outputs": [
    {
     "name": "stdout",
     "output_type": "stream",
     "text": [
      "10 não é divisível por 7\n"
     ]
    }
   ],
   "source": [
    "N = 10\n",
    "M = 7\n",
    "\n",
    "if N % M == 0:\n",
    "    print(f\"{N} é divisível por {M}\")\n",
    "else:\n",
    "    print(f\"{N} não é divisível por {M}\")"
   ]
  },
  {
   "cell_type": "markdown",
   "id": "389291ce-6615-4b51-8e1c-bda44c7845da",
   "metadata": {},
   "source": [
    "04 - Números primos\n",
    " Um número \" \" é primo se e somente se é divisível por 1, -1, por \"e por\".\r\n",
    "\r\n",
    "Escreva um script que verifica`\"`` é um número primo, verificando` é divisível por todos os númers``. Você vai precisar usar alguma ferramenta d *lo * que você aprendeu para isto. No final, devolva uma mensagem no output indicando se o número é primo ou o.\"\""
   ]
  },
  {
   "cell_type": "code",
   "execution_count": 47,
   "id": "21c989a3-2f59-4441-86ce-49a993bc1f73",
   "metadata": {},
   "outputs": [
    {
     "name": "stdout",
     "output_type": "stream",
     "text": [
      "47 é um número primo.\n"
     ]
    }
   ],
   "source": [
    "N = 47  # Você pode mudar o valor de N para verificar outros números\n",
    "N_primo = True  # Assumimos inicialmente que N é primo\n",
    "\n",
    "# Verificamos a divisibilidade de N por números de 2 até N-1\n",
    "for i in range(2, N):\n",
    "    if N % i == 0:\n",
    "        N_primo = False\n",
    "        break  # Se acharmos um divisor, podemos parar a verificação\n",
    "\n",
    "# Resultado\n",
    "if N_primo:\n",
    "    print(f\"{N} é um número primo.\")\n",
    "else:\n",
    "    print(f\"{N} não é um número primo.\")"
   ]
  },
  {
   "cell_type": "markdown",
   "id": "a76949d1-97bc-4a91-a7d9-023ea9e46de0",
   "metadata": {},
   "source": [
    "05 - Desafio. \n",
    "O algorítmo do exercício anterior não é o mais eficiente. O que você pode fazer para deixá-lo mais eficiente? Ou seja, executar menos comparações, portanto consumir menos tempo.\r\n",
    "1. Será que precisamos correr o loop até o final sempre?\r\n",
    "2. Será que precisamos mesmo verificar **todos** os números?\r\n",
    "3. Será que precisamos ir até N-1?\r\n",
    "\r\n",
    "Essas perguntas levam ao tipo de pensamento voltado a deixar um algoritmo mais eficiente. Veja se você consegue melhorar o seu."
   ]
  },
  {
   "cell_type": "code",
   "execution_count": 1,
   "id": "0ef1473d-347e-46e0-8b9a-9ac72c9de939",
   "metadata": {},
   "outputs": [
    {
     "name": "stdout",
     "output_type": "stream",
     "text": [
      "98 não é um número primo.\n"
     ]
    }
   ],
   "source": [
    "import math\n",
    "\n",
    "# Você pode mudar o valor de N para verificar outros números\n",
    "N = 98\n",
    "N_primo = True  # Assumimos inicialmente que N é primo\n",
    "\n",
    "# Caso N seja 1 ou menor, sabemos que não é primo\n",
    "if N <= 1:\n",
    "    N_primo = False\n",
    "else:\n",
    "    # Verificamos a divisibilidade de N por números de 2 até a raiz quadrada de N\n",
    "    for i in range(2, int(math.sqrt(N)) + 1):\n",
    "        if N % i == 0:\n",
    "            N_primo = False\n",
    "            break  # Se acharmos um divisor, podemos parar a verificação\n",
    "\n",
    "# Resultado\n",
    "if N_primo:\n",
    "    print(f\"{N} é um número primo.\")\n",
    "else:\n",
    "    print(f\"{N} não é um número primo.\")"
   ]
  },
  {
   "cell_type": "markdown",
   "id": "0350436f-0214-4f1a-8de9-ac79d7eea776",
   "metadata": {},
   "source": [
    "06 - Peso ideal 1\r\n",
    "O IMC (índice de massa corpórea) é um indicador de saúde mais bem aceito que o peso. Ele é calculado como:\r\n",
    "\r\n",
    "$$ IMC = \\dfrac{peso}{altura^2}$$\r\n",
    "\r\n",
    "Segundo a OMS, valores *normais* são entre 18.5 e 24.9.\r\n",
    "\r\n",
    "Sua tarefa é encontrar o ponto médio dessa faixa."
   ]
  },
  {
   "cell_type": "code",
   "execution_count": 2,
   "id": "d456b52a-813e-4b7e-9e17-2a64ee827418",
   "metadata": {},
   "outputs": [
    {
     "data": {
      "text/plain": [
       "21.7"
      ]
     },
     "execution_count": 2,
     "metadata": {},
     "output_type": "execute_result"
    }
   ],
   "source": [
    "imc_min = 18.5\n",
    "imc_max = 24.9\n",
    "\n",
    "imc_ideal = (imc_min + imc_max) / 2\n",
    "\n",
    "imc_ideal"
   ]
  },
  {
   "cell_type": "markdown",
   "id": "eb4fe706-91eb-443c-9a08-19a32fe8bf25",
   "metadata": {},
   "source": [
    "07 - Peso ideal 2\r\n",
    "Recebendo um valor de altura, encontre o peso '*ideal*' dessa pessoa, que fornece o IMC encontrado acima"
   ]
  },
  {
   "cell_type": "code",
   "execution_count": 3,
   "id": "3780b2ff-6f74-41fa-9838-84b482873bc9",
   "metadata": {},
   "outputs": [
    {
     "data": {
      "text/plain": [
       "62.712999999999994"
      ]
     },
     "execution_count": 3,
     "metadata": {},
     "output_type": "execute_result"
    }
   ],
   "source": [
    "altura = 1.70\n",
    "imc_ideal = 21.7\n",
    "peso_ideal = imc_ideal * (altura ** 2)\n",
    "\n",
    "peso_ideal"
   ]
  },
  {
   "cell_type": "markdown",
   "id": "e6a78775-9f55-43f3-8426-b71f9779d5ed",
   "metadata": {},
   "source": [
    "08 - Peso ideal 3\r\n",
    "Dada uma lista contendo as alturas de pacientes, crie uma nova lista que contenha o peso '*ideal*' (que fornece o IMC calculado em **Peso ideal 1**) desses pacientes"
   ]
  },
  {
   "cell_type": "code",
   "execution_count": 6,
   "id": "2ab5b7d1-2295-4636-a779-9f8403c2afb1",
   "metadata": {},
   "outputs": [
    {
     "data": {
      "text/plain": [
       "[82.51424999999999, 91.19425, 62.712999999999994, 59.07824999999999]"
      ]
     },
     "execution_count": 6,
     "metadata": {},
     "output_type": "execute_result"
    }
   ],
   "source": [
    "lista_alturas = [1.95, 2.05, 1.70, 1.65]\n",
    "imc_ideal = 21.7\n",
    "\n",
    "lista_peso_ideal = []\n",
    "for altura in lista_alturas:\n",
    "    peso_ideal = imc_ideal * (altura ** 2)\n",
    "    lista_peso_ideal.append(peso_ideal)\n",
    "\n",
    "lista_peso_ideal"
   ]
  },
  {
   "cell_type": "markdown",
   "id": "ca377bb7-68f4-4db0-bb12-9d2dc4ec97f2",
   "metadata": {},
   "source": [
    "09 - Peso ideal 4 \n",
    "Dada uma lista de tuplas - cada elemento da lista é uma tupla contendo altura e peso de um paciente - crie uma nova lista com o IMC desses pacientes."
   ]
  },
  {
   "cell_type": "code",
   "execution_count": 7,
   "id": "d2293684-3ddb-4255-8c01-bf9edde60652",
   "metadata": {},
   "outputs": [
    {
     "data": {
      "text/plain": [
       "[27.777777777777775, 27.548209366391188, 19.188070502453332]"
      ]
     },
     "execution_count": 7,
     "metadata": {},
     "output_type": "execute_result"
    }
   ],
   "source": [
    "altura_peso = [(1.80, 90), (1.65, 75), (1.91, 70)]\n",
    "\n",
    "imc = []\n",
    "for altura, peso in altura_peso:\n",
    "    imc_paciente = peso / (altura ** 2)\n",
    "    imc.append(imc_paciente)\n",
    "imc"
   ]
  },
  {
   "cell_type": "markdown",
   "id": "4e26a491-35f1-45f2-a8a1-756bbbbd2683",
   "metadata": {},
   "source": [
    "10 - Peso ideal 5 \n",
    "Dada uma lista de*lista* - cada elemento da lista é uma*list* contendo altura e peso de um paciente, adicione mais um elemento à lista de cada paciente contendo o IMC do paciente. Verifique também se é 'baixo', 'normal' ou 'alto' segundo os padrões da OMS em que normal é entre 18.5 e 24.9\r\n",
    "\r\n",
    "Reflexão: por que no problema anterior temos que criar uma nova lista, e não podemos adicionar os dados de cada indivíduo à tupla?"
   ]
  },
  {
   "cell_type": "code",
   "execution_count": 8,
   "id": "67f249ab-e0ba-40a8-90b7-b6a8b9661623",
   "metadata": {},
   "outputs": [
    {
     "data": {
      "text/plain": [
       "[[1.8, 90, 27.777777777777775, 'alto'],\n",
       " [1.65, 75, 27.548209366391188, 'alto'],\n",
       " [1.91, 70, 19.188070502453332, 'normal']]"
      ]
     },
     "execution_count": 8,
     "metadata": {},
     "output_type": "execute_result"
    }
   ],
   "source": [
    "altura_peso = [[1.80, 90], [1.65, 75], [1.91, 70]]\n",
    "for paciente in altura_peso:\n",
    "    altura = paciente[0]\n",
    "    peso = paciente[1]\n",
    "    \n",
    "    imc_paciente = peso / (altura ** 2)\n",
    "    if imc_paciente < 18.5:\n",
    "        classificacao = 'baixo'\n",
    "    elif 18.5 <= imc_paciente <= 24.9:\n",
    "        classificacao = 'normal'\n",
    "    else:\n",
    "        classificacao = 'alto'\n",
    "    \n",
    "    paciente.append(imc_paciente)\n",
    "    paciente.append(classificacao)\n",
    "\n",
    "altura_peso"
   ]
  },
  {
   "cell_type": "markdown",
   "id": "d6dd5058-92d7-4d86-aa8b-9b866374e8b7",
   "metadata": {},
   "source": [
    "Por que não usamos tuplas?: Tuplas são imutáveis, uma vez criadas, seus valores que não podem ser alterados. Por isso, nos exercícios anteriores, tivemos que criar uma nova lista. Usando listas, conseguimos modificar os elementos, o que permite adicionar novos valores."
   ]
  },
  {
   "cell_type": "code",
   "execution_count": null,
   "id": "3cb57d25-f03a-4bdc-95ac-c95684f9bdeb",
   "metadata": {},
   "outputs": [],
   "source": []
  }
 ],
 "metadata": {
  "kernelspec": {
   "display_name": "Python 3 (ipykernel)",
   "language": "python",
   "name": "python3"
  },
  "language_info": {
   "codemirror_mode": {
    "name": "ipython",
    "version": 3
   },
   "file_extension": ".py",
   "mimetype": "text/x-python",
   "name": "python",
   "nbconvert_exporter": "python",
   "pygments_lexer": "ipython3",
   "version": "3.12.4"
  }
 },
 "nbformat": 4,
 "nbformat_minor": 5
}
