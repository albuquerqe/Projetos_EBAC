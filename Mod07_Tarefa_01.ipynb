{
 "cells": [
  {
   "cell_type": "code",
   "execution_count": 1,
   "id": "17a0bc38-a406-4d9f-a8d6-8c32cf8feac1",
   "metadata": {},
   "outputs": [],
   "source": [
    "import pandas as pd \n",
    "import matplotlib.pyplot as plt\n",
    "import seaborn as sns"
   ]
  },
  {
   "cell_type": "code",
   "execution_count": 3,
   "id": "5cbbad00-3b61-4100-8709-f7331c9d3063",
   "metadata": {},
   "outputs": [
    {
     "name": "stdout",
     "output_type": "stream",
     "text": [
      "  sexo posse_de_veiculo posse_de_imovel  qtd_filhos            tipo_renda  \\\n",
      "0    M                Y               Y           0               Working   \n",
      "1    F                N               Y           0  Commercial associate   \n",
      "2    F                N               Y           0  Commercial associate   \n",
      "3    M                Y               Y           0               Working   \n",
      "4    F                Y               N           0               Working   \n",
      "\n",
      "                        educacao          estado_civil    tipo_residencia  \\\n",
      "0  Secondary / secondary special               Married  House / apartment   \n",
      "1  Secondary / secondary special  Single / not married  House / apartment   \n",
      "2  Secondary / secondary special  Single / not married  House / apartment   \n",
      "3               Higher education               Married  House / apartment   \n",
      "4              Incomplete higher               Married  House / apartment   \n",
      "\n",
      "       idade  tempo_emprego  possui_celular  possui_fone_comercial  \\\n",
      "0  58.832877       3.106849               1                      0   \n",
      "1  52.356164       8.358904               1                      0   \n",
      "2  52.356164       8.358904               1                      0   \n",
      "3  46.224658       2.106849               1                      1   \n",
      "4  29.230137       3.021918               1                      0   \n",
      "\n",
      "   possui_fone  possui_email  qt_pessoas_residencia    mau  \n",
      "0            0             0                    2.0  False  \n",
      "1            1             1                    1.0  False  \n",
      "2            1             1                    1.0  False  \n",
      "3            1             1                    2.0  False  \n",
      "4            0             0                    2.0  False  \n"
     ]
    }
   ],
   "source": [
    "df = pd.read_csv('demo01.csv') \n",
    "print(df.head())"
   ]
  },
  {
   "cell_type": "code",
   "execution_count": 4,
   "id": "c2a15ce0-b136-43cf-be9f-e59922a93632",
   "metadata": {},
   "outputs": [
    {
     "name": "stdout",
     "output_type": "stream",
     "text": [
      "<class 'pandas.core.frame.DataFrame'>\n",
      "RangeIndex: 16650 entries, 0 to 16649\n",
      "Data columns (total 16 columns):\n",
      " #   Column                 Non-Null Count  Dtype  \n",
      "---  ------                 --------------  -----  \n",
      " 0   sexo                   16650 non-null  object \n",
      " 1   posse_de_veiculo       16650 non-null  object \n",
      " 2   posse_de_imovel        16650 non-null  object \n",
      " 3   qtd_filhos             16650 non-null  int64  \n",
      " 4   tipo_renda             16650 non-null  object \n",
      " 5   educacao               16650 non-null  object \n",
      " 6   estado_civil           16650 non-null  object \n",
      " 7   tipo_residencia        16650 non-null  object \n",
      " 8   idade                  16650 non-null  float64\n",
      " 9   tempo_emprego          16650 non-null  float64\n",
      " 10  possui_celular         16650 non-null  int64  \n",
      " 11  possui_fone_comercial  16650 non-null  int64  \n",
      " 12  possui_fone            16650 non-null  int64  \n",
      " 13  possui_email           16650 non-null  int64  \n",
      " 14  qt_pessoas_residencia  16650 non-null  float64\n",
      " 15  mau                    16650 non-null  bool   \n",
      "dtypes: bool(1), float64(3), int64(5), object(7)\n",
      "memory usage: 1.9+ MB\n",
      "None\n"
     ]
    }
   ],
   "source": [
    "print(df.info())"
   ]
  },
  {
   "cell_type": "code",
   "execution_count": 5,
   "id": "4a8620bd-ac10-453f-af69-5b12325b11db",
   "metadata": {},
   "outputs": [
    {
     "name": "stdout",
     "output_type": "stream",
     "text": [
      "sexo                     0\n",
      "posse_de_veiculo         0\n",
      "posse_de_imovel          0\n",
      "qtd_filhos               0\n",
      "tipo_renda               0\n",
      "educacao                 0\n",
      "estado_civil             0\n",
      "tipo_residencia          0\n",
      "idade                    0\n",
      "tempo_emprego            0\n",
      "possui_celular           0\n",
      "possui_fone_comercial    0\n",
      "possui_fone              0\n",
      "possui_email             0\n",
      "qt_pessoas_residencia    0\n",
      "mau                      0\n",
      "dtype: int64\n"
     ]
    }
   ],
   "source": [
    "print(df.isnull().sum())"
   ]
  },
  {
   "cell_type": "code",
   "execution_count": 6,
   "id": "8062bd74-2f34-466a-9e9f-97f419a2c8f7",
   "metadata": {},
   "outputs": [
    {
     "name": "stdout",
     "output_type": "stream",
     "text": [
      "\n",
      "Distribuição da variável resposta 'mau':\n",
      "mau\n",
      "False    0.976577\n",
      "True     0.023423\n",
      "Name: proportion, dtype: float64\n"
     ]
    }
   ],
   "source": [
    "print(\"\\nDistribuição da variável resposta 'mau':\")\n",
    "print(df['mau'].value_counts(normalize=True))"
   ]
  },
  {
   "cell_type": "markdown",
   "id": "e9071fc6-b6f6-4368-839c-64c7d3d08f0f",
   "metadata": {},
   "source": [
    "2) Vamos montar um metadados"
   ]
  },
  {
   "cell_type": "code",
   "execution_count": 7,
   "id": "f6a0d1ff-d0d7-4da8-8fad-e019f63b8da6",
   "metadata": {},
   "outputs": [],
   "source": [
    "df_info = pd.DataFrame({\n",
    "    'variavel': df.columns,\n",
    "    'tipo_dado': df.dtypes.values\n",
    "})"
   ]
  },
  {
   "cell_type": "code",
   "execution_count": 8,
   "id": "cb9e57b5-8000-4ab7-944a-ddfefb1a099b",
   "metadata": {},
   "outputs": [],
   "source": [
    "qtd_categorias = []"
   ]
  },
  {
   "cell_type": "code",
   "execution_count": 9,
   "id": "4c7867ac-9442-400d-9f30-e87b2523fe4a",
   "metadata": {},
   "outputs": [],
   "source": [
    "for coluna in df.columns:\n",
    "    qtd_categorias.append(df[coluna].nunique())"
   ]
  },
  {
   "cell_type": "code",
   "execution_count": 10,
   "id": "3e3fe53f-50c3-483c-83ac-bd07754c73fd",
   "metadata": {},
   "outputs": [],
   "source": [
    "df_info['qtd_categorias'] = qtd_categorias"
   ]
  },
  {
   "cell_type": "code",
   "execution_count": 11,
   "id": "ef6d6ffd-82cf-4c19-80a1-dc3efce4ce98",
   "metadata": {},
   "outputs": [
    {
     "name": "stdout",
     "output_type": "stream",
     "text": [
      "                 variavel tipo_dado  qtd_categorias\n",
      "0                    sexo    object               2\n",
      "1        posse_de_veiculo    object               2\n",
      "2         posse_de_imovel    object               2\n",
      "3              qtd_filhos     int64               8\n",
      "4              tipo_renda    object               5\n",
      "5                educacao    object               5\n",
      "6            estado_civil    object               5\n",
      "7         tipo_residencia    object               6\n",
      "8                   idade   float64            5298\n",
      "9           tempo_emprego   float64            3005\n",
      "10         possui_celular     int64               1\n",
      "11  possui_fone_comercial     int64               2\n",
      "12            possui_fone     int64               2\n",
      "13           possui_email     int64               2\n",
      "14  qt_pessoas_residencia   float64               9\n",
      "15                    mau      bool               2\n"
     ]
    }
   ],
   "source": [
    "print(df_info)"
   ]
  },
  {
   "cell_type": "markdown",
   "id": "0bd66cfd-707a-4a50-87fa-48b8524b2f93",
   "metadata": {},
   "source": [
    "3) Crie variáveis dummy para as variáveis necessárias (i.e. aquelas que são qualitativas e não estão armazenadas como {0, 1} ou {True, False}. Crie um *dataframe* apenas com as variáveis apropriadas para entrada no scikitlearn - elimine as variáveis tipo *str*, mantendo apenas suas versões *dummy*."
   ]
  },
  {
   "cell_type": "code",
   "execution_count": 12,
   "id": "f8570741-c30f-4a69-b90e-1b5c239d2e83",
   "metadata": {},
   "outputs": [
    {
     "name": "stdout",
     "output_type": "stream",
     "text": [
      "Variáveis qualitativas identificadas: Index(['sexo', 'posse_de_veiculo', 'posse_de_imovel', 'tipo_renda', 'educacao',\n",
      "       'estado_civil', 'tipo_residencia'],\n",
      "      dtype='object')\n"
     ]
    }
   ],
   "source": [
    "variaveis_qualitativas = df.select_dtypes(include=['object']).columns\n",
    "print(\"Variáveis qualitativas identificadas:\", variaveis_qualitativas)"
   ]
  },
  {
   "cell_type": "code",
   "execution_count": 13,
   "id": "803d5ec2-b0a5-4bc7-ba80-4503a562d0bf",
   "metadata": {},
   "outputs": [],
   "source": [
    "df_dummies = pd.get_dummies(df, columns=variaveis_qualitativas, drop_first=True)"
   ]
  },
  {
   "cell_type": "code",
   "execution_count": 14,
   "id": "1cc292d8-a974-4460-b796-b169b40edd5c",
   "metadata": {},
   "outputs": [],
   "source": [
    "variaveis_str = df.select_dtypes(include=['object']).columns\n",
    "df_final = df_dummies.drop(columns=variaveis_str, errors='ignore')"
   ]
  },
  {
   "cell_type": "code",
   "execution_count": 15,
   "id": "5e701115-8c91-4f26-afa5-0dc10b4e50ca",
   "metadata": {},
   "outputs": [
    {
     "name": "stdout",
     "output_type": "stream",
     "text": [
      "\n",
      "DataFrame final com variáveis numéricas:\n",
      "   qtd_filhos      idade  tempo_emprego  possui_celular  \\\n",
      "0           0  58.832877       3.106849               1   \n",
      "1           0  52.356164       8.358904               1   \n",
      "2           0  52.356164       8.358904               1   \n",
      "3           0  46.224658       2.106849               1   \n",
      "4           0  29.230137       3.021918               1   \n",
      "\n",
      "   possui_fone_comercial  possui_fone  possui_email  qt_pessoas_residencia  \\\n",
      "0                      0            0             0                    2.0   \n",
      "1                      0            1             1                    1.0   \n",
      "2                      0            1             1                    1.0   \n",
      "3                      1            1             1                    2.0   \n",
      "4                      0            0             0                    2.0   \n",
      "\n",
      "     mau  sexo_M  ...  educacao_Secondary / secondary special  \\\n",
      "0  False    True  ...                                    True   \n",
      "1  False   False  ...                                    True   \n",
      "2  False   False  ...                                    True   \n",
      "3  False    True  ...                                   False   \n",
      "4  False   False  ...                                   False   \n",
      "\n",
      "   estado_civil_Married  estado_civil_Separated  \\\n",
      "0                  True                   False   \n",
      "1                 False                   False   \n",
      "2                 False                   False   \n",
      "3                  True                   False   \n",
      "4                  True                   False   \n",
      "\n",
      "   estado_civil_Single / not married  estado_civil_Widow  \\\n",
      "0                              False               False   \n",
      "1                               True               False   \n",
      "2                               True               False   \n",
      "3                              False               False   \n",
      "4                              False               False   \n",
      "\n",
      "   tipo_residencia_House / apartment  tipo_residencia_Municipal apartment  \\\n",
      "0                               True                                False   \n",
      "1                               True                                False   \n",
      "2                               True                                False   \n",
      "3                               True                                False   \n",
      "4                               True                                False   \n",
      "\n",
      "   tipo_residencia_Office apartment  tipo_residencia_Rented apartment  \\\n",
      "0                             False                             False   \n",
      "1                             False                             False   \n",
      "2                             False                             False   \n",
      "3                             False                             False   \n",
      "4                             False                             False   \n",
      "\n",
      "   tipo_residencia_With parents  \n",
      "0                         False  \n",
      "1                         False  \n",
      "2                         False  \n",
      "3                         False  \n",
      "4                         False  \n",
      "\n",
      "[5 rows x 29 columns]\n"
     ]
    }
   ],
   "source": [
    "print(\"\\nDataFrame final com variáveis numéricas:\")\n",
    "print(df_final.head())"
   ]
  },
  {
   "cell_type": "code",
   "execution_count": 16,
   "id": "2b9b87de-cb93-48ba-b903-0c698f847dd9",
   "metadata": {},
   "outputs": [
    {
     "name": "stdout",
     "output_type": "stream",
     "text": [
      "Tabela cruzada para 'possui_email' e 'mau':\n",
      "mau              False     True \n",
      "possui_email                    \n",
      "0             0.976269  0.023731\n",
      "1             0.979730  0.020270\n"
     ]
    }
   ],
   "source": [
    "cross_email = pd.crosstab(df['possui_email'], df['mau'], normalize='index')\n",
    "print(\"Tabela cruzada para 'possui_email' e 'mau':\")\n",
    "print(cross_email)"
   ]
  },
  {
   "cell_type": "code",
   "execution_count": 17,
   "id": "4a2e6be9-dd4a-453d-8ecd-63701270118b",
   "metadata": {},
   "outputs": [
    {
     "name": "stdout",
     "output_type": "stream",
     "text": [
      "\n",
      "Tabela cruzada para 'posse_de_veiculo' e 'mau':\n",
      "mau                  False     True \n",
      "posse_de_veiculo                    \n",
      "N                 0.975732  0.024268\n",
      "Y                 0.977905  0.022095\n"
     ]
    }
   ],
   "source": [
    "cross_veiculo = pd.crosstab(df['posse_de_veiculo'], df['mau'], normalize='index')\n",
    "print(\"\\nTabela cruzada para 'posse_de_veiculo' e 'mau':\")\n",
    "print(cross_veiculo)"
   ]
  },
  {
   "cell_type": "code",
   "execution_count": null,
   "id": "694f0d6d-db14-4015-8736-8da94b82067f",
   "metadata": {},
   "outputs": [],
   "source": []
  }
 ],
 "metadata": {
  "kernelspec": {
   "display_name": "Python 3 (ipykernel)",
   "language": "python",
   "name": "python3"
  },
  "language_info": {
   "codemirror_mode": {
    "name": "ipython",
    "version": 3
   },
   "file_extension": ".py",
   "mimetype": "text/x-python",
   "name": "python",
   "nbconvert_exporter": "python",
   "pygments_lexer": "ipython3",
   "version": "3.12.4"
  }
 },
 "nbformat": 4,
 "nbformat_minor": 5
}
