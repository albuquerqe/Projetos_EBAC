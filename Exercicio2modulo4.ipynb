{
 "cells": [
  {
   "cell_type": "markdown",
   "id": "6b4db77f-e188-4f77-b1e1-d9aaa511d6ca",
   "metadata": {},
   "source": [
    "Exercício 1: Vestibular\n",
    "Considere que a os dados gerados na célula abaixo contêm o número de acertos de 100 alunos em um vestibular para um curso de exatas, divididas pelos respectivos assuntos. Considere que cada assunto possui um número de questões conforme a tabela abaixo:\n",
    "\n",
    "| assunto | número de questões |\n",
    "|:---:|:---:|\n",
    "| Matemática | 24 |\n",
    "| Português | 18 |\n",
    "| Geografia | 8 |\n",
    "| Inglês | 8 |\n",
    "| História | 8 |\n",
    "| Física | 12 |\n",
    "| Química | 12 |\n",
    "\n",
    "Usando os comandos de operações com DataFrames que você aprendeu na Aula 03, calcule:\n",
    "\n",
    "1. (operações com escalar) Calcule o percentual de acerto dos alunos por assunto.  \n",
    "2. (operações entre *DataFrames) Calcule o total de acertos de cada aluno.  \n",
    "3. Calcule o porcentual geral de cada aluno.  \n",
    "4. Suponha que a nota de corte para a segunda fase seja 45. Quantos alunos tiveram nota maior que 45?  "
   ]
  },
  {
   "cell_type": "code",
   "execution_count": 1,
   "id": "eea584a4-7012-4111-999c-17f44a7476c7",
   "metadata": {},
   "outputs": [],
   "source": [
    "import pandas as pd\n",
    "import numpy as np"
   ]
  },
  {
   "cell_type": "code",
   "execution_count": 9,
   "id": "4bcf10d9-0f7f-49fc-875e-6eb1c93fc0e6",
   "metadata": {},
   "outputs": [],
   "source": [
    "total_questoes = {\n",
    "    \"Matemática\": 24,\n",
    "    \"Português\": 18,\n",
    "    \"Geografia\": 8,\n",
    "    \"Inglês\": 8,\n",
    "    \"História\": 8,\n",
    "    \"Física\": 12,\n",
    "    \"Química\": 12\n",
    "}"
   ]
  },
  {
   "cell_type": "code",
   "execution_count": 10,
   "id": "f3ddf558-f692-4268-90c2-06191653e3ca",
   "metadata": {},
   "outputs": [],
   "source": [
    "np.random.seed(42)\n",
    "df_mat = pd.DataFrame(np.random.randint(24, size=(100, 1)), columns=['Matemática'])\n",
    "\n",
    "df_por = pd.DataFrame(np.random.randint(18, size=(100, 1)), columns=['Português'])\n",
    "\n",
    "df_geo = pd.DataFrame(np.random.randint(8, size=(100, 1)), columns=['Geografia'])\n",
    "\n",
    "df_ing = pd.DataFrame(np.random.randint(8, size=(100, 1)), columns=['Inglês'])\n",
    "\n",
    "df_his = pd.DataFrame(np.random.randint(8, size=(100, 1)), columns=['História'])\n",
    "\n",
    "df_fis = pd.DataFrame(np.random.randint(12, size=(100, 1)), columns=['Física'])\n",
    "\n",
    "df_qui = pd.DataFrame(np.random.randint(12, size=(100, 1)), columns=['Química'])"
   ]
  },
  {
   "cell_type": "code",
   "execution_count": 11,
   "id": "e0f8b118-afe8-4ce6-8136-613982792f33",
   "metadata": {},
   "outputs": [],
   "source": [
    "df_acertos = pd.concat([df_mat, df_por, df_geo, df_ing, df_his, df_fis, df_qui], axis=1)"
   ]
  },
  {
   "cell_type": "code",
   "execution_count": 12,
   "id": "390b90ab-738c-41d0-9eab-ed378aed499f",
   "metadata": {},
   "outputs": [
    {
     "name": "stdout",
     "output_type": "stream",
     "text": [
      "Percentual de acerto por assunto:\n",
      "     Matemática  Português  Geografia  Inglês  História     Física    Química\n",
      "0    25.000000  38.888889       87.5    37.5      12.5  66.666667  25.000000\n",
      "1    79.166667  55.555556        0.0     0.0       0.0  91.666667  66.666667\n",
      "2    58.333333  88.888889        0.0    62.5      87.5  33.333333  33.333333\n",
      "3    41.666667  38.888889       37.5    50.0       0.0   0.000000  66.666667\n",
      "4    29.166667  11.111111       25.0    87.5       0.0  75.000000  25.000000\n",
      "..         ...        ...        ...     ...       ...        ...        ...\n",
      "95   25.000000  22.222222       87.5    12.5      50.0  75.000000  25.000000\n",
      "96   33.333333   5.555556       50.0    75.0      12.5  33.333333  25.000000\n",
      "97   95.833333  27.777778        0.0    25.0      50.0   8.333333  41.666667\n",
      "98    0.000000  55.555556       37.5    12.5      62.5  83.333333  91.666667\n",
      "99   45.833333  83.333333        0.0    12.5      75.0  58.333333  16.666667\n",
      "\n",
      "[100 rows x 7 columns]\n"
     ]
    }
   ],
   "source": [
    "# 1. Percentual de acerto por assunto\n",
    "df_percentual = df_acertos.div(total_questoes, axis=1) * 100\n",
    "print(\"Percentual de acerto por assunto:\\n\", df_percentual)"
   ]
  },
  {
   "cell_type": "code",
   "execution_count": 13,
   "id": "60b3f75c-004b-4ec8-a2d9-b28e9628e363",
   "metadata": {},
   "outputs": [
    {
     "name": "stdout",
     "output_type": "stream",
     "text": [
      "\n",
      "Total de acertos por aluno:\n",
      " 0     35\n",
      "1     48\n",
      "2     50\n",
      "3     32\n",
      "4     30\n",
      "      ..\n",
      "95    34\n",
      "96    27\n",
      "97    40\n",
      "98    40\n",
      "99    42\n",
      "Name: Total_acertos, Length: 100, dtype: int64\n"
     ]
    }
   ],
   "source": [
    "# 2. Total de acertos por aluno\n",
    "df_acertos['Total_acertos'] = df_acertos.sum(axis=1)\n",
    "print(\"\\nTotal de acertos por aluno:\\n\", df_acertos['Total_acertos'])"
   ]
  },
  {
   "cell_type": "code",
   "execution_count": 14,
   "id": "5f7bac5f-d405-4e4e-8193-e9103f1b8e03",
   "metadata": {},
   "outputs": [
    {
     "name": "stdout",
     "output_type": "stream",
     "text": [
      "\n",
      "Percentual geral de acertos por aluno:\n",
      " 0     38.888889\n",
      "1     53.333333\n",
      "2     55.555556\n",
      "3     35.555556\n",
      "4     33.333333\n",
      "        ...    \n",
      "95    37.777778\n",
      "96    30.000000\n",
      "97    44.444444\n",
      "98    44.444444\n",
      "99    46.666667\n",
      "Name: Percentual_geral, Length: 100, dtype: float64\n"
     ]
    }
   ],
   "source": [
    "# 3. Percentual geral de acertos\n",
    "total_questoes_geral = sum(total_questoes.values())\n",
    "df_acertos['Percentual_geral'] = (df_acertos['Total_acertos'] / total_questoes_geral) * 100\n",
    "print(\"\\nPercentual geral de acertos por aluno:\\n\", df_acertos['Percentual_geral'])"
   ]
  },
  {
   "cell_type": "code",
   "execution_count": 15,
   "id": "2d21ee1d-5c8f-4926-a0c9-33f7e13092d6",
   "metadata": {},
   "outputs": [
    {
     "name": "stdout",
     "output_type": "stream",
     "text": [
      "\n",
      "Número de alunos com nota maior que 45: 31\n"
     ]
    }
   ],
   "source": [
    "# 4. Alunos com nota maior que 45\n",
    "nota_corte = 45\n",
    "alunos_aprovados = df_acertos[df_acertos['Total_acertos'] > nota_corte]\n",
    "print(\"\\nNúmero de alunos com nota maior que 45:\", len(alunos_aprovados))"
   ]
  },
  {
   "cell_type": "markdown",
   "id": "abc2ed79-2322-4ce2-8376-13b54d2efda5",
   "metadata": {},
   "source": [
    "2) Vestibular II\n",
    "\n",
    "Ainda sobre o mesmo banco de dados:\n",
    "\n",
    "1. Neste vestibular, quem 'zera' em matemática, física ou química está desqualificado. Monte um novo *DataFrame* com os alunos desqualificados por este critério.\n",
    "2. Quantos são esses alunos?\n",
    "3. Qual a média desses alunos em história e geografia?\n",
    "4. Monte um *DataFrame* com os alunos que passaram para a segunda fase. Repare que estes alunos não podem ter sido desqualificados."
   ]
  },
  {
   "cell_type": "code",
   "execution_count": 16,
   "id": "1ee21255-9bee-4258-98ac-908147bfd553",
   "metadata": {},
   "outputs": [
    {
     "name": "stdout",
     "output_type": "stream",
     "text": [
      "Alunos desqualificados:\n",
      "     Matemática  Português  Geografia  Inglês  História  Física  Química  \\\n",
      "3           10          7          3       4         0       0        8   \n",
      "6            6          0          7       7         5       0        4   \n",
      "10          10          8          3       2         1       7        0   \n",
      "12          20          8          3       7         1       0        3   \n",
      "14           7         11          1       7         1       4        0   \n",
      "20          23         11          6       5         6       2        0   \n",
      "25           0          4          7       4         0       4        8   \n",
      "26          11         14          6       2         7       0        0   \n",
      "27          21         13          1       5         7       3        0   \n",
      "33          14          8          0       5         6       6        0   \n",
      "35          11         14          6       3         3       0       11   \n",
      "49           8          1          1       0         1       0        8   \n",
      "56           7          6          7       5         6       0        8   \n",
      "65           1          8          2       4         3       0        6   \n",
      "66           5          4          3       6         3       0       10   \n",
      "72          11         16          3       4         7       0        9   \n",
      "73           1         16          2       4         3       0       11   \n",
      "74           9         11          0       7         5       7        0   \n",
      "84          15          1          0       5         1       0        4   \n",
      "89          23         11          7       7         6       9        0   \n",
      "92          14         10          1       6         1       8        0   \n",
      "94           0          5          2       6         1       3        8   \n",
      "98           0         10          3       1         5      10       11   \n",
      "\n",
      "    Total_acertos  Percentual_geral  \n",
      "3              32         35.555556  \n",
      "6              29         32.222222  \n",
      "10             31         34.444444  \n",
      "12             42         46.666667  \n",
      "14             31         34.444444  \n",
      "20             53         58.888889  \n",
      "25             27         30.000000  \n",
      "26             40         44.444444  \n",
      "27             50         55.555556  \n",
      "33             39         43.333333  \n",
      "35             48         53.333333  \n",
      "49             19         21.111111  \n",
      "56             39         43.333333  \n",
      "65             24         26.666667  \n",
      "66             31         34.444444  \n",
      "72             50         55.555556  \n",
      "73             37         41.111111  \n",
      "74             39         43.333333  \n",
      "84             26         28.888889  \n",
      "89             63         70.000000  \n",
      "92             40         44.444444  \n",
      "94             25         27.777778  \n",
      "98             40         44.444444  \n"
     ]
    }
   ],
   "source": [
    "# 1. Alunos desqualificados (que zeraram em Matemática, Física ou Química)\n",
    "desqualificados = df_acertos[(df_acertos['Matemática'] == 0) | \n",
    "                             (df_acertos['Física'] == 0) | \n",
    "                             (df_acertos['Química'] == 0)]\n",
    "print(\"Alunos desqualificados:\\n\", desqualificados)"
   ]
  },
  {
   "cell_type": "code",
   "execution_count": 17,
   "id": "026e04a9-ce9e-4b01-81e3-15ec4aae666e",
   "metadata": {},
   "outputs": [
    {
     "name": "stdout",
     "output_type": "stream",
     "text": [
      "\n",
      "Número de alunos desqualificados: 23\n"
     ]
    }
   ],
   "source": [
    "# 2. Quantos são esses alunos?\n",
    "num_desqualificados = len(desqualificados)\n",
    "print(\"\\nNúmero de alunos desqualificados:\", num_desqualificados)"
   ]
  },
  {
   "cell_type": "code",
   "execution_count": 18,
   "id": "5fc2b227-56d8-4219-ae4f-77185f6b61fe",
   "metadata": {},
   "outputs": [
    {
     "name": "stdout",
     "output_type": "stream",
     "text": [
      "\n",
      "Média dos desqualificados em História e Geografia:\n",
      " História     3.434783\n",
      "Geografia    3.217391\n",
      "dtype: float64\n"
     ]
    }
   ],
   "source": [
    "# 3. Média dos desqualificados em História e Geografia\n",
    "media_his_geo_desqualificados = desqualificados[['História', 'Geografia']].mean()\n",
    "print(\"\\nMédia dos desqualificados em História e Geografia:\\n\", media_his_geo_desqualificados)"
   ]
  },
  {
   "cell_type": "code",
   "execution_count": 19,
   "id": "3b67b4dc-59ce-44f8-acbe-82643f113136",
   "metadata": {},
   "outputs": [
    {
     "name": "stdout",
     "output_type": "stream",
     "text": [
      "\n",
      "Alunos que passaram para a segunda fase:\n",
      "     Matemática  Português  Geografia  Inglês  História  Física  Química  \\\n",
      "0            6          7          7       3         1       8        3   \n",
      "1           19         10          0       0         0      11        8   \n",
      "2           14         16          0       5         7       4        4   \n",
      "4            7          2          2       7         0       9        3   \n",
      "5           20          2          5       3         2       9        9   \n",
      "..         ...        ...        ...     ...       ...     ...      ...   \n",
      "93          12         16          5       5         6       6        6   \n",
      "95           6          4          7       1         4       9        3   \n",
      "96           8          1          4       6         1       4        3   \n",
      "97          23          5          0       2         4       1        5   \n",
      "99          11         15          0       1         6       7        2   \n",
      "\n",
      "    Total_acertos  Percentual_geral  \n",
      "0              35         38.888889  \n",
      "1              48         53.333333  \n",
      "2              50         55.555556  \n",
      "4              30         33.333333  \n",
      "5              50         55.555556  \n",
      "..            ...               ...  \n",
      "93             56         62.222222  \n",
      "95             34         37.777778  \n",
      "96             27         30.000000  \n",
      "97             40         44.444444  \n",
      "99             42         46.666667  \n",
      "\n",
      "[77 rows x 9 columns]\n"
     ]
    }
   ],
   "source": [
    "# 4. Alunos que passaram para a segunda fase\n",
    "passaram_segunda_fase = df_acertos.drop(desqualificados.index)\n",
    "print(\"\\nAlunos que passaram para a segunda fase:\\n\", passaram_segunda_fase)"
   ]
  },
  {
   "cell_type": "markdown",
   "id": "5bcbbc83-b570-4906-9617-2b2bc1cab06a",
   "metadata": {},
   "source": [
    "3) Vacinações no Acre\n",
    "Vamos trabalhar agora com a base de vacinações no Acre. Para facilitar a sua vida, copiamos o link do arquivo na célula abaixo.\n",
    "\n",
    "1. Quantas vacinas estão registradas nessa base?  \n",
    "2. Quantos pacientes foram vacinados? (considere um paciente para cada valor único de ```paciente_id```)  \n",
    "3. Quantos pacientes únicos tomaram a primeira dose? OBS: Há um caractere especial neste campo. Receba os valores do campo com o método ```.unique()```.   \n",
    "4. Quantos pacientes com menos de 18 anos foram vacinados?  \n",
    "5. Quantos estabelecimentos aplicaram vacina no Acre?\n",
    "\n",
    "\n",
    "**OBS:** O portal do DATASUS pode apresentar instabilidades, retornando um erro na segunda célula abaixo. Por este motivo está disponível uma base estática, que se for baixada para o seu *working directory* pode ser lida com este comando: ```df = pd.read_csv('registros de vacinacao covid ACRE.csv', sep=';')```.\n",
    "\n",
    "**OBS2:** Para saber qual é o seu working directory, rode no jupyter: ```!pwd```."
   ]
  },
  {
   "cell_type": "code",
   "execution_count": 26,
   "id": "dac51dd4-c531-4a2c-a31b-51d07f1bd26c",
   "metadata": {},
   "outputs": [],
   "source": [
    "arquivo = 'https://opendatasus.saude.gov.br/dataset/covid-19-vacinacao/resource/5093679f-12c3-4d6b-b7bd-07694de54173'"
   ]
  },
  {
   "cell_type": "code",
   "execution_count": 32,
   "id": "b6c3d202-8fd4-4d21-ae9e-25a2e9f8e718",
   "metadata": {},
   "outputs": [],
   "source": [
    "df = pd.read_csv('https://s3.sa-east-1.amazonaws.com/ckan.saude.gov.br/SIPNI/COVID/uf/uf%3DAC/part-00000-e0449c10-3cac-4966-bb42-b7ce73b550ad.c000.csv', sep=';')"
   ]
  },
  {
   "cell_type": "code",
   "execution_count": 34,
   "id": "31a2fb27-e3f6-47f6-9917-d2be0777feef",
   "metadata": {},
   "outputs": [
    {
     "name": "stdout",
     "output_type": "stream",
     "text": [
      "                                 document_id  \\\n",
      "0  6cd4a65e-468d-4513-8471-c7f375601e2a-i0b0   \n",
      "1  fad14228-9e6e-4895-8dd5-d590bceaa136-i0b0   \n",
      "2  3f58557a-7396-42be-9a52-fa5044f61807-i0b0   \n",
      "3  fadbea84-381c-4e84-920c-fdd146d96744-i0b0   \n",
      "4  45861b6a-dc2a-4ddd-abe4-e3981d26a52c-i0b0   \n",
      "\n",
      "                                         paciente_id  paciente_idade  \\\n",
      "0  2ae64c3bc415748c396e7944e7d4995dd710a540d2dd5b...              65   \n",
      "1  9f7c6a218929e7cd3763aaf6174b3bd104a79d5f9fb796...              16   \n",
      "2  19d2db3163dd142728c95725a4c088f502f2ea44dab6f2...              66   \n",
      "3  59ea685f572ee8be8c48fef8962167a2b96ab5627613a2...              30   \n",
      "4  8b47d7cf7a5b8a1f1b86da56c2edbb82f2c9c98f53b2dc...              25   \n",
      "\n",
      "  paciente_dataNascimento paciente_enumSexoBiologico  paciente_racaCor_codigo  \\\n",
      "0              1957-06-21                          F                        4   \n",
      "1              2005-06-27                          M                       99   \n",
      "2              1955-06-02                          M                       99   \n",
      "3              1993-11-30                          F                        3   \n",
      "4              1995-12-17                          M                       99   \n",
      "\n",
      "  paciente_racaCor_valor  paciente_endereco_coIbgeMunicipio  \\\n",
      "0                AMARELA                           120040.0   \n",
      "1         SEM INFORMACAO                           120040.0   \n",
      "2         SEM INFORMACAO                           120040.0   \n",
      "3                  PARDA                           120040.0   \n",
      "4         SEM INFORMACAO                           120040.0   \n",
      "\n",
      "   paciente_endereco_coPais paciente_endereco_nmMunicipio  ...  \\\n",
      "0                      10.0                    RIO BRANCO  ...   \n",
      "1                      10.0                    RIO BRANCO  ...   \n",
      "2                      10.0                    RIO BRANCO  ...   \n",
      "3                      10.0                    RIO BRANCO  ...   \n",
      "4                      10.0                    RIO BRANCO  ...   \n",
      "\n",
      "  vacina_categoria_codigo      vacina_categoria_nome  vacina_lote  \\\n",
      "0                     2.0               Faixa Etária       GF9670   \n",
      "1                     2.0               Faixa Etária       FD7221   \n",
      "2                     2.0               Faixa Etária   214VCD053W   \n",
      "3                    21.0                  Gestantes       230165   \n",
      "4                    16.0  Trabalhadores Industriais   215VCD134Z   \n",
      "\n",
      "  vacina_fabricante_nome  vacina_fabricante_referencia vacina_dataAplicacao  \\\n",
      "0                 PFIZER                         28290           2023-03-02   \n",
      "1                 PFIZER   Organization/00394544000851           2021-08-13   \n",
      "2    ASTRAZENECA/FIOCRUZ   Organization/33781055000135           2021-06-29   \n",
      "3               BUTANTAN                           152           2024-03-05   \n",
      "4    ASTRAZENECA/FIOCRUZ   Organization/33781055000135           2021-08-05   \n",
      "\n",
      "  vacina_descricao_dose  vacina_codigo  \\\n",
      "0               Reforço            103   \n",
      "1               1ª Dose             87   \n",
      "2               2ª Dose             85   \n",
      "3                 Única             33   \n",
      "4               2ª Dose             85   \n",
      "\n",
      "                                 vacina_nome sistema_origem  \n",
      "0      COVID-19 PFIZER - COMIRNATY BIVALENTE       Novo PNI  \n",
      "1                COVID-19 PFIZER - COMIRNATY       Novo PNI  \n",
      "2  COVID-19 ASTRAZENECA/FIOCRUZ - COVISHIELD       Novo PNI  \n",
      "3                                       INF3       Novo PNI  \n",
      "4  COVID-19 ASTRAZENECA/FIOCRUZ - COVISHIELD       Novo PNI  \n",
      "\n",
      "[5 rows x 32 columns]\n"
     ]
    }
   ],
   "source": [
    "print(df.head())"
   ]
  },
  {
   "cell_type": "code",
   "execution_count": 35,
   "id": "afd46dbd-9272-44a5-88c0-c8f2d1124200",
   "metadata": {},
   "outputs": [
    {
     "name": "stdout",
     "output_type": "stream",
     "text": [
      "Número total de vacinas registradas: 390911\n"
     ]
    }
   ],
   "source": [
    "# 1. Quantas vacinas estão registradas nessa base?\n",
    "num_vacinas = len(df)\n",
    "print(f\"Número total de vacinas registradas: {num_vacinas}\")"
   ]
  },
  {
   "cell_type": "code",
   "execution_count": 36,
   "id": "03333e7b-4e3c-4e73-a694-bba39d437aa9",
   "metadata": {},
   "outputs": [
    {
     "name": "stdout",
     "output_type": "stream",
     "text": [
      "Número total de pacientes vacinados: 318850\n"
     ]
    }
   ],
   "source": [
    "# 2. Quantos pacientes foram vacinados? (considerando valores únicos de `paciente_id`)\n",
    "pacientes_unicos = df['paciente_id'].nunique()\n",
    "print(f\"Número total de pacientes vacinados: {pacientes_unicos}\")"
   ]
  },
  {
   "cell_type": "code",
   "execution_count": 37,
   "id": "9bf3736b-79a4-4290-90e4-e26aef2ec69f",
   "metadata": {},
   "outputs": [
    {
     "name": "stdout",
     "output_type": "stream",
     "text": [
      "Número total de pacientes que tomaram a primeira dose: 144276\n"
     ]
    }
   ],
   "source": [
    "# 3. Quantos pacientes únicos tomaram a primeira dose? (Tratando caracteres especiais no campo)\n",
    "primeira_dose = df[df['vacina_descricao_dose'].str.contains('1ª', na=False)]['paciente_id'].nunique()\n",
    "print(f\"Número total de pacientes que tomaram a primeira dose: {primeira_dose}\")"
   ]
  },
  {
   "cell_type": "code",
   "execution_count": 38,
   "id": "1856f463-1188-47e4-97d8-61818e81623f",
   "metadata": {},
   "outputs": [
    {
     "name": "stdout",
     "output_type": "stream",
     "text": [
      "Número de estabelecimentos que aplicaram vacinas: 64\n"
     ]
    }
   ],
   "source": [
    "# 5. Quantos estabelecimentos aplicaram vacina no Acre?\n",
    "estabelecimentos_unicos = df['estabelecimento_razaoSocial'].nunique()\n",
    "print(f\"Número de estabelecimentos que aplicaram vacinas: {estabelecimentos_unicos}\")"
   ]
  },
  {
   "cell_type": "markdown",
   "id": "a2adb3ae-4c47-4a98-a0fd-66c9ce2a80a8",
   "metadata": {},
   "source": [
    "4) Vacinação II\r\n",
    "Gere um *DataFrame* que contenha somente os estabelecimentos que aplicaram vcinas a menores de 18 anos. Nesse *DataFrame* devem conter somente os dados dos estabelecimentos, mais uma coluna sendo a quantidade de vacinas que o estabelecimento aplicou a menores de 18 anos.  \r\n",
    "  \r\n",
    "1. crie uma cópia do *DataFrame* original, contendo somente os registros de vacinas realizadas a menores de 18 anos.  \r\n",
    "2. crie uma lista das colunas desse *DataFrame* com o atributo de *DataFrame* **.columns()**  \r\n",
    "3. Nesse *DataFrame* faça uma contagem do campo ```vacina_categoria_nome```.\r\n",
    "3. a partir da lista de colunas, escolha somente aquelas que são referentes ao estabelecimento, faça uma lista com esses valores.  \r\n",
    "4. usando o método *.loc*, selecione somente essas variáveis  \r\n",
    "5. Aplique o método **.drop_duplicates** e crie uma lista com uma linha para cada estabelecimento, com os dados do estabelecimento "
   ]
  },
  {
   "cell_type": "code",
   "execution_count": 40,
   "id": "50171a34-17e5-4864-98a4-c09c8edbad0e",
   "metadata": {},
   "outputs": [],
   "source": [
    "# Criando uma cópia com vacinas aplicadas a menores de 18 anos\n",
    "df_menores_18 = df[df['paciente_idade'] < 18].copy()"
   ]
  },
  {
   "cell_type": "code",
   "execution_count": 41,
   "id": "cd54811a-31aa-490f-8ada-34a162c5f9ef",
   "metadata": {},
   "outputs": [
    {
     "name": "stdout",
     "output_type": "stream",
     "text": [
      "Index(['document_id', 'paciente_id', 'paciente_idade',\n",
      "       'paciente_dataNascimento', 'paciente_enumSexoBiologico',\n",
      "       'paciente_racaCor_codigo', 'paciente_racaCor_valor',\n",
      "       'paciente_endereco_coIbgeMunicipio', 'paciente_endereco_coPais',\n",
      "       'paciente_endereco_nmMunicipio', 'paciente_endereco_nmPais',\n",
      "       'paciente_endereco_uf', 'paciente_endereco_cep',\n",
      "       'paciente_nacionalidade_enumNacionalidade', 'estabelecimento_valor',\n",
      "       'estabelecimento_razaoSocial', 'estalecimento_noFantasia',\n",
      "       'estabelecimento_municipio_codigo', 'estabelecimento_municipio_nome',\n",
      "       'estabelecimento_uf', 'vacina_grupoAtendimento_codigo',\n",
      "       'vacina_grupoAtendimento_nome', 'vacina_categoria_codigo',\n",
      "       'vacina_categoria_nome', 'vacina_lote', 'vacina_fabricante_nome',\n",
      "       'vacina_fabricante_referencia', 'vacina_dataAplicacao',\n",
      "       'vacina_descricao_dose', 'vacina_codigo', 'vacina_nome',\n",
      "       'sistema_origem'],\n",
      "      dtype='object')\n"
     ]
    }
   ],
   "source": [
    "# Listar as colunas do DataFrame\n",
    "colunas = df_menores_18.columns\n",
    "print(colunas)"
   ]
  },
  {
   "cell_type": "code",
   "execution_count": 48,
   "id": "c9f7b387-cac6-437f-9ed4-96e7b265d2ba",
   "metadata": {},
   "outputs": [
    {
     "name": "stdout",
     "output_type": "stream",
     "text": [
      "vacina_categoria_nome\n",
      "Faixa Etária                                      49015\n",
      "Povos Indígenas                                    4934\n",
      "Outros                                             3755\n",
      "Povos e Comunidades Tradicionais                    875\n",
      "Trabalhadores de Saúde                              264\n",
      "Comorbidades                                         58\n",
      "População Privada de Liberdade                       53\n",
      "Gestantes                                            47\n",
      "Trabalhadores da Educação                            14\n",
      "Trabalhadores de Transporte                          13\n",
      "Pessoas com Deficiência                              11\n",
      "Pessoas Institucionalizadas                           3\n",
      "Pessoas de 60 anos ou mais institucionalizadas        1\n",
      "Puérperas                                             1\n",
      "Name: count, dtype: int64\n"
     ]
    }
   ],
   "source": [
    "# Contagem de vacinas por categoria\n",
    "contagem_vacinas = df_menores_18['vacina_categoria_nome'].value_counts()\n",
    "print(contagem_vacinas)"
   ]
  },
  {
   "cell_type": "code",
   "execution_count": 55,
   "id": "2e95f436-ccd3-422f-bffd-a4156e12ac1c",
   "metadata": {},
   "outputs": [],
   "source": [
    "# Definindo colunas de interesse relacionadas aos estabelecimentos\n",
    "colunas_estabelecimento = ['estabelecimento_razaoSocial', 'estabelecimento_municipio_nome', 'estabelecimento_uf', 'estalecimento_noFantasia']"
   ]
  },
  {
   "cell_type": "code",
   "execution_count": 57,
   "id": "a96372ce-7702-4563-8d53-fabfdafeb4f0",
   "metadata": {},
   "outputs": [],
   "source": [
    "# Selecionar apenas as colunas dos estabelecimentos\n",
    "df_estabelecimentos = df_menores_18.loc[:, colunas_estabelecimento]"
   ]
  },
  {
   "cell_type": "code",
   "execution_count": 58,
   "id": "570c4987-a37a-484a-8a9e-dc4a80d56e72",
   "metadata": {},
   "outputs": [
    {
     "name": "stdout",
     "output_type": "stream",
     "text": [
      "[6917291, 'PREFEITURA MUNICIPAL DE RIO BRANCO', 'DEPARTAMENTO DE VIGILANCIA EPIDEMIOLOGICA E AMBIENTAL', 120040, 'RIO BRANCO', 'AC']\n",
      "[2002922, 'SECRETARIA MUNICIPAL DE SAUDE', 'U S F JOAO DE DEUS', 120038, 'PLACIDO DE CASTRO', 'AC']\n",
      "[2000482, 'PREFEITURA MUNICIPAL DE RIO BRANCO', 'URAP VILA IVONETE', 120040, 'RIO BRANCO', 'AC']\n",
      "[924490, 'PREFEITURA MUNICIPAL DE FEIJO', 'UNIDADE MOVEL DE SAUDE FLUVIAL PEDRO RODRIGUES CAVALCANTE', 120030, 'FEIJO', 'AC']\n",
      "[3544915, 'PREFEITURA MUNICIPAL DE FEIJO', 'UNIDADE DE SAUDE DA FAMILIA DULCE DE ARAUJO ANDRADE SENA', 120030, 'FEIJO', 'AC']\n",
      "[3810771, 'PREFEITURA MUNICIPAL DE TARAUACA', 'UNIDADE DE S DA FAMILIA DR JOSE LEONCIO GOMES RODRIGUES', 120060, 'TARAUACA', 'AC']\n",
      "[2000040, 'PREFEITURA MUNICIPAL DE FEIJO', 'CENTRO DE SAUDE DIAMANTINO MACEDO', 120030, 'FEIJO', 'AC']\n",
      "[7625855, 'DISTRITO SANITARIO ESPECIAL INDIGENA ALTO RIO JURUA', 'POLO BASE DE MARECHAL THAUMATURGO', 120035, 'MARECHAL THAUMATURGO', 'AC']\n",
      "[6917682, 'DISTRITO SANITARIO ESPECIAL INDIGENA ALTO RIO JURUA', 'POLO BASE DE CRUZEIRO DO SUL', 120020, 'CRUZEIRO DO SUL', 'AC']\n",
      "[468363, 'REDE DE FRIOS', 'REDE DE FRIOS', 120033, 'MANCIO LIMA', 'AC']\n",
      "[2002299, 'PREFEITURA MUNICIPAL DE CRUZEIRO DO SUL', 'UNIDADE DE SAUDE ADALTO JOSE BATISTA', 120020, 'CRUZEIRO DO SUL', 'AC']\n",
      "[2001225, 'PREFEITURA MUNICIPAL DE XAPURI', 'UNIDADE DE SAUDE DA FAMILIA JOSE FRANCISCO SILVA', 120070, 'XAPURI', 'AC']\n",
      "[2000903, 'PREFEITURA MUNICIPAL DE SENA MADUREIRA', 'UNIDADE BASICA DE SAUDE FLORLIRIO PEREIRA LUSTOSA', 120050, 'SENA MADUREIRA', 'AC']\n",
      "[7247435, 'PREFEITURA MUNICIPAL DE SAUDE', 'UNIDADE DE SAUDE DA FAMILIA RAIMUNDO CELSO LIMA VERDE', 120020, 'CRUZEIRO DO SUL', 'AC']\n",
      "[2002272, 'PREFEITURA MUNICIPAL DE MANCIO LIMA', 'UNIDADE S FAMILIA DR CERQUEIRA', 120033, 'MANCIO LIMA', 'AC']\n",
      "[5354072, 'PREFEITURA MUNICIPAL DE JORDAO', 'UNIDADE DE SAUDE DA FAMILIA ANTONIO RODRIGUES DOURADO', 120032, 'JORDAO', 'AC']\n",
      "[7110065, 'PREFEITURA MUNICIPAL DE RIO BRANCO', 'USF GENTIL PERDOMO DA ROCHA', 120040, 'RIO BRANCO', 'AC']\n",
      "[3015521, 'PREFEITURA MUNICIPAL DE RIO BRANCO', 'USF RECANTO DOS BURITIS II', 120040, 'RIO BRANCO', 'AC']\n",
      "[3015548, 'PREFEITURA MUNICIPAL DE RIO BRANCO', 'USF PLATILDE OLIVEIRA', 120040, 'RIO BRANCO', 'AC']\n",
      "[7797494, 'PREFEITURA MUNICIPAL DE FEIJO', 'U S F FLORINDA VIEIRA DA COSTA', 120030, 'FEIJO', 'AC']\n",
      "[2001349, 'PREFEITURA MUNICIPAL DE BRASILEIA', 'ESF TUFIC MIZAEL SAADY', 120010, 'BRASILEIA', 'AC']\n",
      "[2000962, 'PREFEITURA MUNICIPAL DE MANUEL URBANO', 'UNIDADE DE SAUDE JOSEFA NUNES', 120034, 'MANOEL URBANO', 'AC']\n",
      "[7561113, 'PREFEITURA MUNICIPAL DE CRUZEIRO DO SUL', 'UNIDADE BASICA DE SAUDE EUCLIDES QUEIROS FILHO', 120020, 'CRUZEIRO DO SUL', 'AC']\n",
      "[2001217, 'PREFEITURA MUNICIPAL DE XAPURI', 'UNIDADE SAUDE DA FAMILIA JOSE FADUL', 120070, 'XAPURI', 'AC']\n",
      "[3797554, 'PREFEITURA MUNICIPAL DE ASSIS BRASIL', 'UNIDADE BASICA DE SAUDE ANTONIO ALVES CAVALCANTE', 120005, 'ASSIS BRASIL', 'AC']\n",
      "[7139454, 'PREFEITURA MUNICIPAL DE CRUZEIRO DO SUL', 'UNIDADE DE SAUDE DA FAMILIA FLUVIAL MARIETA CAMELI', 120020, 'CRUZEIRO DO SUL', 'AC']\n",
      "[2002221, 'PREFEITURA MUNICIPAL MANCIO LIMA', 'U S F FRANCISCO ALENCAR', 120033, 'MANCIO LIMA', 'AC']\n",
      "[2002132, 'PREFEITURA MUN DE MAL THAUMATURGO', 'ESF RIBEIRINHA DR NALDIR MARIANO', 120035, 'MARECHAL THAUMATURGO', 'AC']\n",
      "[2001314, 'PREFEITURA MUNICIPAL DE EPITACIOLANDIA', 'ESF JOAO ALVES DA SILVA', 120025, 'EPITACIOLANDIA', 'AC']\n",
      "[2002566, 'PREFEITURA MUNICIPAL DE SENA MADUREIRA', 'UNIDADE BASICA DE SAUDE LAURO FONTES DA SILVA', 120050, 'SENA MADUREIRA', 'AC']\n",
      "[2000202, 'PREFEITURA MUNICIPAL DE CRUZEIRO DO SUL', 'UNIDADE DE SAUDE DA FAM SENADOR ADALBERTO SENA', 120020, 'CRUZEIRO DO SUL', 'AC']\n",
      "[6955525, 'DISTRITO SANITARIO ESPECIAL INDIGENA ALTO RIO JURUA', 'POLO BASE DE MANCIO LIMA', 120033, 'MANCIO LIMA', 'AC']\n",
      "[6428940, 'PREFEITURA MUNICIPAL DE ASSIS BRASIL', 'POLO BASE DE ASSIS BRASIL', 120005, 'ASSIS BRASIL', 'AC']\n",
      "[6159087, 'PREFEITURA MUNICIPAL DE CRUZEIRO DO SUL', 'SECRETARIA MUNICIPAL DE SAUDE DE CRUZEIRO DO SUL', 120020, 'CRUZEIRO DO SUL', 'AC']\n",
      "[2000407, 'PREFEITURA MUNICIPAL DE XAPURI', 'UNIDADE DE SAUDE DA FAMILIA DR FELIX BESTENE NETO', 120070, 'XAPURI', 'AC']\n",
      "[2002914, 'PREFEITURA MUNICIPAL DE CRUZEIRO DO SUL', 'UNIDADE SAUDE DA FAMILIA 25 DE AGOSTO', 120020, 'CRUZEIRO DO SUL', 'AC']\n",
      "[2000601, 'PREFEITURA MUNICIPAL DE CRUZEIRO DO SUL', 'UNIDADE DE SAUDE DA FAMILIA MANOEL RODRIGUES DE ARAUJO', 120020, 'CRUZEIRO DO SUL', 'AC']\n",
      "[2003198, 'MUNICIPIO DE RIO BRANCO', 'URAP MARIA BARROSO DA SILVA', 120040, 'RIO BRANCO', 'AC']\n",
      "[6612385, 'POLO BASE DE TARAUACA', 'UNIDADE ASSISTENCIAL A SAUDE INDIGENA DE TARAUACA POLO BASE', 120060, 'TARAUACA', 'AC']\n",
      "[2000660, 'PREFEITURA MUNICIPAL DE SENADOR GUIOMARD', 'CENTRO DE SAUDE MARIA DO SOCORRO CAVALCANTE', 120045, 'SENADOR GUIOMARD', 'AC']\n",
      "[2003066, 'PREFEITURA MUNICIPAL DE ASSIS BRASIL', 'UNIDADE BASICA DE SAUDE TEREZINHA BATISTA DOS SANTOS', 120005, 'ASSIS BRASIL', 'AC']\n",
      "[2000342, 'PREFEITURA MUNICIPAL DE CRUZEIRO DO SUL', 'UNIDADE DE SAUDE DA FAMILIA ABEL PINHEIRO', 120020, 'CRUZEIRO DO SUL', 'AC']\n",
      "[2002825, 'PREFEITURA MUNICIPAL DE FEIJO', 'U S F FRANCISCA XAVIER FERREIRA', 120030, 'FEIJO', 'AC']\n",
      "[2001772, 'PREFEITURA MUNICIPAL DE SANTA ROSA DO PURUS', 'CENTRO DE SAUDE PAULO ALCIONE MARQUES', 120043, 'SANTA ROSA DO PURUS', 'AC']\n",
      "[3541592, 'PREFEITURA MUNICIPAL DE SENA MADUREIRA', 'UNIDADE BASICA DE SAUDE MARIA DAS DORES DE PAULA', 120050, 'SENA MADUREIRA', 'AC']\n",
      "[5981891, 'PREFEITURA MUNICIIPAL DE SENA MADUREIRA', 'UNIDADE BASICA DE SAUDE MODULO I', 120050, 'SENA MADUREIRA', 'AC']\n",
      "[2000598, 'PREFEITURA MUNICIPAL DE CRUZEIRO DO SUL', 'UNIDADE BASICA DE SAUDE GEOVANA MARIA FREITAS DO VALE', 120020, 'CRUZEIRO DO SUL', 'AC']\n",
      "[6430201, 'DISTRITO SANITARIO ESPECIAL INDIGENA ALTO JURUA', 'POLO BASE INDIGENA', 120032, 'JORDAO', 'AC']\n",
      "[2000113, 'PREFEITURA MUNICIPAL DE TARAUACA', 'UNIDADE DE SAUDE DA FAMILIA MARILIA VIEIRA LIMA DE SOUZA', 120060, 'TARAUACA', 'AC']\n",
      "[2000067, 'PREFEITURA MUNICIPAL DE FEIJO', 'U S F FRANCISCA LIMA', 120030, 'FEIJO', 'AC']\n",
      "[2306379, 'PREFEITURA MUNICIPAL DE RIO BRANCO', 'USF FRANCISCO CONSTANCIO DA SILVA', 120040, 'RIO BRANCO', 'AC']\n",
      "[2002876, 'SECRETARIA MUNCIPAL DE SAUDE', 'CENTRO DE SAUDE RAIMUNDA PORFIRIO DE BRITO RAMOS', 120013, 'BUJARI', 'AC']\n",
      "[7036302, 'DISTRITO SANITARIO ESPECIAL INDIGENA ALTO RIO JURUA', 'DISTRITO SANITARIO ESPECIAL INDIGENA ALTO RIO JURUA', 120020, 'CRUZEIRO DO SUL', 'AC']\n",
      "[2000075, 'MUNICIPIO DE RIO BRANCO', 'POLICLINICA BARRAL Y BARRAL', 120040, 'RIO BRANCO', 'AC']\n",
      "[6992811, 'PREFEITURA MUNICIPAL DE SENA MADUREIRA', 'UNIDADE BASICA DE SAUDE MANOEL FERNANDES VIEIRA', 120050, 'SENA MADUREIRA', 'AC']\n",
      "[2000237, 'PREFEITURA MUNICIPAL DE CRUZEIRO DO SUL', 'UNIDADE DE SAUDE DA FAMILIA J LINS', 120020, 'CRUZEIRO DO SUL', 'AC']\n",
      "[2001934, 'PREFEITURA MUNICIPAL DE XAPURI', 'UNIDADE DE SAUDE DA FAMILIA JOSE RAIMUNDO DE MELO', 120070, 'XAPURI', 'AC']\n",
      "[2001101, 'PREFEITURA MUNICIPAL DE PORTO ACRE', 'UNIDADE DE SAUDE DA FAMILIA RAIMUNDA BITENCOURT DA SILVA', 120080, 'PORTO ACRE', 'AC']\n",
      "[899593, 'MUNICIPIO DE MANCIO LIMA', 'UBS LINA BANDEIRA DA ROCHA', 120033, 'MANCIO LIMA', 'AC']\n",
      "[2001829, 'PREFEITURA MUNICIPAL DE RIO BRANCO', 'USF BENFICA', 120040, 'RIO BRANCO', 'AC']\n",
      "[2000326, 'PREFEITURA MUNICIPAL DE CRUZEIRO DO SUL', 'UNIDADE DE SAUDE DA FAMILIA GEOSETE COELHO MARIANO', 120020, 'CRUZEIRO DO SUL', 'AC']\n",
      "[2000156, 'PREFEITURA MUNICIPAL DE TARAUACA', 'UNIDADE BASICA DE SAUDE JOAO WANDERLEI', 120060, 'TARAUACA', 'AC']\n",
      "[6289312, 'DISTRITO SANITARIO ESPECIAL INDIGENA ALTO RIO PURUS', 'POLO BASE DE SANTA ROSA DO PURUS', 120043, 'SANTA ROSA DO PURUS', 'AC']\n",
      "[6308740, 'DISTRITO SANITARIO ESPECIAL INDIGENA ALTO RIO JURUA', 'POLO BASE DE PORTO WALTER', 120039, 'PORTO WALTER', 'AC']\n",
      "[2000016, 'PREFEITURA MUNICIPAL DE RODRIGUES ALVES', 'UNIDADE BASICA PADRE TEODORO ARNDS', 120042, 'RODRIGUES ALVES', 'AC']\n",
      "[2001306, 'MUNICIPIO DE RIO BRANCO', 'URAP DRA CLAUDIA VITORINO', 120040, 'RIO BRANCO', 'AC']\n",
      "[2000504, 'PREFEITURA MUNICIPAL DE PORTO ACRE', 'UNIDADE DE SAUDE DA FAMILIA ILDA BARBOSA DE SOUZA', 120080, 'PORTO ACRE', 'AC']\n",
      "[2000954, 'PREFEITURA MUNICIPAL DE MANUEL URBANO', 'UNIDADE DE SAUDE INACIO RIBEIRO DA SILVA', 120034, 'MANOEL URBANO', 'AC']\n",
      "[9648968, 'DISTRITO SANITARIO ESPECIAL DE SAUDE INDIGENA ALTO RIO PURUS', 'UNIDADE BASICA DE SAUDE BUACU', 120034, 'MANOEL URBANO', 'AC']\n",
      "[2001039, 'PREFEITURA MUNICIPAL DE CAPIXABA', 'UNIDADE DE SAUDE DA FAMILIA DR LUIZ FERNANDO MAGALHAES', 120017, 'CAPIXABA', 'AC']\n",
      "[2000369, 'PREFEITURA MUNICIPAL DE CRUZEIRO DO SUL', 'UNIDADE DA SAUDE DA FAM JOSE MATHEUS ARNALDO DOS SANTOS', 120020, 'CRUZEIRO DO SUL', 'AC']\n",
      "[3901009, 'PREFEITURA MUNICIPAL DE TARAUACA', 'UNIDADE DE SAUDE DA FAMILIA 24 DE ABRIL', 120060, 'TARAUACA', 'AC']\n",
      "[2000164, 'PREFEITURA MUNICIPAL DE TARAUACA', 'UNIDADE DE SAUDE DA FAMILIA MARIA DA LUZ', 120060, 'TARAUACA', 'AC']\n",
      "[7232489, 'PREFEITURA MUNICIPAL DE SAUDE', 'UNIDADE DE SAUDE DA FAMILIA FRANCISCO SOUZA DOS SANTOS', 120020, 'CRUZEIRO DO SUL', 'AC']\n",
      "[2002302, 'PREFEITURA MUNICIPAL DE CRUZEIRO DO SUL', 'POSTO DE SAUDE VITAL BRASIL', 120020, 'CRUZEIRO DO SUL', 'AC']\n",
      "[6748759, 'DISTRITO SANITARIO ESPECIAL INDIGENA ALTO RIO JURUA', 'POLO BASE DE FEIJO', 120030, 'FEIJO', 'AC']\n",
      "[3007367, 'PREFEITURA MUNICIPAL DE SENA MADUREIRA', 'UNIDADE BASICA DE SAUDE AGUINALDO NUNES DE OLIVEIRA', 120050, 'SENA MADUREIRA', 'AC']\n",
      "[3449432, 'PREFEITURA MUNICIPAL DE SENA MADUREIRA', 'UNIDADE BASICA DE SAUDE FLORIANO FLORENTINO M DA SILVA', 120050, 'SENA MADUREIRA', 'AC']\n",
      "[2000628, 'PREFEITURA MUNICIPAL DE CRUZEIRO DO SUL', 'UNIDADE DE SAUDE DA FAMILIA OSMAR D ALBUQUERQUE LIMA', 120020, 'CRUZEIRO DO SUL', 'AC']\n",
      "[3006166, 'PREFEITURA MUNICIPAL DE ACRELANDIA', 'UNIDADE DE SAUDE DA FAMILIA NORTON VITORINO BOHEN', 120001, 'ACRELANDIA', 'AC']\n",
      "[2000555, 'PREFEITURA MUNICIPAL DE CRUZEIRO DO SUL', 'UNIDADE BASICA DE SAUDE PENTECOSTES', 120020, 'CRUZEIRO DO SUL', 'AC']\n",
      "[2000873, 'PREFEITURA MUNICIPAL DE SENA MADUREIRA', 'UNIDADE BASICA DE SAUDE EDSON SALES', 120050, 'SENA MADUREIRA', 'AC']\n",
      "[2000458, 'PREFEITURA MUNICIPAL DE RIO BRANCO', 'USF MARIA DE FATIMA', 120040, 'RIO BRANCO', 'AC']\n",
      "[7123043, 'PREFEITURA MUNICIPAL DE JORDAO', 'SAUDE DA FAMILIA RIBEIRINHA', 120032, 'JORDAO', 'AC']\n",
      "[3752259, 'PREFEITURA MUNICIPAL DE RIO BRANCO', 'USF NIMEO INSFRAN MARTINEZ', 120040, 'RIO BRANCO', 'AC']\n",
      "[2001128, 'PREFEITURA MUNICIPAL DE PORTO ACRE', 'UNIDADE DE SAUDE DA FAMILIA MARIA SOLEDADE SOARES GADELHA', 120080, 'PORTO ACRE', 'AC']\n",
      "[7147422, 'SECRETARIA DE ESTADO DE SAUDE', 'CENTRO DE REFERENCIA PARA IMUNOBIOLOGICOS ESPECIAIS CRIE', 120040, 'RIO BRANCO', 'AC']\n",
      "[2001845, 'PREFEITURA MUNICIPAL DE RIO BRANCO', 'USF BELO JARDIM I', 120040, 'RIO BRANCO', 'AC']\n",
      "[2000261, 'PREFEITURA MUNICIPAL DE CRUZEIRO DO SUL', 'UNIDADE DE SAUDE DA FAMILIA PROF QUITA', 120020, 'CRUZEIRO DO SUL', 'AC']\n",
      "[2000547, 'PREFEITURA MUNICIPAL DE CRUZEIRO DO SUL', 'UNIDADE DE SAUDE DA FAMILIA LUIZ GONZAGA', 120020, 'CRUZEIRO DO SUL', 'AC']\n",
      "[7915241, 'PREFEITURA MUNICIPAL DE SAUDE', 'UNIDADE DE SAUDE DA FAMILIA BOCA DO MOA ARITO ROSAS', 120020, 'CRUZEIRO DO SUL', 'AC']\n",
      "[6612385, 'PREFEITURA MUNICIPAL DE TARAUACA', 'UNIDADE ASSISTENCIAL A SAUDE INDIGENA DE TARAUACA POLO BASE', 120060, 'TARAUACA', 'AC']\n",
      "[2002906, 'PREFEITURA MUNICIPAL DE CAPIXABA', 'CENTRO DE SAUDE IDELFONSO CORDEIRO DE ANDRADE', 120017, 'CAPIXABA', 'AC']\n",
      "[2000334, 'PREFEITURA MUNICIPAL DE CRUZEIRO DO SUL', 'UNIDADE DA SAUDE DA FAM FRANCISCO ARY DA SILVEIRA', 120020, 'CRUZEIRO DO SUL', 'AC']\n",
      "[7818092, 'MUNICIPIO DE RIO BRANCO', 'USF MANOEL BEZERRA', 120040, 'RIO BRANCO', 'AC']\n",
      "[2001748, 'PREFEITURA MUNICIPAL DE PORTO WALTER', 'UBS ESTEPHAN BARBARY', 120039, 'PORTO WALTER', 'AC']\n",
      "[6934013, 'PREFEITURA MUNICIPAL DE FEIJO', 'U S F DR JOSE LUIZ DE SOUZA', 120030, 'FEIJO', 'AC']\n",
      "[9948759, 'PREFEITURA DE BRASILEIA', 'ESF RAIMUNDA ANTONIA DE ARAUJO CARNEIRO LIMA', 120010, 'BRASILEIA', 'AC']\n",
      "[7375913, 'PREFEITURA MUNICIPAL DE CRUZEIRO DO SUL', 'UNIDADE DE SAUDE DA CLOVIS PINHEIRO ROSAS', 120020, 'CRUZEIRO DO SUL', 'AC']\n",
      "[5710111, 'PREFEITURA MUNICIPAL DE CRUZEIRO DO SUL', 'UNIDADE DE SAUDE DA FAMILIA NESTOR SOARES DE VASCONCELOS', 120020, 'CRUZEIRO DO SUL', 'AC']\n",
      "[9463208, 'MUNICIPIO DE RIO BRANCO', 'USF FRANCISCO CARNEIRO TIO CHICO', 120040, 'RIO BRANCO', 'AC']\n",
      "[2000830, 'PREFEITURA MUNICIPAL DE RIO BRANCO', 'URAP AUGUSTO HIDALGO DE LIMA', 120040, 'RIO BRANCO', 'AC']\n",
      "[2000571, 'PREFEITURA MUNICIPAL DE CRUZEIRO DO SUL', 'UNIDADE DE SAUDE DA FAMILIA GERALDO MAIA', 120020, 'CRUZEIRO DO SUL', 'AC']\n",
      "[9957650, 'SECRETARIA DE ESTADO DE SAUDE', 'CRIE CRUZEIRO DO SUL', 120020, 'CRUZEIRO DO SUL', 'AC']\n",
      "[2000105, 'PREFEITURA MUNICIPAL DE MANCIO LIMA', 'U S F QUINTINO RIO BRANCO LEBRE', 120033, 'MANCIO LIMA', 'AC']\n",
      "[9014896, 'MUNICIPIO DE MARECHAL THAUMATURGO', 'USF RAIMUNDO GOMES DE AZEVEDO', 120035, 'MARECHAL THAUMATURGO', 'AC']\n",
      "[7014147, 'PREFEITURA MUNICIPAL DE FEIJO', 'U S F ANTONIO DOMINGOS RODRIGUES', 120030, 'FEIJO', 'AC']\n",
      "[7436440, 'PREFEITURA MUNICIPAL DE ASSIS BRASIL', 'UNIDADE BASICA DE SAUDE GILDO FERREIRA DA SILVA', 120005, 'ASSIS BRASIL', 'AC']\n",
      "[7799632, 'MUNICIPIO DE RIO BRANCO', 'URAP VALDEISA VALDEZ', 120040, 'RIO BRANCO', 'AC']\n",
      "[2000490, 'PREFEITURA MUNICIPAL DE RIO BRANCO', 'URAP FRANCISCO RONEY RODRIGUES MEIRELES', 120040, 'RIO BRANCO', 'AC']\n",
      "[837822, 'MUNICIPIO DE MANCIO LIMA', 'UBS MARIA RODRIGUES DE MATOS', 120033, 'MANCIO LIMA', 'AC']\n",
      "[2000881, 'PREFEITURA MUNICIPAL DE SENA MADUREIRA', 'CENTRO DE ATENDIMENTO PARA ENFRENTAMENTO DA COVID 19', 120050, 'SENA MADUREIRA', 'AC']\n",
      "[2001713, 'PREFEITURA MUNICIPAL DE RIO BRANCO', 'USF DEUSIMAR PINHEIRO DA SILVA', 120040, 'RIO BRANCO', 'AC']\n",
      "[2000806, 'MUNICIPIO DE RIO BRANCO', 'USF DOUTOR MARIO MAIA', 120040, 'RIO BRANCO', 'AC']\n",
      "[3959082, 'SECRETARIA DE ESTADO DE SAUDE', 'UNIDADE MISTA DE SANTA LUZIA', 120020, 'CRUZEIRO DO SUL', 'AC']\n",
      "[7560141, 'PREFEITURA MUNICIPAL DE CRUZEIRO DO SUL', 'UNIDADE BASICA DE SAUDE FRANCISCA SOUZA MACHADO', 120020, 'CRUZEIRO DO SUL', 'AC']\n",
      "[2000938, 'PREFEITURA MUNICIPAL DE SENA MADUREIRA', 'UNIDADE BASICA DE SAUDE RICIOTI TAMBURINI', 120050, 'SENA MADUREIRA', 'AC']\n",
      "[6568629, 'PREFEITURA MUNICIPAL DE MANCIO LIMA', 'U S F SOFIA ALMEIDA BARRETO', 120033, 'MANCIO LIMA', 'AC']\n",
      "[3331946, 'PREFEITURA MUNICIPAL DE RIO BRANCO', 'USF MARIA SEBASTIANA', 120040, 'RIO BRANCO', 'AC']\n",
      "[3015483, 'PREFEITURA MUNICIPAL DE RIO BRANCO', 'USF ANTENOR RAMOS II', 120040, 'RIO BRANCO', 'AC']\n",
      "[2000059, 'PREFEITURA MUNICIPAL DE FEIJO', 'U S F MARIA ALICE', 120030, 'FEIJO', 'AC']\n",
      "[9294449, 'PREFEITURA MUNICIPAL DE SENADOR GUIOMARD', 'UNIDADE BASICA DE SAUDE PEDRO RABELO DE LIMA', 120045, 'SENADOR GUIOMARD', 'AC']\n",
      "[2001748, 'PREFEITURA MUNICIPAL DE PORTO WALTER', 'UBS VICENTE VARELA DE ALMEIDA', 120039, 'PORTO WALTER', 'AC']\n",
      "[2003090, 'PREFEITURA MUNICIPAL DE EPITACIOLANDIA', 'ESF SUELLEN DE LIMA CASTELO', 120025, 'EPITACIOLANDIA', 'AC']\n",
      "[6634230, 'PREFEITURA MUNICIPAL DE EPITACIOLANDIA', 'ESF JOSE PAULO DE SOUZA', 120025, 'EPITACIOLANDIA', 'AC']\n",
      "[3331776, 'MUNICIPIO DE RIO BRANCO', 'USF DR RAIMUNDO MOREIRA', 120040, 'RIO BRANCO', 'AC']\n",
      "[9648968, 'DISTRITO SANITARIO ESPECIAL DE SAUDE INDIGENA ALTO RIO PURUS', 'POLO INDIGENA DE MANOEL URBANO', 120034, 'MANOEL URBANO', 'AC']\n",
      "[2001470, 'PREFEITURA MUNICIPAL DE BRASILEIA', 'ESF FRANCISCO DE ASSIS', 120010, 'BRASILEIA', 'AC']\n",
      "[4646770, 'USF SAO FRANCISCO', 'USF SAO FRANCISCO', 120040, 'RIO BRANCO', 'AC']\n",
      "[5174678, 'PREFEITURA MUNICIPAL DE TARAUACA', 'USF PADRE HUBERT GROSSHEIM', 120060, 'TARAUACA', 'AC']\n",
      "[2000512, 'PREFEITURA MUNICIPAL DE RIO BRANCO', 'URAP EDUARDO ASSMAR', 120040, 'RIO BRANCO', 'AC']\n",
      "[9908382, 'USF AEROPORTO VELHO', 'USF AEROPORTO VELHO', 120040, 'RIO BRANCO', 'AC']\n",
      "[2001462, 'PREFEITURA MUNICIPAL DE BRASILEIA', 'ESF DR RICARDO BARBOSA DA SILVA', 120010, 'BRASILEIA', 'AC']\n",
      "[7058322, 'PREFEITURA MUNICIPAL DE BRASILEIA', 'ESF ANTONIO MONTEIRO DOS REIS', 120010, 'BRASILEIA', 'AC']\n",
      "[2003155, 'PREFEITURA MUNICIPAL DE RIO BRANCO', 'USF MAXIMO DIOGO II', 120040, 'RIO BRANCO', 'AC']\n",
      "[2000318, 'PREFEITURA MUNICIPAL DE CRUZEIRO DO SUL', 'UNIDADE DA SAUDE DA FAMILIA PASTOR JOAO BRAZ', 120020, 'CRUZEIRO DO SUL', 'AC']\n",
      "[2001454, 'PREFEITURA MUNICIPAL DE BRASILEIA', 'ESF SIMAO MANSOU BARTHA', 120010, 'BRASILEIA', 'AC']\n",
      "[3323307, 'PREFEITURA MUNICIPAL DE PORTO ACRE', 'UNIDADE DE SAUDE DA FAMILIA ALVARO ARAUJO NOBRE', 120080, 'PORTO ACRE', 'AC']\n",
      "[2000415, 'PREFEITURA MUNICIPAL DE RIO BRANCO', 'URAP SAO FRANCISCO', 120040, 'RIO BRANCO', 'AC']\n",
      "[6270638, 'PREFEITURA MUNICIPAL DE CRUZEIRO DO SUL', 'UNIDADE DE SAUDE DA FAMILIA FRANCISCO PEREIRA DANTAS', 120020, 'CRUZEIRO DO SUL', 'AC']\n",
      "[5371643, 'PREFEITURA MUNICIPAL DE TARAUACA', 'UNIDADE MOVEL DE SAUDE FLUVIAL DEZINHO', 120060, 'TARAUACA', 'AC']\n",
      "[3323293, 'PREFEITURA MUNICIPAL DE PORTO ACRE', 'UNIDADE DE SAUDE DA FAMILIA DANIEL GLENDSON DE LUCENA', 120080, 'PORTO ACRE', 'AC']\n",
      "[6697151, 'MINISTERIO DA SAUDE', 'DISTRITO SANITARIO ESPECIAL INDIGENA ALTO PURUS', 120050, 'SENA MADUREIRA', 'AC']\n",
      "[117382, 'USF LIDIA RODRIGUES', 'USF LIDIA RODRIGUES', 120040, 'RIO BRANCO', 'AC']\n",
      "[3331806, 'PREFEITURA MUNICIPAL DE RIO BRANCO', 'USF RAIMUNDA DIONIZIO', 120040, 'RIO BRANCO', 'AC']\n",
      "[3516822, 'PREFEITURA MUNICIPAL DE BUJARI', 'USF ANTIMARY', 120013, 'BUJARI', 'AC']\n",
      "[6607861, 'PREFEITURA MUNICIPAL DE SENADOR', 'UNIDADE DE SAUDE DA FAMILIA MIGUEL SEVERINO DE OLIVEIRA', 120045, 'SENADOR GUIOMARD', 'AC']\n",
      "[7168748, 'PREFEITURA MUNICIPAL DE MANCIO LIMA', 'USF WILSON BATISTA SIQUEIRA', 120033, 'MANCIO LIMA', 'AC']\n",
      "[7959087, 'MUNICIPIO DE PORTO WALTER', 'UBS MAURICIO PINHEIRO DE OLIVEIRA', 120039, 'PORTO WALTER', 'AC']\n",
      "[7560583, 'PREFEITURA MUNICIPAL DE CRUZEIRO DO SUL', 'POSTO DE SAUDE MAURICIO PERES NOBRE', 120020, 'CRUZEIRO DO SUL', 'AC']\n",
      "[3331911, 'PREFEITURA MUNICIPAL DE RIO BRANCO', 'USF ANA ROSA ZONA RURAL', 120040, 'RIO BRANCO', 'AC']\n",
      "[9542566, 'PREFEITURA DE MANCIO LIMA', 'UBS RAIMUNDO REGINALDO DE ALMEIDA', 120033, 'MANCIO LIMA', 'AC']\n",
      "[5493455, 'PREFEITURA MUNICIPAL DE PLACIDO DE CASTRO', 'U S F MARIO GOMES DA SILVA', 120038, 'PLACIDO DE CASTRO', 'AC']\n",
      "[2001896, 'PREFEITURA MUNICIPAL DE CRUZEIRO DO SUL', 'UNIDADE DE SAUDE DA FAMILIA JOSE TIMOTIO DE OLIVEIRA', 120020, 'CRUZEIRO DO SUL', 'AC']\n",
      "[3900975, 'PREFEITURA MUNICIPAL DE TARAUACA', 'USF MARIA FRANCISCA DA COSTA CABRAL', 120060, 'TARAUACA', 'AC']\n",
      "[2000458, 'PREFEITURA MUNICIPAL DE RIO BRANCO', 'USF MARIA DE FATIMA I', 120040, 'RIO BRANCO', 'AC']\n",
      "[2001330, 'PREFEITURA MUNICIPAL DE EPITACIOLANDIA', 'CENTRO DE SAUDE JOSE CANDIDO DE MESQUITA', 120025, 'EPITACIOLANDIA', 'AC']\n",
      "[2003031, 'MUNICIPIO DE RIO BRANCO', 'USF VITORIA I', 120040, 'RIO BRANCO', 'AC']\n",
      "[2001837, 'PREFEITURA MUNICIPAL DE RIO BRANCO', 'USF SANTA INES', 120040, 'RIO BRANCO', 'AC']\n",
      "[2003279, 'PREFEITURA MUNICIPAL DE RIO BRANCO', 'USF ANTONIA LIRA FONTINELE DA SILVA BELO JARDIM III', 120040, 'RIO BRANCO', 'AC']\n",
      "[2000741, 'MUNICIPIO DE RIO BRANCO', 'URAP ARY RODRIGUES', 120040, 'RIO BRANCO', 'AC']\n",
      "[3015548, 'PREFEITURA MUNICIPAL DE RIO BRANCO', 'USF PLATILDE OLIVEIRA I', 120040, 'RIO BRANCO', 'AC']\n",
      "[6764533, 'PREFEITURA MUNICIPAL DE CRUZEIRO DO SUL', 'POSTO DE SAUDE BURITIRANA', 120020, 'CRUZEIRO DO SUL', 'AC']\n",
      "[3015513, 'PREFEITURA MUNICIPAL DE RIO BRANCO', 'USF FRANCISCA BARBOSA GUERRA', 120040, 'RIO BRANCO', 'AC']\n",
      "[2003031, 'MUNICIPIO DE RIO BRANCO', 'USF VITORIA', 120040, 'RIO BRANCO', 'AC']\n",
      "[3015556, 'PREFEITURA MUNICIPAL DE RIO BRANCO', 'USF MARIA DA CONCEICAO', 120040, 'RIO BRANCO', 'AC']\n",
      "[6119697, 'MUNICIPIO DE RIO BRANCO', 'URAP ROZANGELA PIMENTEL FIGUEIRA', 120040, 'RIO BRANCO', 'AC']\n",
      "[783722, 'SECRETARIA MUNICIPAL DE SAUDE', 'UNIDADE BASICA JOSE SOUZA CORREIA', 120042, 'RODRIGUES ALVES', 'AC']\n",
      "[499919, 'MUNICIPIO DE SANTA ROSA DO PURUS', 'UNIDADE BASICA DE SAUDE MANDUCA KULINA', 120043, 'SANTA ROSA DO PURUS', 'AC']\n",
      "[2000520, 'PREFEITURA MUNICIPAL DE RIO BRANCO', 'URAP FRANCISCO BACURAU VIEIRA NUNES', 120040, 'RIO BRANCO', 'AC']\n",
      "[2000679, 'PREFEITURA MUNICIPAL DE SENADOR GUIOMARD', 'UNIDADE S DA F FRANCISCO TAVEIRA', 120045, 'SENADOR GUIOMARD', 'AC']\n",
      "[7120680, 'PREFEITURA MUNICIPAL DE RIO BRANCO', 'USF ELPIDIO MOREIRA SOUZA', 120040, 'RIO BRANCO', 'AC']\n",
      "[9896392, 'SECRETARIA MUNICIPAL DE SAUDE', 'POSTO DE SAUDE TAUARI', 120060, 'TARAUACA', 'AC']\n",
      "[9830464, 'MUNICIPIO DE BRASILEIA', 'ESF ANTONIO CORREIA DA CRUZ', 120010, 'BRASILEIA', 'AC']\n",
      "[9618902, 'MUNICIPIO DE SENADOR GUIOMARD', 'UNIDADE SAUDE DA FAMILIA MARIA RAIMUNDA MENDONCA', 120045, 'SENADOR GUIOMARD', 'AC']\n",
      "[2003171, 'MUNICIPIO DE RIO BRANCO', 'USF MARIA AUREA VILELA', 120040, 'RIO BRANCO', 'AC']\n",
      "[3462366, 'PREFEITURA MUNICIPAL DE TARAUACA', 'UNIDADE DE SAUDE DA FAMILIA MARIA ESPANHOL DA SILVA', 120060, 'TARAUACA', 'AC']\n",
      "[2001837, 'PREFEITURA MUNICIPAL DE RIO BRANCO', 'USF SANTA INES I', 120040, 'RIO BRANCO', 'AC']\n",
      "[7560133, 'PREFEITURA MUNICIPAL DE CRUZEIRO DO SUL', 'POSTO DE SAUDE DEPUTADO FRANCISCO THAUMATURGO', 120020, 'CRUZEIRO DO SUL', 'AC']\n",
      "[7565534, 'MUNICIPIO DE RIO BRANCO', 'USF LUANA FREITAS', 120040, 'RIO BRANCO', 'AC']\n",
      "[2003287, 'MUNICIPIO DE RIO BRANCO', 'USF MARIANO GONZAGA I', 120040, 'RIO BRANCO', 'AC']\n",
      "[2003015, 'PREFEITURA MUNICIPAL DE RIO BRANCO', 'USF JOSE GOMES DE OLIVEIRA', 120040, 'RIO BRANCO', 'AC']\n",
      "[2000091, 'PREFEITURA MUNICIPAL DE MANCIO LIMA', 'U S F JOSE ARAUJO', 120033, 'MANCIO LIMA', 'AC']\n",
      "[2001012, 'SECRETARIA DE ESTADO DE SAUDE DO ACRE', 'USF MOCINHA MAGALHAES', 120040, 'RIO BRANCO', 'AC']\n",
      "[2002701, 'PREFEITURA MUNICIPAL DE RIO BRANCO', 'USF MARIA SOFIA', 120040, 'RIO BRANCO', 'AC']\n",
      "[5250587, 'PREFEITURA MUNICIPAL DE SENADOR GUIOMARD', 'CENTRO DE SAUDE ILSON ALVES RIBEIRO', 120045, 'SENADOR GUIOMARD', 'AC']\n",
      "[2000881, 'PREFEITURA MUNICIPAL DE SENA MADUREIRA', 'UNIDADE BASICA DE SAUDE CARLOS AFONSO VIEIRA', 120050, 'SENA MADUREIRA', 'AC']\n",
      "[3042553, 'PREFEITURA MUNICIPAL DE BRASILEIA', 'ESF JOSE MARIA DE SOUZA SANTOS', 120010, 'BRASILEIA', 'AC']\n",
      "[115606, 'K M OLIVEIRA EIRELI', 'MAIS SAUDE DIAGNOSTICO', 120020, 'CRUZEIRO DO SUL', 'AC']\n",
      "[3590992, 'PREFEITURA MUNICIPAL DE MARECHAL THAUMATURGO', 'ESF RIBEIRINHA LUIZ FONTINELI', 120035, 'MARECHAL THAUMATURGO', 'AC']\n",
      "[3331784, 'MUNICIPIO DE RIO BRANCO', 'USF MARIA VERONICA II', 120040, 'RIO BRANCO', 'AC']\n",
      "[2002779, 'MUNICIPIO DE RIO BRANCO', 'USF SEBASTIANA PRADO ZONA RURAL', 120040, 'RIO BRANCO', 'AC']\n",
      "[2003147, 'PREFEITURA MUNICIPAL DE EPITACIOLANDIA', 'ESF MANOEL ARAUJO DA COSTA', 120025, 'EPITACIOLANDIA', 'AC']\n",
      "[7617852, 'PREFEITURA DE SENA MADUREIRA', 'UNIDADE BASICA DE SAUDE JOVILIO ALVES', 120050, 'SENA MADUREIRA', 'AC']\n",
      "[2001853, 'PREFEITURA MUNICIPAL DE RIO BRANCO', 'USF NADEZIR DA SILVA DE LIMA', 120040, 'RIO BRANCO', 'AC']\n",
      "[755605, 'USF BARRO VERMELHO', 'USF BARRO VERMELHO', 120040, 'RIO BRANCO', 'AC']\n",
      "[2003058, 'MUNICIPIO DE RIO BRANCO', 'USF LUIZ GONZAGA I', 120040, 'RIO BRANCO', 'AC']\n",
      "[9296042, 'PREFEITURA MUNICIPAL DE SENADOR GUIOMARD', 'UNIDADE BASICA DE SAUDE FRANCISCO LUIS DE FRANCA', 120045, 'SENADOR GUIOMARD', 'AC']\n",
      "[7565534, 'MUNICIPIO DE RIO BRANCO', 'USF LUANA FREITAS I', 120040, 'RIO BRANCO', 'AC']\n",
      "[7560591, 'PREFEITURA MUNICIPAL DE SAUDE', 'POSTO DE SAUDE RAIMUNDO JOSE DA SILVA', 120020, 'CRUZEIRO DO SUL', 'AC']\n",
      "[7060394, 'MUNICIPIO DE RIO BRANCO', 'USF AGRIPINA LINDOSO', 120040, 'RIO BRANCO', 'AC']\n",
      "[9315578, 'MUNICIPIO DE PORTO WALTER', 'UBS FRANCISCA DAS CHAGAS LUSTOSA', 120039, 'PORTO WALTER', 'AC']\n",
      "[2832798, 'PREFEITURA MUNICIPAL DE EPITACIOLANDIA', 'UNIDADE DE SAUDE ALBERTO FLORENCIO DA SILVA', 120025, 'EPITACIOLANDIA', 'AC']\n",
      "[6596657, 'PREFEITURA MUNICIPAL DE SANTA ROSA DO PURUS', 'PSF MOVEL DE SANTA ROSA DO PURUS', 120043, 'SANTA ROSA DO PURUS', 'AC']\n",
      "[2002884, 'PREFEITURA MUNICIPAL DE BUJARI', 'U S F MARIA IZA VIANA DE CASTRO', 120013, 'BUJARI', 'AC']\n",
      "[2000814, 'SECRETARIA DE ESTADO DE SAUDE DO ACRE', 'USF FRANCISCO EDUARDO DE PAIVA', 120040, 'RIO BRANCO', 'AC']\n",
      "[7565089, 'PREFEITURA MUNICIPAL DE RIO BRANCO', 'USF MARIA DE JESUS III', 120040, 'RIO BRANCO', 'AC']\n",
      "[2002930, 'PREFEITURA MUNICIPAL DE PLACIDO DE CASTRO', 'U S F MARIA DE FATIMA FERREIRA DE PAULA', 120038, 'PLACIDO DE CASTRO', 'AC']\n",
      "[9846433, 'PREFEITURA MUNICIPAL DE MANOEL URBANO', 'UNIDADE BASICA DE SAUDE MILTON AUGUSTO DA SILVA', 120034, 'MANOEL URBANO', 'AC']\n",
      "[2001357, 'SECRETARIA MUNICIPAL DE SAUDE DE BRASILEIA', 'ESF PEDRO OLIVEIRA DE SOUZA', 120010, 'BRASILEIA', 'AC']\n",
      "[197599, 'CENTRAL MUNICIPAL DE REDE DE FRIOS', 'CENTRAL MUNICIPAL DE REDE DE FRIOS', 120020, 'CRUZEIRO DO SUL', 'AC']\n",
      "[6076017, 'ALERGOYMUNE CLINICA DE ALERGIA E IMUNIZACAO LTDA', 'ALERGOYMUNE', 120040, 'RIO BRANCO', 'AC']\n",
      "[6411312, 'PREFEITURA MUNICIPAL DE PLACIDO DE CASTRO', 'U S F LUCIO ALVES DA SILVA', 120038, 'PLACIDO DE CASTRO', 'AC']\n"
     ]
    }
   ],
   "source": [
    "# Remover duplicatas com base nas colunas relacionadas ao estabelecimento\n",
    "df_estabelecimentos_unicos = df_menores_18[['estabelecimento_valor', 'estabelecimento_razaoSocial', 'estalecimento_noFantasia',\n",
    "                                            'estabelecimento_municipio_codigo', 'estabelecimento_municipio_nome', 'estabelecimento_uf']].drop_duplicates()\n",
    "\n",
    "# Criar uma lista com uma linha para cada estabelecimento\n",
    "lista_estabelecimentos = df_estabelecimentos_unicos.values.tolist()\n",
    "\n",
    "# Exibir a lista\n",
    "for estabelecimento in lista_estabelecimentos:\n",
    "    print(estabelecimento)"
   ]
  }
 ],
 "metadata": {
  "kernelspec": {
   "display_name": "Python 3 (ipykernel)",
   "language": "python",
   "name": "python3"
  },
  "language_info": {
   "codemirror_mode": {
    "name": "ipython",
    "version": 3
   },
   "file_extension": ".py",
   "mimetype": "text/x-python",
   "name": "python",
   "nbconvert_exporter": "python",
   "pygments_lexer": "ipython3",
   "version": "3.12.4"
  }
 },
 "nbformat": 4,
 "nbformat_minor": 5
}
