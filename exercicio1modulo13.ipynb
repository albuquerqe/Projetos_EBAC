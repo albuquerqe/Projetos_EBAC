{
 "cells": [
  {
   "cell_type": "code",
   "execution_count": 36,
   "id": "57301b7d-2dba-4c47-8681-0a1890858dbd",
   "metadata": {},
   "outputs": [],
   "source": [
    "import pandas as pd\n",
    "import numpy as np\n",
    "import statsmodels.api as sm\n",
    "import statsmodels.formula.api as smf\n",
    "import patsy"
   ]
  },
  {
   "cell_type": "code",
   "execution_count": 37,
   "id": "91b0bab1-cf55-4979-9c4b-15bc193bd99c",
   "metadata": {},
   "outputs": [
    {
     "name": "stdout",
     "output_type": "stream",
     "text": [
      "<class 'pandas.core.frame.DataFrame'>\n",
      "RangeIndex: 15000 entries, 0 to 14999\n",
      "Data columns (total 16 columns):\n",
      " #   Column                 Non-Null Count  Dtype  \n",
      "---  ------                 --------------  -----  \n",
      " 0   Unnamed: 0             15000 non-null  int64  \n",
      " 1   data_ref               15000 non-null  object \n",
      " 2   index                  15000 non-null  int64  \n",
      " 3   sexo                   15000 non-null  object \n",
      " 4   posse_de_veiculo       15000 non-null  bool   \n",
      " 5   posse_de_imovel        15000 non-null  bool   \n",
      " 6   qtd_filhos             15000 non-null  int64  \n",
      " 7   tipo_renda             15000 non-null  object \n",
      " 8   educacao               15000 non-null  object \n",
      " 9   estado_civil           15000 non-null  object \n",
      " 10  tipo_residencia        15000 non-null  object \n",
      " 11  idade                  15000 non-null  int64  \n",
      " 12  tempo_emprego          12466 non-null  float64\n",
      " 13  qt_pessoas_residencia  15000 non-null  float64\n",
      " 14  mau                    15000 non-null  bool   \n",
      " 15  renda                  15000 non-null  float64\n",
      "dtypes: bool(3), float64(3), int64(4), object(6)\n",
      "memory usage: 1.5+ MB\n"
     ]
    }
   ],
   "source": [
    "df = pd.read_csv('previsao_de_renda.csv')\n",
    "df.info()"
   ]
  },
  {
   "cell_type": "code",
   "execution_count": 38,
   "id": "55037927-6c79-49bf-9808-ae25a730a32c",
   "metadata": {},
   "outputs": [
    {
     "name": "stderr",
     "output_type": "stream",
     "text": [
      "C:\\Users\\luiiz\\AppData\\Local\\Temp\\ipykernel_11904\\2790920879.py:1: FutureWarning: A value is trying to be set on a copy of a DataFrame or Series through chained assignment using an inplace method.\n",
      "The behavior will change in pandas 3.0. This inplace method will never work because the intermediate object on which we are setting values always behaves as a copy.\n",
      "\n",
      "For example, when doing 'df[col].method(value, inplace=True)', try using 'df.method({col: value}, inplace=True)' or df[col] = df[col].method(value) instead, to perform the operation inplace on the original object.\n",
      "\n",
      "\n",
      "  df['tempo_emprego'].fillna(df['tempo_emprego'].median(), inplace=True)\n"
     ]
    }
   ],
   "source": [
    "df['tempo_emprego'].fillna(df['tempo_emprego'].median(), inplace=True)\n",
    "df['log_renda'] = np.log(df['renda'])"
   ]
  },
  {
   "cell_type": "code",
   "execution_count": 39,
   "id": "c897b32b-b579-4e7b-a1c5-a25fd88295ad",
   "metadata": {},
   "outputs": [],
   "source": [
    "formula = 'log_renda ~ C(sexo) + C(posse_de_veiculo) + C(posse_de_imovel) + \\\n",
    "           qtd_filhos + C(tipo_renda) + C(educacao) + C(estado_civil) + \\\n",
    "           C(tipo_residencia) + idade + tempo_emprego + qt_pessoas_residencia'"
   ]
  },
  {
   "cell_type": "markdown",
   "id": "bfcf42ee-2252-4f5f-aebe-1c78e99aaef2",
   "metadata": {},
   "source": [
    "model = smf.ols(formula=formula, data=df).fit()\n",
    "print(model.summary())"
   ]
  },
  {
   "cell_type": "code",
   "execution_count": 42,
   "id": "cace7bc7-3c80-4ccd-ba60-d9924ca92c5e",
   "metadata": {},
   "outputs": [
    {
     "name": "stdout",
     "output_type": "stream",
     "text": [
      "                            OLS Regression Results                            \n",
      "==============================================================================\n",
      "Dep. Variable:              log_renda   R-squared:                       0.227\n",
      "Model:                            OLS   Adj. R-squared:                  0.227\n",
      "Method:                 Least Squares   F-statistic:                     367.7\n",
      "Date:                Thu, 13 Feb 2025   Prob (F-statistic):               0.00\n",
      "Time:                        17:05:54   Log-Likelihood:                -15953.\n",
      "No. Observations:               15000   AIC:                         3.193e+04\n",
      "Df Residuals:                   14987   BIC:                         3.203e+04\n",
      "Df Model:                          12                                         \n",
      "Covariance Type:            nonrobust                                         \n",
      "======================================================================================================\n",
      "                                         coef    std err          t      P>|t|      [0.025      0.975]\n",
      "------------------------------------------------------------------------------------------------------\n",
      "Intercept                              7.1698      0.059    122.390      0.000       7.055       7.285\n",
      "C(sexo)[T.M]                           0.4905      0.013     38.743      0.000       0.466       0.515\n",
      "C(posse_de_imovel)[T.True]             0.1002      0.012      8.135      0.000       0.076       0.124\n",
      "C(tipo_renda)[T.Bolsista]             -0.0460      0.351     -0.131      0.896      -0.734       0.642\n",
      "C(tipo_renda)[T.Empresário]            0.1772      0.015     12.112      0.000       0.148       0.206\n",
      "C(tipo_renda)[T.Pensionista]          -0.0948      0.021     -4.533      0.000      -0.136      -0.054\n",
      "C(tipo_renda)[T.Servidor público]      0.0935      0.021      4.418      0.000       0.052       0.135\n",
      "C(educacao)[T.Pós graduação]           0.6350      0.169      3.760      0.000       0.304       0.966\n",
      "C(educacao)[T.Secundário]              0.0861      0.051      1.679      0.093      -0.014       0.187\n",
      "C(educacao)[T.Superior completo]       0.1874      0.052      3.622      0.000       0.086       0.289\n",
      "C(educacao)[T.Superior incompleto]     0.0676      0.059      1.154      0.249      -0.047       0.182\n",
      "idade                                  0.0046      0.001      6.608      0.000       0.003       0.006\n",
      "tempo_emprego                          0.0485      0.001     48.856      0.000       0.047       0.050\n",
      "==============================================================================\n",
      "Omnibus:                        2.022   Durbin-Watson:                   2.023\n",
      "Prob(Omnibus):                  0.364   Jarque-Bera (JB):                1.995\n",
      "Skew:                          -0.022   Prob(JB):                        0.369\n",
      "Kurtosis:                       3.036   Cond. No.                     2.81e+03\n",
      "==============================================================================\n",
      "\n",
      "Notes:\n",
      "[1] Standard Errors assume that the covariance matrix of the errors is correctly specified.\n",
      "[2] The condition number is large, 2.81e+03. This might indicate that there are\n",
      "strong multicollinearity or other numerical problems.\n"
     ]
    }
   ],
   "source": [
    "formula_reduced = 'log_renda ~ C(sexo) + C(posse_de_imovel) + C(tipo_renda) + \\\n",
    "                  C(educacao) + idade + tempo_emprego'\n",
    "model_reduced = smf.ols(formula=formula_reduced, data=df).fit()\n",
    "print(model_reduced.summary())"
   ]
  },
  {
   "cell_type": "markdown",
   "id": "d5718f8b-26ed-4de5-8555-3e635736dbad",
   "metadata": {},
   "source": [
    "A remoção das variáveis menos significativas resultou em um modelo menor e com indicadores melhores, embora a mudança seja mínima."
   ]
  },
  {
   "cell_type": "code",
   "execution_count": 53,
   "id": "105ca4a9-03e0-4e04-8928-f5d5dddb448f",
   "metadata": {},
   "outputs": [
    {
     "name": "stdout",
     "output_type": "stream",
     "text": [
      "                            OLS Regression Results                            \n",
      "==============================================================================\n",
      "Dep. Variable:              log_renda   R-squared:                       0.226\n",
      "Model:                            OLS   Adj. R-squared:                  0.225\n",
      "Method:                 Least Squares   F-statistic:                     485.4\n",
      "Date:                Thu, 13 Feb 2025   Prob (F-statistic):               0.00\n",
      "Time:                        17:23:57   Log-Likelihood:                -15971.\n",
      "No. Observations:               15000   AIC:                         3.196e+04\n",
      "Df Residuals:                   14990   BIC:                         3.204e+04\n",
      "Df Model:                           9                                         \n",
      "Covariance Type:            nonrobust                                         \n",
      "=======================================================================================================\n",
      "                                          coef    std err          t      P>|t|      [0.025      0.975]\n",
      "-------------------------------------------------------------------------------------------------------\n",
      "Intercept                               7.2437      0.031    236.240      0.000       7.184       7.304\n",
      "C(sexo)[T.M]                            0.4898      0.013     38.651      0.000       0.465       0.515\n",
      "C(posse_de_imovel)[T.True]              0.1022      0.012      8.299      0.000       0.078       0.126\n",
      "C(tipo_renda)[T.Bolsista]              -0.0331      0.351     -0.094      0.925      -0.722       0.655\n",
      "C(tipo_renda)[T.Empresário]             0.1794      0.015     12.257      0.000       0.151       0.208\n",
      "C(tipo_renda)[T.Pensionista]           -0.1033      0.021     -4.950      0.000      -0.144      -0.062\n",
      "C(tipo_renda)[T.Servidor público]       0.0967      0.021      4.565      0.000       0.055       0.138\n",
      "C(educacao != \"Secundário\")[T.True]     0.0850      0.012      7.160      0.000       0.062       0.108\n",
      "idade                                   0.0049      0.001      7.022      0.000       0.004       0.006\n",
      "tempo_emprego                           0.0485      0.001     48.804      0.000       0.047       0.050\n",
      "==============================================================================\n",
      "Omnibus:                        1.680   Durbin-Watson:                   2.022\n",
      "Prob(Omnibus):                  0.432   Jarque-Bera (JB):                1.652\n",
      "Skew:                          -0.019   Prob(JB):                        0.438\n",
      "Kurtosis:                       3.035   Cond. No.                     2.81e+03\n",
      "==============================================================================\n",
      "\n",
      "Notes:\n",
      "[1] Standard Errors assume that the covariance matrix of the errors is correctly specified.\n",
      "[2] The condition number is large, 2.81e+03. This might indicate that there are\n",
      "strong multicollinearity or other numerical problems.\n"
     ]
    }
   ],
   "source": [
    "formula_step2 = 'log_renda ~ C(sexo) + C(posse_de_imovel) + C(tipo_renda) + \\\n",
    "                 C(educacao != \"Secundário\") + idade + tempo_emprego'\n",
    "model_step2 = smf.ols(formula=formula_step2, data=df).fit()\n",
    "print(model_step2.summary())"
   ]
  },
  {
   "cell_type": "code",
   "execution_count": 54,
   "id": "a29032d7-8a06-4881-806f-9acc2c35b88f",
   "metadata": {},
   "outputs": [
    {
     "name": "stdout",
     "output_type": "stream",
     "text": [
      "                            OLS Regression Results                            \n",
      "==============================================================================\n",
      "Dep. Variable:              log_renda   R-squared:                       0.223\n",
      "Model:                            OLS   Adj. R-squared:                  0.223\n",
      "Method:                 Least Squares   F-statistic:                     478.6\n",
      "Date:                Thu, 13 Feb 2025   Prob (F-statistic):               0.00\n",
      "Time:                        17:26:51   Log-Likelihood:                -15994.\n",
      "No. Observations:               15000   AIC:                         3.201e+04\n",
      "Df Residuals:                   14990   BIC:                         3.208e+04\n",
      "Df Model:                           9                                         \n",
      "Covariance Type:            nonrobust                                         \n",
      "================================================================================================================\n",
      "                                                   coef    std err          t      P>|t|      [0.025      0.975]\n",
      "----------------------------------------------------------------------------------------------------------------\n",
      "Intercept                                        7.2508      0.038    188.354      0.000       7.175       7.326\n",
      "C(sexo)[T.M]                                     0.4882      0.013     38.466      0.000       0.463       0.513\n",
      "C(posse_de_imovel)[T.True]                       0.1026      0.012      8.311      0.000       0.078       0.127\n",
      "C(tipo_renda)[T.Bolsista]                        0.0235      0.352      0.067      0.947      -0.666       0.713\n",
      "C(tipo_renda)[T.Empresário]                      0.1872      0.015     12.804      0.000       0.159       0.216\n",
      "C(tipo_renda)[T.Pensionista]                    -0.0982      0.021     -4.696      0.000      -0.139      -0.057\n",
      "C(tipo_renda)[T.Servidor público]                0.1083      0.021      5.120      0.000       0.067       0.150\n",
      "C(educacao != \"Superior incompleto\")[T.True]     0.0600      0.030      2.022      0.043       0.002       0.118\n",
      "idade                                            0.0041      0.001      5.893      0.000       0.003       0.005\n",
      "tempo_emprego                                    0.0485      0.001     48.777      0.000       0.047       0.050\n",
      "==============================================================================\n",
      "Omnibus:                        1.284   Durbin-Watson:                   2.021\n",
      "Prob(Omnibus):                  0.526   Jarque-Bera (JB):                1.258\n",
      "Skew:                          -0.012   Prob(JB):                        0.533\n",
      "Kurtosis:                       3.038   Cond. No.                     2.81e+03\n",
      "==============================================================================\n",
      "\n",
      "Notes:\n",
      "[1] Standard Errors assume that the covariance matrix of the errors is correctly specified.\n",
      "[2] The condition number is large, 2.81e+03. This might indicate that there are\n",
      "strong multicollinearity or other numerical problems.\n"
     ]
    }
   ],
   "source": [
    "formula_step3 = 'log_renda ~ C(sexo) + C(posse_de_imovel) + C(tipo_renda) + \\\n",
    "                 C(educacao != \"Superior incompleto\") + idade + tempo_emprego'\n",
    "model_step3 = smf.ols(formula=formula_step3, data=df).fit()\n",
    "print(model_step3.summary())"
   ]
  },
  {
   "cell_type": "markdown",
   "id": "fee775e7-58b1-4587-ab90-c0c9329a6d4b",
   "metadata": {},
   "source": [
    "O modelo final pode ser considerado uma melhoria em termos de simplicidade e praticidade sem sacrificar significativamente o ajuste."
   ]
  },
  {
   "cell_type": "code",
   "execution_count": null,
   "id": "c8aa7f56-8198-4b9d-be12-b5f51ad17d5d",
   "metadata": {},
   "outputs": [],
   "source": []
  }
 ],
 "metadata": {
  "kernelspec": {
   "display_name": "Python 3 (ipykernel)",
   "language": "python",
   "name": "python3"
  },
  "language_info": {
   "codemirror_mode": {
    "name": "ipython",
    "version": 3
   },
   "file_extension": ".py",
   "mimetype": "text/x-python",
   "name": "python",
   "nbconvert_exporter": "python",
   "pygments_lexer": "ipython3",
   "version": "3.12.4"
  }
 },
 "nbformat": 4,
 "nbformat_minor": 5
}
