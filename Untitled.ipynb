{
 "cells": [
  {
   "cell_type": "code",
   "execution_count": 1,
   "id": "77136c7d-56f9-4ece-ba81-8e11071c917b",
   "metadata": {},
   "outputs": [
    {
     "name": "stdout",
     "output_type": "stream",
     "text": [
      "Olá Luiz\n"
     ]
    }
   ],
   "source": [
    "nome = 'Luiz'\n",
    "print(f\"Olá {nome}\")"
   ]
  },
  {
   "cell_type": "code",
   "execution_count": null,
   "id": "8f0875c5-aeab-4260-a4b8-8889e283a8f0",
   "metadata": {},
   "outputs": [],
   "source": []
  }
 ],
 "metadata": {
  "kernelspec": {
   "display_name": "Python 3 (ipykernel)",
   "language": "python",
   "name": "python3"
  },
  "language_info": {
   "codemirror_mode": {
    "name": "ipython",
    "version": 3
   },
   "file_extension": ".py",
   "mimetype": "text/x-python",
   "name": "python",
   "nbconvert_exporter": "python",
   "pygments_lexer": "ipython3",
   "version": "3.12.4"
  }
 },
 "nbformat": 4,
 "nbformat_minor": 5
}
