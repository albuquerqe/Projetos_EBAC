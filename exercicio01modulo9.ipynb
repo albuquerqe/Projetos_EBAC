{
 "cells": [
  {
   "cell_type": "code",
   "execution_count": 3,
   "id": "944a24ca-7868-4f5e-b2db-330777c3b16a",
   "metadata": {},
   "outputs": [],
   "source": [
    "import numpy as np\n",
    "import pandas as pd\n",
    "import seaborn as sns\n",
    "import matplotlib.pyplot as plt\n",
    "\n",
    "\n",
    "%matplotlib inline"
   ]
  },
  {
   "cell_type": "code",
   "execution_count": 4,
   "id": "9357b45a-3a8c-4a00-b03a-de0c793308ce",
   "metadata": {},
   "outputs": [
    {
     "data": {
      "text/html": [
       "<div>\n",
       "<style scoped>\n",
       "    .dataframe tbody tr th:only-of-type {\n",
       "        vertical-align: middle;\n",
       "    }\n",
       "\n",
       "    .dataframe tbody tr th {\n",
       "        vertical-align: top;\n",
       "    }\n",
       "\n",
       "    .dataframe thead th {\n",
       "        text-align: right;\n",
       "    }\n",
       "</style>\n",
       "<table border=\"1\" class=\"dataframe\">\n",
       "  <thead>\n",
       "    <tr style=\"text-align: right;\">\n",
       "      <th></th>\n",
       "      <th>ORIGEM</th>\n",
       "      <th>CODESTAB</th>\n",
       "      <th>CODMUNNASC</th>\n",
       "      <th>LOCNASC</th>\n",
       "      <th>IDADEMAE</th>\n",
       "      <th>ESTCIVMAE</th>\n",
       "      <th>ESCMAE</th>\n",
       "      <th>CODOCUPMAE</th>\n",
       "      <th>QTDFILVIVO</th>\n",
       "      <th>QTDFILMORT</th>\n",
       "      <th>...</th>\n",
       "      <th>KOTELCHUCK</th>\n",
       "      <th>CONTADOR</th>\n",
       "      <th>munResStatus</th>\n",
       "      <th>munResTipo</th>\n",
       "      <th>munResNome</th>\n",
       "      <th>munResUf</th>\n",
       "      <th>munResLat</th>\n",
       "      <th>munResLon</th>\n",
       "      <th>munResAlt</th>\n",
       "      <th>munResArea</th>\n",
       "    </tr>\n",
       "  </thead>\n",
       "  <tbody>\n",
       "    <tr>\n",
       "      <th>0</th>\n",
       "      <td>1</td>\n",
       "      <td>2679477.0</td>\n",
       "      <td>110001</td>\n",
       "      <td>1</td>\n",
       "      <td>19</td>\n",
       "      <td>5.0</td>\n",
       "      <td>8 a 11 anos</td>\n",
       "      <td>NaN</td>\n",
       "      <td>0.0</td>\n",
       "      <td>0.0</td>\n",
       "      <td>...</td>\n",
       "      <td>5</td>\n",
       "      <td>1</td>\n",
       "      <td>ATIVO</td>\n",
       "      <td>MUNIC</td>\n",
       "      <td>Alta Floresta D'Oeste</td>\n",
       "      <td>Rondônia</td>\n",
       "      <td>-11.93554</td>\n",
       "      <td>-61.99982</td>\n",
       "      <td>338.0</td>\n",
       "      <td>7067.025</td>\n",
       "    </tr>\n",
       "    <tr>\n",
       "      <th>1</th>\n",
       "      <td>1</td>\n",
       "      <td>2679477.0</td>\n",
       "      <td>110001</td>\n",
       "      <td>1</td>\n",
       "      <td>29</td>\n",
       "      <td>2.0</td>\n",
       "      <td>8 a 11 anos</td>\n",
       "      <td>999992.0</td>\n",
       "      <td>1.0</td>\n",
       "      <td>0.0</td>\n",
       "      <td>...</td>\n",
       "      <td>5</td>\n",
       "      <td>2</td>\n",
       "      <td>ATIVO</td>\n",
       "      <td>MUNIC</td>\n",
       "      <td>Alta Floresta D'Oeste</td>\n",
       "      <td>Rondônia</td>\n",
       "      <td>-11.93554</td>\n",
       "      <td>-61.99982</td>\n",
       "      <td>338.0</td>\n",
       "      <td>7067.025</td>\n",
       "    </tr>\n",
       "    <tr>\n",
       "      <th>2</th>\n",
       "      <td>1</td>\n",
       "      <td>2679477.0</td>\n",
       "      <td>110001</td>\n",
       "      <td>1</td>\n",
       "      <td>37</td>\n",
       "      <td>9.0</td>\n",
       "      <td>8 a 11 anos</td>\n",
       "      <td>513205.0</td>\n",
       "      <td>2.0</td>\n",
       "      <td>0.0</td>\n",
       "      <td>...</td>\n",
       "      <td>5</td>\n",
       "      <td>3</td>\n",
       "      <td>ATIVO</td>\n",
       "      <td>MUNIC</td>\n",
       "      <td>Alta Floresta D'Oeste</td>\n",
       "      <td>Rondônia</td>\n",
       "      <td>-11.93554</td>\n",
       "      <td>-61.99982</td>\n",
       "      <td>338.0</td>\n",
       "      <td>7067.025</td>\n",
       "    </tr>\n",
       "    <tr>\n",
       "      <th>3</th>\n",
       "      <td>1</td>\n",
       "      <td>2516500.0</td>\n",
       "      <td>110001</td>\n",
       "      <td>1</td>\n",
       "      <td>30</td>\n",
       "      <td>5.0</td>\n",
       "      <td>12 anos ou mais</td>\n",
       "      <td>231205.0</td>\n",
       "      <td>0.0</td>\n",
       "      <td>0.0</td>\n",
       "      <td>...</td>\n",
       "      <td>4</td>\n",
       "      <td>4</td>\n",
       "      <td>ATIVO</td>\n",
       "      <td>MUNIC</td>\n",
       "      <td>Alto Alegre dos Parecis</td>\n",
       "      <td>Rondônia</td>\n",
       "      <td>-12.13178</td>\n",
       "      <td>-61.85308</td>\n",
       "      <td>397.0</td>\n",
       "      <td>3958.273</td>\n",
       "    </tr>\n",
       "    <tr>\n",
       "      <th>4</th>\n",
       "      <td>1</td>\n",
       "      <td>2516500.0</td>\n",
       "      <td>110001</td>\n",
       "      <td>1</td>\n",
       "      <td>30</td>\n",
       "      <td>2.0</td>\n",
       "      <td>8 a 11 anos</td>\n",
       "      <td>999992.0</td>\n",
       "      <td>1.0</td>\n",
       "      <td>0.0</td>\n",
       "      <td>...</td>\n",
       "      <td>5</td>\n",
       "      <td>5</td>\n",
       "      <td>ATIVO</td>\n",
       "      <td>MUNIC</td>\n",
       "      <td>Alta Floresta D'Oeste</td>\n",
       "      <td>Rondônia</td>\n",
       "      <td>-11.93554</td>\n",
       "      <td>-61.99982</td>\n",
       "      <td>338.0</td>\n",
       "      <td>7067.025</td>\n",
       "    </tr>\n",
       "  </tbody>\n",
       "</table>\n",
       "<p>5 rows × 69 columns</p>\n",
       "</div>"
      ],
      "text/plain": [
       "   ORIGEM   CODESTAB  CODMUNNASC  LOCNASC  IDADEMAE  ESTCIVMAE  \\\n",
       "0       1  2679477.0      110001        1        19        5.0   \n",
       "1       1  2679477.0      110001        1        29        2.0   \n",
       "2       1  2679477.0      110001        1        37        9.0   \n",
       "3       1  2516500.0      110001        1        30        5.0   \n",
       "4       1  2516500.0      110001        1        30        2.0   \n",
       "\n",
       "            ESCMAE  CODOCUPMAE  QTDFILVIVO  QTDFILMORT  ...  KOTELCHUCK  \\\n",
       "0      8 a 11 anos         NaN         0.0         0.0  ...           5   \n",
       "1      8 a 11 anos    999992.0         1.0         0.0  ...           5   \n",
       "2      8 a 11 anos    513205.0         2.0         0.0  ...           5   \n",
       "3  12 anos ou mais    231205.0         0.0         0.0  ...           4   \n",
       "4      8 a 11 anos    999992.0         1.0         0.0  ...           5   \n",
       "\n",
       "  CONTADOR munResStatus munResTipo               munResNome  munResUf  \\\n",
       "0        1        ATIVO      MUNIC    Alta Floresta D'Oeste  Rondônia   \n",
       "1        2        ATIVO      MUNIC    Alta Floresta D'Oeste  Rondônia   \n",
       "2        3        ATIVO      MUNIC    Alta Floresta D'Oeste  Rondônia   \n",
       "3        4        ATIVO      MUNIC  Alto Alegre dos Parecis  Rondônia   \n",
       "4        5        ATIVO      MUNIC    Alta Floresta D'Oeste  Rondônia   \n",
       "\n",
       "   munResLat munResLon  munResAlt  munResArea  \n",
       "0  -11.93554 -61.99982      338.0    7067.025  \n",
       "1  -11.93554 -61.99982      338.0    7067.025  \n",
       "2  -11.93554 -61.99982      338.0    7067.025  \n",
       "3  -12.13178 -61.85308      397.0    3958.273  \n",
       "4  -11.93554 -61.99982      338.0    7067.025  \n",
       "\n",
       "[5 rows x 69 columns]"
      ]
     },
     "execution_count": 4,
     "metadata": {},
     "output_type": "execute_result"
    }
   ],
   "source": [
    "sinasc_raw = pd.read_csv('SINASC_RO_2019.csv')\n",
    "sinasc_raw.head()"
   ]
  },
  {
   "cell_type": "markdown",
   "id": "6f8da712-d15f-4fbc-a4a5-57add2c509da",
   "metadata": {},
   "source": [
    "1. Idade media das mães e dos pais por município (coluna munResNome)"
   ]
  },
  {
   "cell_type": "code",
   "execution_count": 5,
   "id": "c4bed71e-775b-4b74-83c3-698c56ef8937",
   "metadata": {},
   "outputs": [
    {
     "name": "stdout",
     "output_type": "stream",
     "text": [
      "                           idade_media_maes  idade_media_pais\n",
      "munResNome                                                   \n",
      "Alta Floresta D'Oeste             25.991826         29.548701\n",
      "Alto Alegre dos Parecis           24.844156         29.179104\n",
      "Alto Paraíso                      24.960177         28.833333\n",
      "Alvorada D'Oeste                  25.770732         30.757282\n",
      "Ariquemes                         25.607866         32.466667\n",
      "Buritis                           25.559177         30.812500\n",
      "Cabixi                            26.037500         34.333333\n",
      "Cacaulândia                       25.546667         36.333333\n",
      "Cacoal                            26.890102         30.931854\n",
      "Campo Novo de Rondônia            24.825301         30.500000\n",
      "Candeias do Jamari                25.243323         29.894737\n",
      "Castanheiras                      27.281250         30.392857\n",
      "Cerejeiras                        27.240506         31.652778\n",
      "Chupinguaia                       25.333333         29.629630\n",
      "Colorado do Oeste                 27.602804         34.354839\n",
      "Corumbiara                        24.716535         32.470588\n",
      "Costa Marques                     24.412017         30.613636\n",
      "Cujubim                           24.482927         31.400000\n",
      "Espigão D'Oeste                   26.093333         31.198113\n",
      "Governador Jorge Teixeira         24.401786         29.222222\n",
      "Guajará-Mirim                     25.462228         30.470588\n",
      "Itapuã do Oeste                   26.064220         42.500000\n",
      "Jaru                              25.982974         32.197183\n",
      "Ji-Paraná                         26.361137         31.132239\n",
      "Machadinho D'Oeste                25.480000         31.326923\n",
      "Ministro Andreazza                27.904762         33.849315\n",
      "Mirante da Serra                  26.304878         32.154762\n",
      "Monte Negro                       25.648241         34.678571\n",
      "Município ignorado - RO           24.000000         22.000000\n",
      "Nova Brasilândia D'Oeste          26.222222         30.520833\n",
      "Nova Mamoré                       25.326389         31.692308\n",
      "Nova União                        26.894231         31.371429\n",
      "Novo Horizonte do Oeste           26.938776         31.588235\n",
      "Ouro Preto do Oeste               26.375594         31.233244\n",
      "Parecis                           26.454545         32.473684\n",
      "Pimenta Bueno                     25.199675         29.745174\n",
      "Pimenteiras do Oeste              25.075000         35.600000\n",
      "Porto Velho                       26.312670         32.352679\n",
      "Presidente Médici                 25.796053         30.150754\n",
      "Primavera de Rondônia             27.023256         31.888889\n",
      "Rio Crespo                        26.660000         28.000000\n",
      "Rolim de Moura                    26.600863         30.360479\n",
      "Santa Luzia D'Oeste               26.121212         30.703297\n",
      "Seringueiras                      24.910714         30.500000\n",
      "São Felipe D'Oeste                26.481481         31.395833\n",
      "São Francisco do Guaporé          25.660066         31.638889\n",
      "São Miguel do Guaporé             25.926346         32.666667\n",
      "Teixeirópolis                     26.031250         31.500000\n",
      "Theobroma                         25.536082         30.083333\n",
      "Urupá                             26.688235         31.008929\n",
      "Vale do Anari                     26.096774         34.000000\n",
      "Vale do Paraíso                   25.679012         29.976744\n",
      "Vilhena                           26.433962         34.152941\n"
     ]
    }
   ],
   "source": [
    "idade_media = sinasc_raw.groupby('munResNome')[['IDADEMAE', 'IDADEPAI']].mean()\n",
    "idade_media.rename(columns={'IDADEMAE': 'idade_media_maes', 'IDADEPAI': 'idade_media_pais'}, inplace=True)\n",
    "\n",
    "print(idade_media)"
   ]
  },
  {
   "cell_type": "markdown",
   "id": "5222b240-3cb1-4623-a425-8102f98b2a7a",
   "metadata": {},
   "source": [
    "2. Peso médio dos bebes por sexo que nasceram no dia do seu aniversário por faixas de escolaridade mae.."
   ]
  },
  {
   "cell_type": "code",
   "execution_count": 6,
   "id": "e9286fd8-b606-4a58-9064-d26a5560c173",
   "metadata": {},
   "outputs": [
    {
     "name": "stdout",
     "output_type": "stream",
     "text": [
      "ESCMAE           SEXO     \n",
      "1 a 3 anos       Masculino    4190.00000\n",
      "12 anos ou mais  Feminino     3110.00000\n",
      "                 Masculino    3524.75000\n",
      "4 a 7 anos       Feminino     3065.00000\n",
      "                 Masculino    3356.25000\n",
      "8 a 11 anos      Feminino     3173.95000\n",
      "                 Masculino    3355.73913\n",
      "Name: PESO, dtype: float64\n"
     ]
    }
   ],
   "source": [
    "sinasc_raw['DTNASC'] = pd.to_datetime(sinasc_raw['DTNASC'], errors='coerce')\n",
    "\n",
    "nascidos_aniversario = sinasc_raw[sinasc_raw['DTNASC'].dt.strftime('%d/%m') == '20/08']\n",
    "\n",
    "peso_medio = nascidos_aniversario.groupby(['ESCMAE', 'SEXO'])['PESO'].mean()\n",
    "\n",
    "print(peso_medio)"
   ]
  },
  {
   "cell_type": "markdown",
   "id": "b083068b-4a90-4118-b61c-47695dcd0e73",
   "metadata": {},
   "source": [
    " 3. Qual o municipio que nasceu menos bebe em 2019?\r\n",
    "    - qual a idade media, maxima, minima das maes nesse municipio?\r\n",
    "    - qual a idade media, maxima, minima dos pais nesse municipio?o?o?o?"
   ]
  },
  {
   "cell_type": "code",
   "execution_count": 17,
   "id": "60bf5d58-69ce-4274-8e88-14bd0a06267b",
   "metadata": {},
   "outputs": [
    {
     "name": "stdout",
     "output_type": "stream",
     "text": [
      "Município com menos nascimentos em 2019: Município ignorado - RO (1 nascimentos)\n"
     ]
    }
   ],
   "source": [
    "nascimentos_por_municipio = sinasc_raw['munResNome'].value_counts()\n",
    "\n",
    "municipio_menos_nascimentos = nascimentos_por_municipio.idxmin()\n",
    "quantidade_menos_nascimentos = nascimentos_por_municipio.min()\n",
    "\n",
    "print(f\"Município com menos nascimentos em 2019: {municipio_menos_nascimentos} ({quantidade_menos_nascimentos} nascimentos)\")"
   ]
  },
  {
   "cell_type": "code",
   "execution_count": 18,
   "id": "c9783adb-b2d3-4592-a1ee-6a5fda72eb40",
   "metadata": {},
   "outputs": [
    {
     "name": "stdout",
     "output_type": "stream",
     "text": [
      "Idade média das mães: 26.31267038046699\n",
      "Idade máxima das mães: 47\n",
      "Idade mínima das mães: 12\n"
     ]
    }
   ],
   "source": [
    "idade_maes_media = dados_municipio['IDADEMAE'].mean() \n",
    "idade_maes_max = dados_municipio['IDADEMAE'].max() \n",
    "idade_maes_min = dados_municipio['IDADEMAE'].min()\n",
    "\n",
    "print(f\"Idade média das mães: {idade_maes_media}\") \n",
    "print(f\"Idade máxima das mães: {idade_maes_max}\") \n",
    "print(f\"Idade mínima das mães: {idade_maes_min}\")"
   ]
  },
  {
   "cell_type": "code",
   "execution_count": 10,
   "id": "0b884158-26df-4160-9532-581afcdf2d65",
   "metadata": {},
   "outputs": [
    {
     "name": "stdout",
     "output_type": "stream",
     "text": [
      "Idade média dos pais: 22.0\n",
      "Idade máxima dos pais: 22.0\n",
      "Idade mínima dos pais: 22.0\n"
     ]
    }
   ],
   "source": [
    "idade_pais_media = dados_municipio['IDADEPAI'].mean() \n",
    "idade_pais_max = dados_municipio['IDADEPAI'].max() \n",
    "idade_pais_min = dados_municipio['IDADEPAI'].min() \n",
    "\n",
    "print(f\"Idade média dos pais: {idade_pais_media}\") \n",
    "print(f\"Idade máxima dos pais: {idade_pais_max}\") \n",
    "print(f\"Idade mínima dos pais: {idade_pais_min}\")"
   ]
  },
  {
   "cell_type": "markdown",
   "id": "5524000b-3cf4-4721-982a-da7d2f5414fb",
   "metadata": {},
   "source": [
    "4. Qual o municipio que nasceu mais bebe no mês de março?\r\n",
    "    - qual a quantidade de filhos vivos media, maxima, minima nesse municipio?\r\n",
    "    - qual a idade media, maxima, minima dos pais nesse municipio?"
   ]
  },
  {
   "cell_type": "code",
   "execution_count": 12,
   "id": "61edeefb-e32a-46c7-ab83-50eb35549c27",
   "metadata": {},
   "outputs": [
    {
     "name": "stdout",
     "output_type": "stream",
     "text": [
      "Município com mais nascimentos em março: Porto Velho (744 nascimentos)\n"
     ]
    }
   ],
   "source": [
    "sinasc_raw['DTNASC'] = pd.to_datetime(sinasc_raw['DTNASC'], errors='coerce')\n",
    "marco = sinasc_raw[sinasc_raw['DTNASC'].dt.month == 3]\n",
    "nascimentos_por_municipio = marco['munResNome'].value_counts()\n",
    "municipio_top = nascimentos_por_municipio.idxmax()\n",
    "quantidade_nascimentos = nascimentos_por_municipio.max()\n",
    "\n",
    "print(f\"Município com mais nascimentos em março: {municipio_top} ({quantidade_nascimentos} nascimentos)\")"
   ]
  },
  {
   "cell_type": "code",
   "execution_count": 13,
   "id": "d74425a5-cde1-4f48-bb5e-13c0981082e4",
   "metadata": {},
   "outputs": [
    {
     "name": "stdout",
     "output_type": "stream",
     "text": [
      "Quantidade de filhos vivos em Porto Velho:\n",
      "Média: 1.17, Máxima: 12.0, Mínima: 0.0\n"
     ]
    }
   ],
   "source": [
    "dados_municipio = sinasc_raw[sinasc_raw['munResNome'] == municipio_top]\n",
    "filhos_vivos_media = dados_municipio['QTDFILVIVO'].mean()\n",
    "filhos_vivos_maxima = dados_municipio['QTDFILVIVO'].max()\n",
    "filhos_vivos_minima = dados_municipio['QTDFILVIVO'].min()\n",
    "\n",
    "print(f\"Quantidade de filhos vivos em {municipio_top}:\")\n",
    "print(f\"Média: {filhos_vivos_media:.2f}, Máxima: {filhos_vivos_maxima}, Mínima: {filhos_vivos_minima}\")"
   ]
  },
  {
   "cell_type": "code",
   "execution_count": 14,
   "id": "2b2c7d2a-4189-4b4b-ba66-83e55ebba3f6",
   "metadata": {},
   "outputs": [
    {
     "name": "stdout",
     "output_type": "stream",
     "text": [
      "Idade dos pais em Porto Velho:\n",
      "Média: 32.35, Máxima: 65.0, Mínima: 16.0\n"
     ]
    }
   ],
   "source": [
    "idade_pai_media = dados_municipio['IDADEPAI'].mean()\n",
    "idade_pai_maxima = dados_municipio['IDADEPAI'].max()\n",
    "idade_pai_minima = dados_municipio['IDADEPAI'].min()\n",
    "\n",
    "print(f\"Idade dos pais em {municipio_top}:\")\n",
    "print(f\"Média: {idade_pai_media:.2f}, Máxima: {idade_pai_maxima}, Mínima: {idade_pai_minima}\")"
   ]
  },
  {
   "cell_type": "code",
   "execution_count": 15,
   "id": "2e0d8d3f-fe83-40a1-84ff-bc2387330b5f",
   "metadata": {},
   "outputs": [
    {
     "name": "stdout",
     "output_type": "stream",
     "text": [
      "Idade das mães em Porto Velho:\n",
      "Média: 26.31, Máxima: 47, Mínima: 12\n"
     ]
    }
   ],
   "source": [
    "idade_mae_media = dados_municipio['IDADEMAE'].mean()\n",
    "idade_mae_maxima = dados_municipio['IDADEMAE'].max()\n",
    "idade_mae_minima = dados_municipio['IDADEMAE'].min()\n",
    "\n",
    "print(f\"Idade das mães em {municipio_top}:\")\n",
    "print(f\"Média: {idade_mae_media:.2f}, Máxima: {idade_mae_maxima}, Mínima: {idade_mae_minima}\")"
   ]
  },
  {
   "cell_type": "markdown",
   "id": "f132ab19-7280-4584-8426-57068b2d5381",
   "metadata": {},
   "source": [
    "Achei interessante as informações obtidas que indicam que o município com mais nascimentos e com mais filhos vivos é o de Porto Velho achei interessante pois isso indica que é o município com maior qualidade na saúde, e imagino municípios vizinhos tendem a procurar no período de gestação. Ao contrario do município de ignorado (dentro do ano de 2019) que teve apenas 1 nascimento."
   ]
  },
  {
   "cell_type": "code",
   "execution_count": null,
   "id": "ee799e0b-a613-4b80-af9a-afe85b25bd11",
   "metadata": {},
   "outputs": [],
   "source": []
  }
 ],
 "metadata": {
  "kernelspec": {
   "display_name": "Python 3 (ipykernel)",
   "language": "python",
   "name": "python3"
  },
  "language_info": {
   "codemirror_mode": {
    "name": "ipython",
    "version": 3
   },
   "file_extension": ".py",
   "mimetype": "text/x-python",
   "name": "python",
   "nbconvert_exporter": "python",
   "pygments_lexer": "ipython3",
   "version": "3.12.4"
  }
 },
 "nbformat": 4,
 "nbformat_minor": 5
}
