{
 "cells": [
  {
   "cell_type": "code",
   "execution_count": 4,
   "id": "34411d58-a0d2-440b-9ac0-e7af45ac0055",
   "metadata": {},
   "outputs": [],
   "source": [
    "import numpy as np"
   ]
  },
  {
   "cell_type": "markdown",
   "id": "8af0d669-cead-4a65-b2e6-3e0e70e0282c",
   "metadata": {},
   "source": [
    "1) Alturas  \r\n",
    "i. No trecho de código abaixo, crie um ndarray chamado`altura_em_centimetro` transformando a lista`lista_de_alturas` em um ndarray do numpy com a função `np.arra() \r\n",
    "ii. Crie um outro objeto ``altura_em_metr``, com os valores d``altura_em_centimetr ` convertidos para metros."
   ]
  },
  {
   "cell_type": "code",
   "execution_count": 19,
   "id": "b98c92bd-a514-43bc-ab6c-f63be80f9c29",
   "metadata": {},
   "outputs": [
    {
     "data": {
      "text/plain": [
       "[170, 175, 180, 185]"
      ]
     },
     "execution_count": 19,
     "metadata": {},
     "output_type": "execute_result"
    }
   ],
   "source": [
    "lista_de_centimetros = list(range(170, 190, 5))\n",
    "lista_de_centimetros"
   ]
  },
  {
   "cell_type": "code",
   "execution_count": 20,
   "id": "45406d45-38a3-41ac-bd86-92b62ba1f1ac",
   "metadata": {},
   "outputs": [
    {
     "name": "stdout",
     "output_type": "stream",
     "text": [
      "Altura em centímetros: [170 175 180 185]\n",
      "Altura em metros: [1.7  1.75 1.8  1.85]\n"
     ]
    }
   ],
   "source": [
    "lista_de_centimetros = list(range(170, 190, 5))\n",
    "\n",
    "# i. Transformar a lista em um ndarray\n",
    "altura_em_centimetros = np.array(lista_de_centimetros)\n",
    "\n",
    "# ii. Converter os valores de centímetros para metros\n",
    "altura_em_metros = altura_em_centimetros / 100\n",
    "\n",
    "print(\"Altura em centímetros:\", altura_em_centimetros)\n",
    "print(\"Altura em metros:\", altura_em_metros)"
   ]
  },
  {
   "cell_type": "markdown",
   "id": "39929740-7ffe-4d98-b90b-2399329055e4",
   "metadata": {},
   "source": [
    "2) IMC  \r\n",
    "i. Considere que pesos em Kg dessas pessoas, na mesma ortem, estão na lista pesos`lista_pesos = [70, 75, 80, 85`. Crie um*ndarra* chamado`peso  com a função`np.array(` que contenha esses valores.  \r\n",
    "ii. Utilizando o objeto que contém as alturas em metros e esse objeto que contém os respectivos pesos em quilos, calcule o IMC desses indivíduos utilizando a aritmética de arrays e guarde os resultados em um objeto chamad``i``."
   ]
  },
  {
   "cell_type": "code",
   "execution_count": 11,
   "id": "4c81272a-2a55-443b-9ef6-e653ea024bfe",
   "metadata": {},
   "outputs": [
    {
     "data": {
      "text/plain": [
       "array([22.85714286, 23.14814815, 29.38475666, 29.41176471])"
      ]
     },
     "execution_count": 11,
     "metadata": {},
     "output_type": "execute_result"
    }
   ],
   "source": [
    "lista_pesos = [70, 75, 80, 85]\n",
    "lista_alturas = [1.75, 1.80, 1.65, 1.70]\n",
    "\n",
    "# Criando o ndarray para pesos\n",
    "pesos = np.array(lista_pesos)\n",
    "\n",
    "# Supondo as alturas em metros\n",
    "alturas = np.array(lista_alturas)\n",
    "\n",
    "# Calculando o IMC\n",
    "imc = pesos / (alturas ** 2)\n",
    "imc\n"
   ]
  },
  {
   "cell_type": "markdown",
   "id": "c8fc6882-54ce-4a16-a25a-b7fa703b41fc",
   "metadata": {},
   "source": [
    "3) Endividamento\r\n",
    "\r\n",
    "Cálculos de novas variáveis como endividamento total e comprometimento de renda são essenciais para a construção de modelos financeiros em ciência de dados. Áreas não financeiras terão cálculos semelhantes também. Vamos praticar:\r\n",
    "\r\n",
    "Considere que o seguinte ndarray contém os dados de 4 pessoas, total a ser pago a empréstimos mensalmente e renda familiar:\r\n",
    "\r\n",
    "| custo fixo | dívida financeira | renda familiar |\r\n",
    "|:----:|:----:|:---|\r\n",
    "| 3000  | 1000 | 6000 |\r\n",
    "| 2500  | 2500 | 5500 |\r\n",
    "| 1000  | 3000 | 7000 |\r\n",
    "| 10000 | 5000 | 16000 |\r\n",
    "\r\n",
    "i. Transforme a lista de listas ```dados_financeiros``` no ndarray ```nd_financeiros```.\r\n",
    "> ``` dados_financeiros[[3000, 2500, 1000, 10000],[1000, 2500, 3000, 5000],[6000, 5500, 7000, 16000]] ```\r\n",
    "\r\n",
    "ii. Utilize o método ```.transpose ``` e certifique-se de que esse ndarray tenha uma linha por indivíduo e uma coluna por informação. Utilizando a indexação do numpy, imprima no output a segunda linha do array, depois a segunda coluna.\r\n",
    "\r\n",
    "iii. Pratique aritmética com nearrays e calcule o endividamento total como:\r\n",
    "$$endividamento\\hspace{.2cm}total = \\frac{custo \\hspace{.2cm}fixo + dívida\\hspace{.2cm}financeira}{renda\\hspace{.2cm}familiar}$$\r\n",
    "Guarde os resultados em uma variável chamada ```endividamento_total``` e verifique os resultados imprimindo o conteúdo dessa variável no output.\r\n",
    "\r\n",
    "iv. Considere que há um erro de digitação que precisa ser corrigido: 3o indivíduo na verdade não possui renda familiar de R\\\\$7.000,00, mas sim R\\\\$ 10.000,00. Corrija esse valor e refaça os cálculos."
   ]
  },
  {
   "cell_type": "code",
   "execution_count": 12,
   "id": "2f3b8124-d962-4437-86ce-9abe59147733",
   "metadata": {},
   "outputs": [
    {
     "name": "stdout",
     "output_type": "stream",
     "text": [
      "[[ 3000  2500  1000 10000]\n",
      " [ 1000  2500  3000  5000]\n",
      " [ 6000  5500  7000 16000]]\n"
     ]
    }
   ],
   "source": [
    "# Lista de dados financeiros\n",
    "dados_financeiros = [[3000, 2500, 1000, 10000],\n",
    "                     [1000, 2500, 3000, 5000],\n",
    "                     [6000, 5500, 7000, 16000]]\n",
    "\n",
    "# Transformando em ndarray\n",
    "nd_financeiros = np.array(dados_financeiros)\n",
    "print(nd_financeiros)"
   ]
  },
  {
   "cell_type": "code",
   "execution_count": 13,
   "id": "8864010f-c722-4251-acb3-b272ebeea26a",
   "metadata": {},
   "outputs": [
    {
     "name": "stdout",
     "output_type": "stream",
     "text": [
      "Segunda linha: [2500 2500 5500]\n",
      "Segunda coluna: [1000 2500 3000 5000]\n"
     ]
    }
   ],
   "source": [
    "# Transpor o ndarray para que as informações fiquem como linhas de indivíduos e colunas de dados\n",
    "nd_financeiros_transposto = nd_financeiros.transpose()\n",
    "\n",
    "# Imprimir a segunda linha\n",
    "print(\"Segunda linha:\", nd_financeiros_transposto[1])\n",
    "\n",
    "# Imprimir a segunda coluna\n",
    "print(\"Segunda coluna:\", nd_financeiros_transposto[:, 1])\n"
   ]
  },
  {
   "cell_type": "code",
   "execution_count": 14,
   "id": "d7b18034-37f9-4fe1-8741-b7a781100442",
   "metadata": {},
   "outputs": [
    {
     "name": "stdout",
     "output_type": "stream",
     "text": [
      "Endividamento total: [0.66666667 0.90909091 0.57142857 0.9375    ]\n"
     ]
    }
   ],
   "source": [
    "# Extraindo as colunas\n",
    "custo_fixo = nd_financeiros_transposto[:, 0]\n",
    "divida_financeira = nd_financeiros_transposto[:, 1]\n",
    "renda_familiar = nd_financeiros_transposto[:, 2]\n",
    "\n",
    "# Calculando o endividamento total\n",
    "endividamento_total = (custo_fixo + divida_financeira) / renda_familiar\n",
    "print(\"Endividamento total:\", endividamento_total)\n"
   ]
  },
  {
   "cell_type": "code",
   "execution_count": 15,
   "id": "67259973-0d6e-4729-a8f3-d0b05da82fe7",
   "metadata": {},
   "outputs": [
    {
     "name": "stdout",
     "output_type": "stream",
     "text": [
      "Endividamento total corrigido: [0.66666667 0.90909091 0.4        0.9375    ]\n"
     ]
    }
   ],
   "source": [
    "# Corrigindo o valor de renda familiar do terceiro indivíduo\n",
    "nd_financeiros_transposto[2, 2] = 10000  # Índice 2 é a terceira pessoa e a coluna de renda é a de índice 2\n",
    "\n",
    "# Refazendo o cálculo do endividamento total\n",
    "renda_familiar_corrigida = nd_financeiros_transposto[:, 2]\n",
    "endividamento_total_corrigido = (custo_fixo + divida_financeira) / renda_familiar_corrigida\n",
    "print(\"Endividamento total corrigido:\", endividamento_total_corrigido)\n"
   ]
  },
  {
   "cell_type": "markdown",
   "id": "21930b6f-9a83-486d-aff6-5a474f83ac6b",
   "metadata": {},
   "source": [
    "4) É muito comum precisarmos identificar valores especiais e darmos tratamento a eles quer seja alterando-os quer seja descartando-os. \n",
    "\n",
    "O trecho de código abaixo gera um ndarray com números pseudo aleatórios. Considere que para efeitos do estudo que virá, devemos desconsiderar valores iguais a zero. Sendo assim:\n",
    "\n",
    "i) crie um objeto ```bool_zero``` que traga uma sequencia de booleanos do mesmo tamanho que o objeto poi, e que vale ```True``` quando o valor de ```poi``` é zero, e ```False``` caso contrário.\n",
    "\n",
    "ii) Conte quantos valores zero existem. Lembre-se de que no final das contas, ```True``` vale 1 para o Python, e ```False``` vale zero, então uma boa dica seria usar a função ```sum()```.\n",
    "\n",
    "iii) Utilize a indexação booleana que você aprendeu para criar uma variável ```poi_nao_zero``` que aponta para os elementos de ```poi``` diferentes de zero. Dica: você vai pode inverter os elementos do objeto que criou em *ii)* ou escrever a comparação adequada."
   ]
  },
  {
   "cell_type": "code",
   "execution_count": 16,
   "id": "9f0f8a90-5bcb-434c-801a-be397655a269",
   "metadata": {},
   "outputs": [
    {
     "name": "stdout",
     "output_type": "stream",
     "text": [
      "[False False False False False False False False False  True False False\n",
      " False False False False False False  True False False False False False\n",
      "  True False False False False False False False False False False False\n",
      " False False False False False False False False False False False False\n",
      " False False False False False False False False  True False False False\n",
      " False False False False False False False False False False False False\n",
      " False False False False False False False False False False  True False\n",
      " False  True False False False False False False False False False False\n",
      " False False False False]\n"
     ]
    }
   ],
   "source": [
    "# Gerar os números pseudo-aleatórios\n",
    "np.random.seed(1234)\n",
    "poi = np.random.poisson(3, 100)\n",
    "\n",
    "# Criar o objeto bool_zero\n",
    "bool_zero = (poi == 0)\n",
    "print(bool_zero)"
   ]
  },
  {
   "cell_type": "code",
   "execution_count": 17,
   "id": "c38d3adb-1758-4dbf-81b1-a58cc3d4c46f",
   "metadata": {},
   "outputs": [
    {
     "name": "stdout",
     "output_type": "stream",
     "text": [
      "Quantidade de zeros: 6\n"
     ]
    }
   ],
   "source": [
    "# Contar a quantidade de zeros\n",
    "qtd_zeros = sum(bool_zero)\n",
    "print(\"Quantidade de zeros:\", qtd_zeros)"
   ]
  },
  {
   "cell_type": "code",
   "execution_count": 18,
   "id": "aba4fd20-1aa6-4004-8250-74ee69a78790",
   "metadata": {},
   "outputs": [
    {
     "name": "stdout",
     "output_type": "stream",
     "text": [
      "Valores diferentes de zero: [3 3 6 2 4 5 4 4 2 3 3 2 8 2 3 3 3 4 4 2 6 6 3 4 3 5 2 1 3 2 2 3 2 4 4 5 7\n",
      " 3 5 3 3 2 2 3 6 2 2 4 3 5 2 5 3 2 1 1 4 4 4 6 2 4 1 2 5 5 3 4 1 4 1 1 7 1\n",
      " 2 1 3 7 4 4 6 1 3 4 2 5 4 5 5 3 4 6 8 2]\n"
     ]
    }
   ],
   "source": [
    "# Selecionar os valores de poi que não são zero\n",
    "poi_nao_zero = poi[~bool_zero] \n",
    "print(\"Valores diferentes de zero:\", poi_nao_zero)"
   ]
  },
  {
   "cell_type": "code",
   "execution_count": null,
   "id": "65efb7a6-9a17-4ae8-a9a7-0982efbba40f",
   "metadata": {},
   "outputs": [],
   "source": []
  }
 ],
 "metadata": {
  "kernelspec": {
   "display_name": "Python 3 (ipykernel)",
   "language": "python",
   "name": "python3"
  },
  "language_info": {
   "codemirror_mode": {
    "name": "ipython",
    "version": 3
   },
   "file_extension": ".py",
   "mimetype": "text/x-python",
   "name": "python",
   "nbconvert_exporter": "python",
   "pygments_lexer": "ipython3",
   "version": "3.12.4"
  }
 },
 "nbformat": 4,
 "nbformat_minor": 5
}
