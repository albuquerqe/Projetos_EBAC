{
 "cells": [
  {
   "cell_type": "code",
   "execution_count": 1,
   "id": "e1182f7a-7fc8-42b5-a14f-5c5833d019ee",
   "metadata": {},
   "outputs": [],
   "source": [
    "import pandas as pd\n",
    "import seaborn as sns\n",
    "from seaborn import load_dataset\n",
    "\n",
    "import matplotlib.pyplot as plt\n",
    "import statsmodels.api as sm\n",
    "\n",
    "import numpy as np\n",
    "\n",
    "import statsmodels.formula.api as smf"
   ]
  },
  {
   "cell_type": "code",
   "execution_count": 3,
   "id": "c87a16bc-5543-407a-a86e-553259c320e6",
   "metadata": {},
   "outputs": [
    {
     "name": "stdout",
     "output_type": "stream",
     "text": [
      "                            OLS Regression Results                            \n",
      "==============================================================================\n",
      "Dep. Variable:                tip_pct   R-squared:                       0.091\n",
      "Model:                            OLS   Adj. R-squared:                  0.088\n",
      "Method:                 Least Squares   F-statistic:                     24.31\n",
      "Date:                Fri, 07 Feb 2025   Prob (F-statistic):           1.52e-06\n",
      "Time:                        16:04:05   Log-Likelihood:                 108.00\n",
      "No. Observations:                 244   AIC:                            -212.0\n",
      "Df Residuals:                     242   BIC:                            -205.0\n",
      "Df Model:                           1                                         \n",
      "Covariance Type:            nonrobust                                         \n",
      "==============================================================================\n",
      "                 coef    std err          t      P>|t|      [0.025      0.975]\n",
      "------------------------------------------------------------------------------\n",
      "const          0.3053      0.023     13.166      0.000       0.260       0.351\n",
      "net_bill      -0.0061      0.001     -4.931      0.000      -0.009      -0.004\n",
      "==============================================================================\n",
      "Omnibus:                      468.674   Durbin-Watson:                   1.987\n",
      "Prob(Omnibus):                  0.000   Jarque-Bera (JB):           234437.604\n",
      "Skew:                          11.104   Prob(JB):                         0.00\n",
      "Kurtosis:                     153.221   Cond. No.                         43.3\n",
      "==============================================================================\n",
      "\n",
      "Notes:\n",
      "[1] Standard Errors assume that the covariance matrix of the errors is correctly specified.\n"
     ]
    }
   ],
   "source": [
    "tips = sns.load_dataset(\"tips\")\n",
    "\n",
    "tips[\"net_bill\"] = tips[\"total_bill\"] - tips[\"tip\"]\n",
    "\n",
    "tips[\"tip_pct\"] = tips[\"tip\"] / tips[\"net_bill\"]\n",
    "\n",
    "X = sm.add_constant(tips[\"net_bill\"])  # Adicionar intercepto\n",
    "y = tips[\"tip_pct\"]\n",
    "reg = sm.OLS(y, X).fit()\n",
    "\n",
    "print(reg.summary())"
   ]
  },
  {
   "cell_type": "code",
   "execution_count": 11,
   "id": "aa1707b9-f81d-479d-99d6-25f720c431f8",
   "metadata": {},
   "outputs": [
    {
     "name": "stdout",
     "output_type": "stream",
     "text": [
      "                            OLS Regression Results                            \n",
      "==============================================================================\n",
      "Dep. Variable:                tip_pct   R-squared:                       0.202\n",
      "Model:                            OLS   Adj. R-squared:                  0.198\n",
      "Method:                 Least Squares   F-statistic:                     61.16\n",
      "Date:                Fri, 07 Feb 2025   Prob (F-statistic):           1.62e-13\n",
      "Time:                        16:17:50   Log-Likelihood:                 123.81\n",
      "No. Observations:                 244   AIC:                            -243.6\n",
      "Df Residuals:                     242   BIC:                            -236.6\n",
      "Df Model:                           1                                         \n",
      "Covariance Type:            nonrobust                                         \n",
      "================================================================================\n",
      "                   coef    std err          t      P>|t|      [0.025      0.975]\n",
      "--------------------------------------------------------------------------------\n",
      "const            0.6181      0.054     11.444      0.000       0.512       0.724\n",
      "log_net_bill    -0.1534      0.020     -7.820      0.000      -0.192      -0.115\n",
      "==============================================================================\n",
      "Omnibus:                      440.899   Durbin-Watson:                   1.965\n",
      "Prob(Omnibus):                  0.000   Jarque-Bera (JB):           171509.052\n",
      "Skew:                           9.850   Prob(JB):                         0.00\n",
      "Kurtosis:                     131.381   Cond. No.                         17.9\n",
      "==============================================================================\n",
      "\n",
      "Notes:\n",
      "[1] Standard Errors assume that the covariance matrix of the errors is correctly specified.\n"
     ]
    }
   ],
   "source": [
    "tips[\"log_net_bill\"] = np.log(tips[\"net_bill\"])\n",
    "\n",
    "X_log = sm.add_constant(tips[\"log_net_bill\"])  \n",
    "y = tips[\"tip_pct\"]\n",
    "reg_log = sm.OLS(y, X_log).fit()\n",
    "\n",
    "print(reg_log.summary())"
   ]
  },
  {
   "cell_type": "code",
   "execution_count": 10,
   "id": "c557040a-df18-4d08-a842-fbf55420a493",
   "metadata": {},
   "outputs": [
    {
     "name": "stdout",
     "output_type": "stream",
     "text": [
      "                            OLS Regression Results                            \n",
      "==============================================================================\n",
      "Dep. Variable:                tip_pct   R-squared:                       0.158\n",
      "Model:                            OLS   Adj. R-squared:                  0.151\n",
      "Method:                 Least Squares   F-statistic:                     22.55\n",
      "Date:                Fri, 07 Feb 2025   Prob (F-statistic):           1.06e-09\n",
      "Time:                        16:17:28   Log-Likelihood:                 117.25\n",
      "No. Observations:                 244   AIC:                            -228.5\n",
      "Df Residuals:                     241   BIC:                            -218.0\n",
      "Df Model:                           2                                         \n",
      "Covariance Type:            nonrobust                                         \n",
      "===============================================================================\n",
      "                  coef    std err          t      P>|t|      [0.025      0.975]\n",
      "-------------------------------------------------------------------------------\n",
      "const           0.4851      0.047     10.332      0.000       0.393       0.578\n",
      "net_bill       -0.0268      0.005     -5.477      0.000      -0.036      -0.017\n",
      "net_bill_sq     0.0005      0.000      4.356      0.000       0.000       0.001\n",
      "==============================================================================\n",
      "Omnibus:                      447.620   Durbin-Watson:                   2.026\n",
      "Prob(Omnibus):                  0.000   Jarque-Bera (JB):           186035.672\n",
      "Skew:                          10.140   Prob(JB):                         0.00\n",
      "Kurtosis:                     136.744   Cond. No.                     2.42e+03\n",
      "==============================================================================\n",
      "\n",
      "Notes:\n",
      "[1] Standard Errors assume that the covariance matrix of the errors is correctly specified.\n",
      "[2] The condition number is large, 2.42e+03. This might indicate that there are\n",
      "strong multicollinearity or other numerical problems.\n"
     ]
    }
   ],
   "source": [
    "tips[\"net_bill_sq\"] = tips[\"net_bill\"] ** 2  \n",
    "\n",
    "X_poly = sm.add_constant(tips[[\"net_bill\", \"net_bill_sq\"]])  \n",
    "y = tips[\"tip_pct\"]\n",
    "\n",
    "reg_poly = sm.OLS(y, X_poly).fit()\n",
    "\n",
    "print(reg_poly.summary())"
   ]
  },
  {
   "cell_type": "code",
   "execution_count": 9,
   "id": "9caf6441-126a-4f5d-a996-3bdfc5815900",
   "metadata": {},
   "outputs": [
    {
     "name": "stdout",
     "output_type": "stream",
     "text": [
      "                            OLS Regression Results                            \n",
      "==============================================================================\n",
      "Dep. Variable:            log_tip_pct   R-squared:                       0.235\n",
      "Model:                            OLS   Adj. R-squared:                  0.232\n",
      "Method:                 Least Squares   F-statistic:                     74.48\n",
      "Date:                Fri, 07 Feb 2025   Prob (F-statistic):           8.27e-16\n",
      "Time:                        16:17:06   Log-Likelihood:                -106.00\n",
      "No. Observations:                 244   AIC:                             216.0\n",
      "Df Residuals:                     242   BIC:                             223.0\n",
      "Df Model:                           1                                         \n",
      "Covariance Type:            nonrobust                                         \n",
      "==============================================================================\n",
      "                 coef    std err          t      P>|t|      [0.025      0.975]\n",
      "------------------------------------------------------------------------------\n",
      "const         -1.2749      0.056    -22.872      0.000      -1.385      -1.165\n",
      "net_bill      -0.0259      0.003     -8.630      0.000      -0.032      -0.020\n",
      "==============================================================================\n",
      "Omnibus:                       49.929   Durbin-Watson:                   1.938\n",
      "Prob(Omnibus):                  0.000   Jarque-Bera (JB):              258.392\n",
      "Skew:                           0.664   Prob(JB):                     7.78e-57\n",
      "Kurtosis:                       7.864   Cond. No.                         43.3\n",
      "==============================================================================\n",
      "\n",
      "Notes:\n",
      "[1] Standard Errors assume that the covariance matrix of the errors is correctly specified.\n",
      "R² na escala original (tip_pct): 0.0868\n"
     ]
    }
   ],
   "source": [
    "tips[\"log_tip_pct\"] = np.log(tips[\"tip_pct\"])\n",
    "\n",
    "X = sm.add_constant(tips[\"net_bill\"])  \n",
    "y_log = tips[\"log_tip_pct\"]\n",
    "\n",
    "reg_log = sm.OLS(y_log, X).fit()\n",
    "\n",
    "pred_log_tip_pct = reg_log.fittedvalues\n",
    "\n",
    "pred_tip_pct = np.exp(pred_log_tip_pct)\n",
    "\n",
    "\n",
    "ss_total = np.sum((tips[\"tip_pct\"] - np.mean(tips[\"tip_pct\"])) ** 2)\n",
    "ss_residual = np.sum((tips[\"tip_pct\"] - pred_tip_pct) ** 2)\n",
    "r2_original = 1 - (ss_residual / ss_total)\n",
    "\n",
    "print(reg_log.summary())\n",
    "print(f\"R² na escala original (tip_pct): {r2_original:.4f}\")"
   ]
  },
  {
   "cell_type": "code",
   "execution_count": 8,
   "id": "11c63ead-9160-4a92-9c4c-4dbb6222a559",
   "metadata": {},
   "outputs": [
    {
     "name": "stdout",
     "output_type": "stream",
     "text": [
      "                            OLS Regression Results                            \n",
      "==============================================================================\n",
      "Dep. Variable:            log_tip_pct   R-squared:                       0.293\n",
      "Model:                            OLS   Adj. R-squared:                  0.291\n",
      "Method:                 Least Squares   F-statistic:                     100.5\n",
      "Date:                Fri, 07 Feb 2025   Prob (F-statistic):           5.20e-20\n",
      "Time:                        16:16:45   Log-Likelihood:                -96.357\n",
      "No. Observations:                 244   AIC:                             196.7\n",
      "Df Residuals:                     242   BIC:                             203.7\n",
      "Df Model:                           1                                         \n",
      "Covariance Type:            nonrobust                                         \n",
      "================================================================================\n",
      "                   coef    std err          t      P>|t|      [0.025      0.975]\n",
      "--------------------------------------------------------------------------------\n",
      "const           -0.3942      0.133     -2.961      0.003      -0.657      -0.132\n",
      "log_net_bill    -0.4849      0.048    -10.026      0.000      -0.580      -0.390\n",
      "==============================================================================\n",
      "Omnibus:                       12.633   Durbin-Watson:                   1.976\n",
      "Prob(Omnibus):                  0.002   Jarque-Bera (JB):               28.054\n",
      "Skew:                           0.141   Prob(JB):                     8.10e-07\n",
      "Kurtosis:                       4.637   Cond. No.                         17.9\n",
      "==============================================================================\n",
      "\n",
      "Notes:\n",
      "[1] Standard Errors assume that the covariance matrix of the errors is correctly specified.\n",
      "R² na escala original (tip_pct): 0.2277\n"
     ]
    }
   ],
   "source": [
    "tips[\"log_tip_pct\"] = np.log(tips[\"tip_pct\"])\n",
    "tips[\"log_net_bill\"] = np.log(tips[\"net_bill\"])\n",
    "\n",
    "X = sm.add_constant(tips[\"log_net_bill\"])  \n",
    "y_log = tips[\"log_tip_pct\"]\n",
    "\n",
    "reg_log_log = sm.OLS(y_log, X).fit()\n",
    "\n",
    "pred_log_tip_pct = reg_log_log.fittedvalues\n",
    "\n",
    "pred_tip_pct = np.exp(pred_log_tip_pct)\n",
    "\n",
    "ss_total = np.sum((tips[\"tip_pct\"] - np.mean(tips[\"tip_pct\"])) ** 2)\n",
    "ss_residual = np.sum((tips[\"tip_pct\"] - pred_tip_pct) ** 2)\n",
    "r2_original = 1 - (ss_residual / ss_total)\n",
    "\n",
    "print(reg_log_log.summary())\n",
    "print(f\"R² na escala original (tip_pct): {r2_original:.4f}\")"
   ]
  },
  {
   "cell_type": "markdown",
   "id": "50dca967-5604-4c6d-8b2e-4a4aa07da62f",
   "metadata": {},
   "source": [
    "O modelo 5 é o melhor, pois explica melhor a variação de tip_pct em função de net_bill, especialmente após a transformação logarítmica nas variáveis."
   ]
  },
  {
   "cell_type": "code",
   "execution_count": null,
   "id": "754677aa-6fd3-47c0-8f19-9e59bb6a6bd3",
   "metadata": {},
   "outputs": [],
   "source": []
  }
 ],
 "metadata": {
  "kernelspec": {
   "display_name": "Python 3 (ipykernel)",
   "language": "python",
   "name": "python3"
  },
  "language_info": {
   "codemirror_mode": {
    "name": "ipython",
    "version": 3
   },
   "file_extension": ".py",
   "mimetype": "text/x-python",
   "name": "python",
   "nbconvert_exporter": "python",
   "pygments_lexer": "ipython3",
   "version": "3.12.4"
  }
 },
 "nbformat": 4,
 "nbformat_minor": 5
}
