{
 "cells": [
  {
   "cell_type": "code",
   "execution_count": 29,
   "id": "c63d6fb0-23ee-403d-80b3-f9f65312d78d",
   "metadata": {},
   "outputs": [],
   "source": [
    "import pandas as pd"
   ]
  },
  {
   "cell_type": "code",
   "execution_count": 30,
   "id": "62a9fb38-f0ae-418b-9704-fec8d929c19a",
   "metadata": {},
   "outputs": [],
   "source": [
    "propostas = pd.read_csv('application_record.csv')\n",
    "pg = pd.read_csv('pagamentos_largo.csv')"
   ]
  },
  {
   "cell_type": "code",
   "execution_count": 4,
   "id": "9d84b294-9f05-473c-8420-6f8f30d81ca3",
   "metadata": {
    "scrolled": true
   },
   "outputs": [
    {
     "data": {
      "text/html": [
       "<div>\n",
       "<style scoped>\n",
       "    .dataframe tbody tr th:only-of-type {\n",
       "        vertical-align: middle;\n",
       "    }\n",
       "\n",
       "    .dataframe tbody tr th {\n",
       "        vertical-align: top;\n",
       "    }\n",
       "\n",
       "    .dataframe thead th {\n",
       "        text-align: right;\n",
       "    }\n",
       "</style>\n",
       "<table border=\"1\" class=\"dataframe\">\n",
       "  <thead>\n",
       "    <tr style=\"text-align: right;\">\n",
       "      <th></th>\n",
       "      <th>ID</th>\n",
       "      <th>mes_0</th>\n",
       "      <th>mes_1</th>\n",
       "      <th>mes_10</th>\n",
       "      <th>mes_11</th>\n",
       "      <th>mes_12</th>\n",
       "      <th>mes_13</th>\n",
       "      <th>mes_14</th>\n",
       "      <th>mes_15</th>\n",
       "      <th>mes_16</th>\n",
       "      <th>...</th>\n",
       "      <th>mes_22</th>\n",
       "      <th>mes_23</th>\n",
       "      <th>mes_24</th>\n",
       "      <th>mes_3</th>\n",
       "      <th>mes_4</th>\n",
       "      <th>mes_5</th>\n",
       "      <th>mes_6</th>\n",
       "      <th>mes_7</th>\n",
       "      <th>mes_8</th>\n",
       "      <th>mes_9</th>\n",
       "    </tr>\n",
       "  </thead>\n",
       "  <tbody>\n",
       "    <tr>\n",
       "      <th>0</th>\n",
       "      <td>5001718</td>\n",
       "      <td>0</td>\n",
       "      <td>0</td>\n",
       "      <td>0</td>\n",
       "      <td>0</td>\n",
       "      <td>0</td>\n",
       "      <td>0</td>\n",
       "      <td>0</td>\n",
       "      <td>0</td>\n",
       "      <td>NaN</td>\n",
       "      <td>...</td>\n",
       "      <td>NaN</td>\n",
       "      <td>0</td>\n",
       "      <td>NaN</td>\n",
       "      <td>0</td>\n",
       "      <td>0</td>\n",
       "      <td>0</td>\n",
       "      <td>0</td>\n",
       "      <td>NaN</td>\n",
       "      <td>0</td>\n",
       "      <td>NaN</td>\n",
       "    </tr>\n",
       "    <tr>\n",
       "      <th>1</th>\n",
       "      <td>5001719</td>\n",
       "      <td>0</td>\n",
       "      <td>0</td>\n",
       "      <td>C</td>\n",
       "      <td>C</td>\n",
       "      <td>C</td>\n",
       "      <td>C</td>\n",
       "      <td>C</td>\n",
       "      <td>C</td>\n",
       "      <td>C</td>\n",
       "      <td>...</td>\n",
       "      <td>C</td>\n",
       "      <td>C</td>\n",
       "      <td>C</td>\n",
       "      <td>C</td>\n",
       "      <td>C</td>\n",
       "      <td>C</td>\n",
       "      <td>C</td>\n",
       "      <td>C</td>\n",
       "      <td>C</td>\n",
       "      <td>C</td>\n",
       "    </tr>\n",
       "    <tr>\n",
       "      <th>2</th>\n",
       "      <td>5001720</td>\n",
       "      <td>0</td>\n",
       "      <td>0</td>\n",
       "      <td>0</td>\n",
       "      <td>0</td>\n",
       "      <td>0</td>\n",
       "      <td>0</td>\n",
       "      <td>0</td>\n",
       "      <td>0</td>\n",
       "      <td>0</td>\n",
       "      <td>...</td>\n",
       "      <td>1</td>\n",
       "      <td>0</td>\n",
       "      <td>0</td>\n",
       "      <td>0</td>\n",
       "      <td>0</td>\n",
       "      <td>0</td>\n",
       "      <td>0</td>\n",
       "      <td>0</td>\n",
       "      <td>0</td>\n",
       "      <td>0</td>\n",
       "    </tr>\n",
       "    <tr>\n",
       "      <th>3</th>\n",
       "      <td>5001723</td>\n",
       "      <td>0</td>\n",
       "      <td>0</td>\n",
       "      <td>NaN</td>\n",
       "      <td>NaN</td>\n",
       "      <td>NaN</td>\n",
       "      <td>NaN</td>\n",
       "      <td>NaN</td>\n",
       "      <td>NaN</td>\n",
       "      <td>NaN</td>\n",
       "      <td>...</td>\n",
       "      <td>NaN</td>\n",
       "      <td>NaN</td>\n",
       "      <td>NaN</td>\n",
       "      <td>0</td>\n",
       "      <td>0</td>\n",
       "      <td>0</td>\n",
       "      <td>0</td>\n",
       "      <td>0</td>\n",
       "      <td>NaN</td>\n",
       "      <td>NaN</td>\n",
       "    </tr>\n",
       "    <tr>\n",
       "      <th>4</th>\n",
       "      <td>5001726</td>\n",
       "      <td>0</td>\n",
       "      <td>0</td>\n",
       "      <td>C</td>\n",
       "      <td>C</td>\n",
       "      <td>C</td>\n",
       "      <td>C</td>\n",
       "      <td>C</td>\n",
       "      <td>C</td>\n",
       "      <td>C</td>\n",
       "      <td>...</td>\n",
       "      <td>C</td>\n",
       "      <td>C</td>\n",
       "      <td>C</td>\n",
       "      <td>0</td>\n",
       "      <td>0</td>\n",
       "      <td>0</td>\n",
       "      <td>C</td>\n",
       "      <td>C</td>\n",
       "      <td>C</td>\n",
       "      <td>C</td>\n",
       "    </tr>\n",
       "  </tbody>\n",
       "</table>\n",
       "<p>5 rows × 26 columns</p>\n",
       "</div>"
      ],
      "text/plain": [
       "        ID mes_0 mes_1 mes_10 mes_11 mes_12 mes_13 mes_14 mes_15 mes_16  ...  \\\n",
       "0  5001718     0     0      0      0      0      0      0      0    NaN  ...   \n",
       "1  5001719     0     0      C      C      C      C      C      C      C  ...   \n",
       "2  5001720     0     0      0      0      0      0      0      0      0  ...   \n",
       "3  5001723     0     0    NaN    NaN    NaN    NaN    NaN    NaN    NaN  ...   \n",
       "4  5001726     0     0      C      C      C      C      C      C      C  ...   \n",
       "\n",
       "  mes_22 mes_23 mes_24 mes_3 mes_4 mes_5 mes_6 mes_7 mes_8 mes_9  \n",
       "0    NaN      0    NaN     0     0     0     0   NaN     0   NaN  \n",
       "1      C      C      C     C     C     C     C     C     C     C  \n",
       "2      1      0      0     0     0     0     0     0     0     0  \n",
       "3    NaN    NaN    NaN     0     0     0     0     0   NaN   NaN  \n",
       "4      C      C      C     0     0     0     C     C     C     C  \n",
       "\n",
       "[5 rows x 26 columns]"
      ]
     },
     "execution_count": 4,
     "metadata": {},
     "output_type": "execute_result"
    }
   ],
   "source": [
    "pg.head()"
   ]
  },
  {
   "cell_type": "markdown",
   "id": "dad29c9b-3d70-4135-b99c-ed9534356c51",
   "metadata": {},
   "source": [
    "#### Tarefa 1) Marcar *default* no mês\r\n",
    "Faça uma indicadora de se o cliente está em *default* em cada uma das marcações (mes_00 a mes_24). Dica: você pode utilizar o método ```.isin()``` do Pandas. Consulte a [documentação](https://pandas.pydata.org/pandas-docs/stable/reference/api/pandas.DataFrame.isin.html) caso necessário."
   ]
  },
  {
   "cell_type": "code",
   "execution_count": 17,
   "id": "c64cf7dc-8c55-42ae-9164-ca63a9b4293f",
   "metadata": {},
   "outputs": [
    {
     "name": "stdout",
     "output_type": "stream",
     "text": [
      "        ID mes_0 mes_1 mes_10 mes_11 mes_12 mes_13 mes_14 mes_15 mes_16  ...  \\\n",
      "0  5001718     0     0      0      0      0      0      0      0    NaN  ...   \n",
      "1  5001719     0     0      C      C      C      C      C      C      C  ...   \n",
      "2  5001720     0     0      0      0      0      0      0      0      0  ...   \n",
      "3  5001723     0     0    NaN    NaN    NaN    NaN    NaN    NaN    NaN  ...   \n",
      "4  5001726     0     0      C      C      C      C      C      C      C  ...   \n",
      "\n",
      "  mes_23 mes_24 mes_3 mes_4 mes_5 mes_6 mes_7 mes_8 mes_9 default  \n",
      "0      0    NaN     0     0     0     0   NaN     0   NaN   False  \n",
      "1      C      C     C     C     C     C     C     C     C    True  \n",
      "2      0      0     0     0     0     0     0     0     0   False  \n",
      "3    NaN    NaN     0     0     0     0     0   NaN   NaN   False  \n",
      "4      C      C     0     0     0     C     C     C     C    True  \n",
      "\n",
      "[5 rows x 27 columns]\n"
     ]
    }
   ],
   "source": [
    "pg['default'] = pg.loc[:, 'mes_00':'mes_24'].isin(['C']).any(axis=1)\n",
    "\n",
    "# Ver as primeiras linhas para conferir\n",
    "print(pg.head())"
   ]
  },
  {
   "cell_type": "markdown",
   "id": "abcef7f2-abb8-469d-8c62-591611c4fad2",
   "metadata": {},
   "source": [
    "#### Tarefa 2) 'bons' e 'maus' ao longo de todos os 24 meses de desempenho\r\n",
    "Marque para cada cliente se ele teve pelo menos um episódio de *default* entre o mês 0 e o mês 24. Dica: o método ```sum()``` pode ajudar. Caso precise, consulte a [documentação](https://pandas.pydata.org/docs/reference/api/pandas.DataFrame.sum.html) e procure pelo argumento ```axis```, você viu outros métodos que possuem esse argumento também. Tendo o número de meses em default de cada cliente, basta marcar ```True``` para todos aqueles que possuem pelo menos 1 mês em *default* e ```False``` para os demais."
   ]
  },
  {
   "cell_type": "code",
   "execution_count": 19,
   "id": "e198a0e4-8504-4fb7-bcbf-c6e28e739cbb",
   "metadata": {},
   "outputs": [
    {
     "name": "stdout",
     "output_type": "stream",
     "text": [
      "tem_default\n",
      "True     13516\n",
      "False     7421\n",
      "Name: count, dtype: int64\n"
     ]
    }
   ],
   "source": [
    "# Criar uma coluna 'default_total' que conta o número de meses em default (considerando 'C' como default)\n",
    "pg['default_total'] = pg.loc[:, 'mes_0':'mes_24'].isin(['C']).sum(axis=1)\n",
    "\n",
    "# Criar uma coluna 'tem_default' que marca True para clientes com pelo menos 1 mês em default\n",
    "pg['tem_default'] = pg['default_total'] > 0\n",
    "\n",
    "# Exibir os resultados\n",
    "resultado = pg['tem_default'].value_counts()\n",
    "print(resultado)"
   ]
  },
  {
   "cell_type": "markdown",
   "id": "744a1b9c-d2d1-42a7-9cb2-81b5375d0e23",
   "metadata": {},
   "source": [
    "#### Tarefa 3) Marcando proponentes expostos ao risco de crédito\r\n",
    "Marcando proponentes que se tornaram tomadores: lembre-se de que clientes que não adquiriram o cartão devem ser desconsiderados. A base de pagamentos possui apenas clientes que adquiriram cartão de crédito, então você pode selecionar somente os clientes da base de propostas que se encontram na base de pagamentos."
   ]
  },
  {
   "cell_type": "code",
   "execution_count": 25,
   "id": "e5aada9a-2464-47d6-b210-2d626def544c",
   "metadata": {},
   "outputs": [
    {
     "name": "stdout",
     "output_type": "stream",
     "text": [
      "tem_default\n",
      "True     10543\n",
      "False     6107\n",
      "Name: count, dtype: int64\n"
     ]
    }
   ],
   "source": [
    "# Selecionar somente os clientes da base de propostas que estão na base de pagamentos\n",
    "clientes_com_cartao = propostas[propostas['ID'].isin(pg['ID'])]\n",
    "\n",
    "# Filtrar os clientes na base de pagamentos para incluir apenas aqueles da base de propostas\n",
    "pg_filtrado = pg[pg['ID'].isin(clientes_com_cartao['ID'])].copy()\n",
    "\n",
    "# Criar uma coluna 'default_total' que conta o número de meses em default (considerando 'C' como default)\n",
    "pg_filtrado.loc[:, 'default_total'] = pg_filtrado.loc[:, 'mes_0':'mes_24'].isin(['C']).sum(axis=1)\n",
    "\n",
    "# Criar uma coluna 'tem_default' que marca True para clientes com pelo menos 1 mês em default\n",
    "pg_filtrado.loc[:, 'tem_default'] = pg_filtrado['default_total'] > 0\n",
    "\n",
    "# Contar o número de clientes com e sem default\n",
    "resultado = pg_filtrado['tem_default'].value_counts()\n",
    "print(resultado)"
   ]
  },
  {
   "cell_type": "markdown",
   "id": "de5b5a15-1b75-4969-9e64-8e3823a1362a",
   "metadata": {},
   "source": [
    "#### Tarefa 4) Consolidando as informações\r\n",
    "Faça uma junção das informações da base de propostas com a variável de *default* que você acabou de construir. Talvez você consiga realizar a tarefa 3 e tarefa 4 em uma única linha de código ;)"
   ]
  },
  {
   "cell_type": "code",
   "execution_count": 26,
   "id": "3a10afce-80dd-4b12-a2bb-707150ee1a3b",
   "metadata": {},
   "outputs": [
    {
     "name": "stdout",
     "output_type": "stream",
     "text": [
      "        ID CODE_GENDER FLAG_OWN_CAR FLAG_OWN_REALTY  CNT_CHILDREN  \\\n",
      "0  5008806           M            Y               Y             0   \n",
      "1  5008810           F            N               Y             0   \n",
      "2  5008811           F            N               Y             0   \n",
      "3  5112956           M            Y               Y             0   \n",
      "4  5008825           F            Y               N             0   \n",
      "\n",
      "   AMT_INCOME_TOTAL      NAME_INCOME_TYPE            NAME_EDUCATION_TYPE  \\\n",
      "0          112500.0               Working  Secondary / secondary special   \n",
      "1          270000.0  Commercial associate  Secondary / secondary special   \n",
      "2          270000.0  Commercial associate  Secondary / secondary special   \n",
      "3          270000.0               Working               Higher education   \n",
      "4          130500.0               Working              Incomplete higher   \n",
      "\n",
      "     NAME_FAMILY_STATUS  NAME_HOUSING_TYPE  DAYS_BIRTH  DAYS_EMPLOYED  \\\n",
      "0               Married  House / apartment      -21474          -1134   \n",
      "1  Single / not married  House / apartment      -19110          -3051   \n",
      "2  Single / not married  House / apartment      -19110          -3051   \n",
      "3               Married  House / apartment      -16872           -769   \n",
      "4               Married  House / apartment      -10669          -1103   \n",
      "\n",
      "   FLAG_MOBIL  FLAG_WORK_PHONE  FLAG_PHONE  FLAG_EMAIL OCCUPATION_TYPE  \\\n",
      "0           1                0           0           0  Security staff   \n",
      "1           1                0           1           1     Sales staff   \n",
      "2           1                0           1           1     Sales staff   \n",
      "3           1                1           1           1     Accountants   \n",
      "4           1                0           0           0     Accountants   \n",
      "\n",
      "   CNT_FAM_MEMBERS  tem_default  \n",
      "0              2.0         True  \n",
      "1              1.0         True  \n",
      "2              1.0         True  \n",
      "3              2.0        False  \n",
      "4              2.0        False  \n"
     ]
    }
   ],
   "source": [
    "# Selecionar somente os clientes da base de propostas que estão na base de pagamentos e criar coluna 'tem_default'\n",
    "clientes_com_cartao = propostas[propostas['ID'].isin(pg['ID'])]\n",
    "pg_filtrado = pg[pg['ID'].isin(clientes_com_cartao['ID'])].copy()\n",
    "\n",
    "# Criar coluna 'default_total' e 'tem_default'\n",
    "pg_filtrado.loc[:, 'default_total'] = pg_filtrado.loc[:, 'mes_0':'mes_24'].isin(['C']).sum(axis=1)\n",
    "pg_filtrado.loc[:, 'tem_default'] = pg_filtrado['default_total'] > 0\n",
    "\n",
    "# Consolidar as informações em uma única linha de código usando merge\n",
    "dados_consolidados = pd.merge(clientes_com_cartao, pg_filtrado[['ID', 'tem_default']], on='ID')\n",
    "\n",
    "print(dados_consolidados.head())"
   ]
  },
  {
   "cell_type": "markdown",
   "id": "cad0de66-fad2-477d-884f-01d4935d9e75",
   "metadata": {},
   "source": [
    "#### Tarefa 5) Verificando\r\n",
    "Faça uma contagem dos valores do *default* que você construiu. "
   ]
  },
  {
   "cell_type": "code",
   "execution_count": 28,
   "id": "d6b75809-eb3f-47fc-a4ee-3f619929ee42",
   "metadata": {},
   "outputs": [
    {
     "name": "stdout",
     "output_type": "stream",
     "text": [
      "tem_default\n",
      "True     10543\n",
      "False     6107\n",
      "Name: count, dtype: int64\n"
     ]
    }
   ],
   "source": [
    "# Contar os valores na coluna 'tem_default'\n",
    "contagem_default = dados_consolidados['tem_default'].value_counts()\n",
    "print(contagem_default)"
   ]
  }
 ],
 "metadata": {
  "kernelspec": {
   "display_name": "Python 3 (ipykernel)",
   "language": "python",
   "name": "python3"
  },
  "language_info": {
   "codemirror_mode": {
    "name": "ipython",
    "version": 3
   },
   "file_extension": ".py",
   "mimetype": "text/x-python",
   "name": "python",
   "nbconvert_exporter": "python",
   "pygments_lexer": "ipython3",
   "version": "3.12.4"
  }
 },
 "nbformat": 4,
 "nbformat_minor": 5
}
