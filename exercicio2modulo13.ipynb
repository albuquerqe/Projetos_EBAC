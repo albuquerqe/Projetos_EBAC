{
 "cells": [
  {
   "cell_type": "code",
   "execution_count": 35,
   "id": "80ba14a3-dd06-40d4-96a5-5e7f4bd93111",
   "metadata": {},
   "outputs": [],
   "source": [
    "import pandas as pd\n",
    "from sklearn.model_selection import train_test_split\n",
    "import numpy as np\n",
    "from sklearn.linear_model import Ridge\n",
    "from sklearn.metrics import r2_score\n",
    "from sklearn.linear_model import Lasso\n",
    "from sklearn.preprocessing import StandardScaler, PolynomialFeatures\n",
    "from sklearn.tree import DecisionTreeRegressor\n"
   ]
  },
  {
   "cell_type": "code",
   "execution_count": 36,
   "id": "e97f12fd-b496-4a10-aad2-dff7880b48d0",
   "metadata": {},
   "outputs": [],
   "source": [
    "df = pd.read_csv('previsao_de_renda.csv')"
   ]
  },
  {
   "cell_type": "code",
   "execution_count": 37,
   "id": "e3d12606-a27d-49dc-941b-eb100020fb5b",
   "metadata": {},
   "outputs": [
    {
     "name": "stderr",
     "output_type": "stream",
     "text": [
      "C:\\Users\\luiiz\\AppData\\Local\\Temp\\ipykernel_15308\\3709895104.py:1: FutureWarning: A value is trying to be set on a copy of a DataFrame or Series through chained assignment using an inplace method.\n",
      "The behavior will change in pandas 3.0. This inplace method will never work because the intermediate object on which we are setting values always behaves as a copy.\n",
      "\n",
      "For example, when doing 'df[col].method(value, inplace=True)', try using 'df.method({col: value}, inplace=True)' or df[col] = df[col].method(value) instead, to perform the operation inplace on the original object.\n",
      "\n",
      "\n",
      "  df['tempo_emprego'].fillna(df['tempo_emprego'].median(), inplace=True)\n"
     ]
    }
   ],
   "source": [
    "df['tempo_emprego'].fillna(df['tempo_emprego'].median(), inplace=True)\n",
    "\n",
    "df['log_renda'] = np.log(df['renda'])"
   ]
  },
  {
   "cell_type": "code",
   "execution_count": 38,
   "id": "4d1eeb00-070a-49c2-a01e-e33a1ea3220c",
   "metadata": {},
   "outputs": [
    {
     "name": "stdout",
     "output_type": "stream",
     "text": [
      "Tamanho do conjunto de treinamento: (11250, 17)\n",
      "Tamanho do conjunto de teste: (3750, 17)\n"
     ]
    }
   ],
   "source": [
    "train_df, test_df = train_test_split(df, test_size=0.25, random_state=42)\n",
    "\n",
    "print(\"Tamanho do conjunto de treinamento:\", train_df.shape)\n",
    "print(\"Tamanho do conjunto de teste:\", test_df.shape)"
   ]
  },
  {
   "cell_type": "code",
   "execution_count": 39,
   "id": "e2fd29ea-324d-4f6e-b824-210807910c9c",
   "metadata": {},
   "outputs": [],
   "source": [
    "X_train = train_df.drop(columns=['renda', 'log_renda', 'data_ref', 'Unnamed: 0'])\n",
    "y_train = train_df['log_renda']\n",
    "X_test = test_df.drop(columns=['renda', 'log_renda', 'data_ref', 'Unnamed: 0'])\n",
    "y_test = test_df['log_renda']"
   ]
  },
  {
   "cell_type": "code",
   "execution_count": 40,
   "id": "5df4a2e6-e39a-4a52-8406-ad2622ca722a",
   "metadata": {},
   "outputs": [],
   "source": [
    "X_train = pd.get_dummies(X_train, drop_first=True)\n",
    "X_test = pd.get_dummies(X_test, drop_first=True)"
   ]
  },
  {
   "cell_type": "code",
   "execution_count": 41,
   "id": "5eee58c4-5b17-4944-a81b-5df20b6f4e61",
   "metadata": {},
   "outputs": [],
   "source": [
    "X_test = X_test.reindex(columns=X_train.columns, fill_value=0)"
   ]
  },
  {
   "cell_type": "code",
   "execution_count": 42,
   "id": "cef07a87-5292-434d-9168-c57f13a88305",
   "metadata": {},
   "outputs": [
    {
     "name": "stdout",
     "output_type": "stream",
     "text": [
      "Alpha: 0, R^2: 0.24138254239751167\n",
      "Alpha: 0.001, R^2: 0.24138261289911378\n",
      "Alpha: 0.005, R^2: 0.241382894635095\n",
      "Alpha: 0.01, R^2: 0.24138324619740736\n",
      "Alpha: 0.05, R^2: 0.24138603454473218\n",
      "Alpha: 0.1, R^2: 0.24138946034560982\n",
      "O melhor modelo tem alpha = 0.1 com R^2 = 0.24138946034560982\n"
     ]
    }
   ],
   "source": [
    "alphas = [0, 0.001, 0.005, 0.01, 0.05, 0.1]\n",
    "results = {}\n",
    "\n",
    "for alpha in alphas:\n",
    "    ridge_model = Ridge(alpha=alpha)\n",
    "    ridge_model.fit(X_train, y_train)\n",
    "    y_pred = ridge_model.predict(X_test)\n",
    "    r2 = r2_score(y_test, y_pred)\n",
    "    results[alpha] = r2\n",
    "\n",
    "for alpha, r2 in results.items():\n",
    "    print(f'Alpha: {alpha}, R^2: {r2}')\n",
    "\n",
    "best_alpha = max(results, key=results.get)\n",
    "best_r2 = results[best_alpha]\n",
    "print(f'O melhor modelo tem alpha = {best_alpha} com R^2 = {best_r2}')"
   ]
  },
  {
   "cell_type": "code",
   "execution_count": 43,
   "id": "83b8d91f-d4f0-40e3-a62a-f99fc613e405",
   "metadata": {},
   "outputs": [
    {
     "name": "stderr",
     "output_type": "stream",
     "text": [
      "C:\\Users\\luiiz\\anaconda3\\Lib\\site-packages\\sklearn\\base.py:1474: UserWarning: With alpha=0, this algorithm does not converge well. You are advised to use the LinearRegression estimator\n",
      "  return fit_method(estimator, *args, **kwargs)\n",
      "C:\\Users\\luiiz\\anaconda3\\Lib\\site-packages\\sklearn\\linear_model\\_coordinate_descent.py:678: UserWarning: Coordinate descent with no regularization may lead to unexpected results and is discouraged.\n",
      "  model = cd_fast.enet_coordinate_descent(\n"
     ]
    },
    {
     "name": "stdout",
     "output_type": "stream",
     "text": [
      "Alpha: 0, R^2: 0.24138103454645166\n",
      "Alpha: 0.001, R^2: 0.2407102335255512\n",
      "Alpha: 0.005, R^2: 0.23880336747416075\n",
      "Alpha: 0.01, R^2: 0.23418674216260527\n",
      "Alpha: 0.05, R^2: 0.19602508225078608\n",
      "Alpha: 0.1, R^2: 0.13636514431019942\n",
      "O melhor modelo tem alpha = 0 com R^2 = 0.24138103454645166\n"
     ]
    },
    {
     "name": "stderr",
     "output_type": "stream",
     "text": [
      "C:\\Users\\luiiz\\anaconda3\\Lib\\site-packages\\sklearn\\linear_model\\_coordinate_descent.py:678: ConvergenceWarning: Objective did not converge. You might want to increase the number of iterations, check the scale of the features or consider increasing regularisation. Duality gap: 2.739e+03, tolerance: 7.054e-01 Linear regression models with null weight for the l1 regularization term are more efficiently fitted using one of the solvers implemented in sklearn.linear_model.Ridge/RidgeCV instead.\n",
      "  model = cd_fast.enet_coordinate_descent(\n"
     ]
    }
   ],
   "source": [
    "results = {}\n",
    "for alpha in alphas:\n",
    "    lasso_model = Lasso(alpha=alpha)\n",
    "    lasso_model.fit(X_train, y_train)\n",
    "    y_pred = lasso_model.predict(X_test)\n",
    "    r2 = r2_score(y_test, y_pred)\n",
    "    results[alpha] = r2\n",
    "\n",
    "# Exibir os resultados\n",
    "for alpha, r2 in results.items():\n",
    "    print(f'Alpha: {alpha}, R^2: {r2}')\n",
    "\n",
    "# Identificar o melhor modelo\n",
    "best_alpha = max(results, key=results.get)\n",
    "best_r2 = results[best_alpha]\n",
    "print(f'O melhor modelo tem alpha = {best_alpha} com R^2 = {best_r2}')"
   ]
  },
  {
   "cell_type": "markdown",
   "id": "f1b8f9f9-c077-409d-b74c-de4fd81d331d",
   "metadata": {},
   "source": [
    "Isso depende do contexto e das suas prioridades. Se sua prioridade é ter o maior valor de R² possível, então o primeiro conjunto com Alpha 0.1 é melhor. No entanto, se você valoriza um modelo sem regularização (Alpha 0), o segundo conjunto é melhor."
   ]
  },
  {
   "cell_type": "code",
   "execution_count": 44,
   "id": "be81ec79-1653-42c0-a917-6fd0a483597e",
   "metadata": {},
   "outputs": [
    {
     "name": "stdout",
     "output_type": "stream",
     "text": [
      "R² do modelo Ridge: 0.9235166218885335\n"
     ]
    }
   ],
   "source": [
    "np.random.seed(42)\n",
    "X = pd.DataFrame({\n",
    "    'var1': np.random.rand(100),\n",
    "    'var2': np.random.rand(100),\n",
    "    'var3': np.random.rand(100)\n",
    "})\n",
    "y = X['var1'] * 2 + X['var2'] * -3 + np.random.rand(100)\n",
    "\n",
    "\n",
    "X_train, X_test, y_train, y_test = train_test_split(X, y, test_size=0.2, random_state=42)\n",
    "\n",
    "poly = PolynomialFeatures(degree=2, include_bias=False)\n",
    "X_train_poly = poly.fit_transform(X_train)\n",
    "X_test_poly = poly.transform(X_test)\n",
    "\n",
    "scaler = StandardScaler()\n",
    "X_train_poly_scaled = scaler.fit_transform(X_train_poly)\n",
    "X_test_poly_scaled = scaler.transform(X_test_poly)\n",
    "\n",
    "ridge = Ridge(alpha=0.1)\n",
    "ridge.fit(X_train_poly_scaled, y_train)\n",
    "y_pred_ridge = ridge.predict(X_test_poly_scaled)\n",
    "ridge_r2 = r2_score(y_test, y_pred_ridge)\n",
    "print(f'R² do modelo Ridge: {ridge_r2}')"
   ]
  },
  {
   "cell_type": "code",
   "execution_count": 45,
   "id": "1c8dd263-0b6f-4e37-88f6-4b602a760b30",
   "metadata": {},
   "outputs": [
    {
     "name": "stdout",
     "output_type": "stream",
     "text": [
      "R² da árvore de regressão: 0.8160847888885724\n"
     ]
    }
   ],
   "source": [
    "tree = DecisionTreeRegressor(max_depth=5)\n",
    "tree.fit(X_train, y_train)\n",
    "y_pred_tree = tree.predict(X_test)\n",
    "tree_r2 = r2_score(y_test, y_pred_tree)\n",
    "print(f'R² da árvore de regressão: {tree_r2}')"
   ]
  },
  {
   "cell_type": "markdown",
   "id": "ad098099-f528-41e7-ae4b-e0728e709dc3",
   "metadata": {},
   "source": [
    "O modelo Ridge apresenta um R² superior ao da árvore de regressão, indicando que o modelo Ridge explica melhor a variabilidade dos dados de teste."
   ]
  },
  {
   "cell_type": "code",
   "execution_count": null,
   "id": "195d0771-09ff-497b-bc9a-b20347a997b5",
   "metadata": {},
   "outputs": [],
   "source": []
  }
 ],
 "metadata": {
  "kernelspec": {
   "display_name": "Python 3 (ipykernel)",
   "language": "python",
   "name": "python3"
  },
  "language_info": {
   "codemirror_mode": {
    "name": "ipython",
    "version": 3
   },
   "file_extension": ".py",
   "mimetype": "text/x-python",
   "name": "python",
   "nbconvert_exporter": "python",
   "pygments_lexer": "ipython3",
   "version": "3.12.4"
  }
 },
 "nbformat": 4,
 "nbformat_minor": 5
}
