{
 "cells": [
  {
   "cell_type": "markdown",
   "id": "a4cecaff-363b-4c94-b653-a304d837b3d3",
   "metadata": {},
   "source": [
    "Tarefa 01\r\n",
    "\r\n",
    "Leia os enunciados com atenção\r\n",
    "Saiba que pode haver mais de uma resposta correta\r\n",
    "Insira novas células de código sempre que achar necessário\r\n",
    "Em caso de dúvidas, procure os tutores\r\n",
    "Divirta-se :)\r\n",
    "1) crie uma série do pandas a partir de uma lista com os dados abaixo:\r\n",
    "Em um estudo sobre alteração na tempreatura global, A NASA disponibiliza dados de diferenças de de temperatura média da superfície terrestre relativos às médias de temperatura entre 1951 e 1980. Os dados originais podem ser vistos no site da NASA/GISS, e estão dispostos a cada década na tabela abaixo.\r\n",
    "\r\n",
    "ano\tanomalia termica\r\n",
    "1900\t-0.08\r\n",
    "1920\t-0.27\r\n",
    "1940\t0.12\r\n",
    "1960\t-0.03\r\n",
    "1980\t0.26\r\n",
    "2000\t0.40\r\n",
    "2020\t1.02\r\n",
    "Crie uma séries do Pandas a partir de uma lista com esses dados."
   ]
  },
  {
   "cell_type": "code",
   "execution_count": 4,
   "id": "a38eda22-61eb-4e85-9390-abc02f1b4ee1",
   "metadata": {},
   "outputs": [],
   "source": [
    "import pandas as pd\n",
    "import numpy as np"
   ]
  },
  {
   "cell_type": "code",
   "execution_count": 18,
   "id": "5711852e-506b-437c-a089-74216f5f8e6b",
   "metadata": {},
   "outputs": [
    {
     "name": "stdout",
     "output_type": "stream",
     "text": [
      "1900   -0.08\n",
      "1920   -0.27\n",
      "1940    0.12\n",
      "1960   -0.03\n",
      "1980    0.26\n",
      "2000    0.40\n",
      "2020    1.02\n",
      "dtype: float64\n"
     ]
    }
   ],
   "source": [
    "anos = [1900, 1920, 1940, 1960, 1980, 2000, 2020]\n",
    "\n",
    "# Lista com as anomalias térmicas\n",
    "anomalias_termicas = [-0.08, -0.27, 0.12, -0.03, 0.26, 0.40, 1.02]\n",
    "\n",
    "# Criando uma série do pandas\n",
    "serie_anomalias = pd.Series(anomalias_termicas, index=anos)\n",
    "\n",
    "print(serie_anomalias)"
   ]
  },
  {
   "cell_type": "markdown",
   "id": "a9b29fad-26d5-49ec-847f-aeacb349b2f1",
   "metadata": {},
   "source": [
    "2) Coloque os anos nos índices conforme a tabela."
   ]
  },
  {
   "cell_type": "code",
   "execution_count": 16,
   "id": "7b7a9c58-8957-42aa-b34d-f635bb8f44df",
   "metadata": {},
   "outputs": [
    {
     "name": "stdout",
     "output_type": "stream",
     "text": [
      "1900   -0.08\n",
      "1920   -0.27\n",
      "1940    0.12\n",
      "1960   -0.03\n",
      "1980    0.26\n",
      "2000    0.40\n",
      "2020    1.02\n",
      "dtype: float64\n"
     ]
    }
   ],
   "source": [
    "dados = {\n",
    "    \"ano\": [1900, 1920, 1940, 1960, 1980, 2000, 2020],\n",
    "    \"anomalia_termica\": [-0.08, -0.27, 0.12, -0.03, 0.26, 0.40, 1.02]\n",
    "}\n",
    "\n",
    "# Criando a série com anos como índice\n",
    "anomalias = pd.Series(data=dados['anomalia_termica'], index=dados['ano'])\n",
    "\n",
    "print(anomalias)"
   ]
  },
  {
   "cell_type": "markdown",
   "id": "611f0ce8-d5fd-40de-9c77-eb28fe96b8b8",
   "metadata": {},
   "source": [
    "3) A partir do dicionário abaixo, crie uma séries do Pandas:"
   ]
  },
  {
   "cell_type": "code",
   "execution_count": 17,
   "id": "16c06a85-8471-4503-8317-3e0511bd64d8",
   "metadata": {},
   "outputs": [
    {
     "name": "stdout",
     "output_type": "stream",
     "text": [
      "1900   -0.08\n",
      "1920   -0.27\n",
      "1940    0.12\n",
      "1960   -0.03\n",
      "1980    0.26\n",
      "2000    0.40\n",
      "2020    1.02\n",
      "dtype: float64\n"
     ]
    }
   ],
   "source": [
    "dic_temperaturas = {1900: -0.08, 1920: -0.27, 1940: 0.12, 1960: -0.03, 1980: 0.26, 2000: 0.40, 2020: 1.02}\n",
    "\n",
    "# Criando a série a partir do dicionário\n",
    "serie_temperaturas = pd.Series(dic_temperaturas)\n",
    "\n",
    "print(serie_temperaturas)"
   ]
  },
  {
   "cell_type": "markdown",
   "id": "40eb3eb2-2b1f-4235-a9ad-a62ecb2af048",
   "metadata": {},
   "source": [
    "4) Transforme o ndarray abaixo em um dataframe. \r\n",
    "O numpy é capaz de gerar arrays n-dimensionais com números pseudo-aleatórios de acordo com uma variedade de distribuições, como no exemplo abaixo. Transforme esse nd-array em um DataFrame."
   ]
  },
  {
   "cell_type": "code",
   "execution_count": 13,
   "id": "2f01eb53-69df-49a1-84a3-6f2b944215d9",
   "metadata": {},
   "outputs": [
    {
     "name": "stdout",
     "output_type": "stream",
     "text": [
      "       Coluna1     Coluna2     Coluna3\n",
      "0    90.639355   92.609336   87.334932\n",
      "1   107.284619   99.564610   83.285053\n",
      "2    99.383459  122.215669   84.712775\n",
      "3   105.154266   97.769138   93.852086\n",
      "4    97.893066   99.958544  115.681063\n",
      "5   113.484789  110.821149   81.822642\n",
      "6    84.099087  106.069602   98.044932\n",
      "7   108.431721   90.772644   99.883348\n",
      "8   106.736105  103.543487   86.220530\n",
      "9   114.078128   99.230703  117.631900\n",
      "10   87.327891   86.805601   86.065552\n",
      "11  104.375733   87.100496  105.043426\n",
      "12   89.157004   79.558881  102.155609\n",
      "13  105.335399   92.185450   97.067419\n",
      "14   98.812341  114.906077  108.810713\n",
      "15   85.088757  103.541454   93.435772\n",
      "16  111.740637  109.035071  107.026271\n",
      "17   99.961234   97.799884   83.957339\n",
      "18   96.041619  105.395005  111.731027\n",
      "19   93.323819   95.550445  113.030881\n"
     ]
    }
   ],
   "source": [
    "arr = np.random.normal(100, 10, (20, 3))\n",
    "\n",
    "# Convertendo o ndarray para um DataFrame\n",
    "df = pd.DataFrame(arr, columns=['Coluna1', 'Coluna2', 'Coluna3'])\n",
    "\n",
    "print(df)"
   ]
  },
  {
   "cell_type": "markdown",
   "id": "f38c266d-5db2-4fe3-b4b9-a1bbb6b0e0b9",
   "metadata": {},
   "source": [
    "5) Nomeie os índices das linhas com inteiros de 1 a 20, e as colunas com os nomes \"x1\", \"x2\", e \"x3\" respectivamente."
   ]
  },
  {
   "cell_type": "code",
   "execution_count": 21,
   "id": "a2223122-944e-4621-9fde-773dd5761219",
   "metadata": {},
   "outputs": [
    {
     "name": "stdout",
     "output_type": "stream",
     "text": [
      "            x1          x2          x3\n",
      "1    93.545889  105.706725   97.762364\n",
      "2    94.159462  100.522741  107.742616\n",
      "3   111.857720   90.820774   76.981784\n",
      "4    85.567822  108.168020   99.570165\n",
      "5    90.673673  109.438581  114.126519\n",
      "6    91.265396   98.478832   96.343592\n",
      "7   114.712805   93.895525   82.617789\n",
      "8   101.183357  102.329346  103.478962\n",
      "9   106.346181   96.146458   95.068895\n",
      "10   75.014170   93.982823   98.510326\n",
      "11  107.852260  115.992269  101.399700\n",
      "12  120.371867  107.272899   85.866593\n",
      "13  104.554008   95.261070   94.333484\n",
      "14   97.260067  101.923403   95.659537\n",
      "15  103.697288  116.575960   92.949012\n",
      "16   99.625590   96.474612   96.332686\n",
      "17  104.363886  106.879161  111.716366\n",
      "18  102.045557  106.081237  116.626122\n",
      "19  105.019653  108.627677  111.786475\n",
      "20  106.417286  101.457977  114.033493\n"
     ]
    }
   ],
   "source": [
    "arr = np.random.normal(100, 10, (20, 3))\n",
    "\n",
    "# Convertendo o ndarray para um DataFrame e renomeando as colunas\n",
    "df = pd.DataFrame(arr, columns=['x1', 'x2', 'x3'])\n",
    "\n",
    "# Renomeando os índices de 1 a 20\n",
    "df.index = range(1, 21)\n",
    "\n",
    "print(df)"
   ]
  },
  {
   "cell_type": "markdown",
   "id": "417d509c-b72b-40e9-bf76-5cfbf1d4571a",
   "metadata": {},
   "source": [
    "6) No DataFrame do exercício 5, crie uma nova coluna como sendo a média das três colunas, e dê a ela o nome de \"media\" (não recomendo colocar acentos em nomes de variáveis)."
   ]
  },
  {
   "cell_type": "code",
   "execution_count": 22,
   "id": "52702a59-a100-4e94-a47b-790bca7b9076",
   "metadata": {},
   "outputs": [
    {
     "name": "stdout",
     "output_type": "stream",
     "text": [
      "            x1          x2          x3       media\n",
      "1    93.545889  105.706725   97.762364   99.004993\n",
      "2    94.159462  100.522741  107.742616  100.808273\n",
      "3   111.857720   90.820774   76.981784   93.220093\n",
      "4    85.567822  108.168020   99.570165   97.768669\n",
      "5    90.673673  109.438581  114.126519  104.746258\n",
      "6    91.265396   98.478832   96.343592   95.362606\n",
      "7   114.712805   93.895525   82.617789   97.075373\n",
      "8   101.183357  102.329346  103.478962  102.330555\n",
      "9   106.346181   96.146458   95.068895   99.187178\n",
      "10   75.014170   93.982823   98.510326   89.169106\n",
      "11  107.852260  115.992269  101.399700  108.414743\n",
      "12  120.371867  107.272899   85.866593  104.503787\n",
      "13  104.554008   95.261070   94.333484   98.049520\n",
      "14   97.260067  101.923403   95.659537   98.281002\n",
      "15  103.697288  116.575960   92.949012  104.407420\n",
      "16   99.625590   96.474612   96.332686   97.477629\n",
      "17  104.363886  106.879161  111.716366  107.653138\n",
      "18  102.045557  106.081237  116.626122  108.250972\n",
      "19  105.019653  108.627677  111.786475  108.477935\n",
      "20  106.417286  101.457977  114.033493  107.302919\n"
     ]
    }
   ],
   "source": [
    "# Calculando a média das três colunas e criando a nova coluna 'media'\n",
    "df['media'] = df[['x1', 'x2', 'x3']].mean(axis=1)\n",
    "\n",
    "print(df)"
   ]
  },
  {
   "cell_type": "markdown",
   "id": "e79b7826-663f-4803-b390-2647c00206f8",
   "metadata": {},
   "source": [
    "7) No DataFrame do exercício 6, crie uma nova coluna chamada \"log_med\", contendo o logaritmo natural da média calculada no exercício 6 <br>"
   ]
  },
  {
   "cell_type": "code",
   "execution_count": 24,
   "id": "aa7d4db8-4522-4107-9718-eee2f241e172",
   "metadata": {},
   "outputs": [
    {
     "name": "stdout",
     "output_type": "stream",
     "text": [
      "            x1          x2          x3       media   log_med\n",
      "1    93.545889  105.706725   97.762364   99.004993  4.595170\n",
      "2    94.159462  100.522741  107.742616  100.808273  4.613220\n",
      "3   111.857720   90.820774   76.981784   93.220093  4.534963\n",
      "4    85.567822  108.168020   99.570165   97.768669  4.582604\n",
      "5    90.673673  109.438581  114.126519  104.746258  4.651541\n",
      "6    91.265396   98.478832   96.343592   95.362606  4.557687\n",
      "7   114.712805   93.895525   82.617789   97.075373  4.575488\n",
      "8   101.183357  102.329346  103.478962  102.330555  4.628208\n",
      "9   106.346181   96.146458   95.068895   99.187178  4.597009\n",
      "10   75.014170   93.982823   98.510326   89.169106  4.490535\n",
      "11  107.852260  115.992269  101.399700  108.414743  4.685964\n",
      "12  120.371867  107.272899   85.866593  104.503787  4.649223\n",
      "13  104.554008   95.261070   94.333484   98.049520  4.585473\n",
      "14   97.260067  101.923403   95.659537   98.281002  4.587831\n",
      "15  103.697288  116.575960   92.949012  104.407420  4.648301\n",
      "16   99.625590   96.474612   96.332686   97.477629  4.579623\n",
      "17  104.363886  106.879161  111.716366  107.653138  4.678914\n",
      "18  102.045557  106.081237  116.626122  108.250972  4.684452\n",
      "19  105.019653  108.627677  111.786475  108.477935  4.686547\n",
      "20  106.417286  101.457977  114.033493  107.302919  4.675656\n"
     ]
    }
   ],
   "source": [
    "df['log_med'] = np.log(df['media'])\n",
    "\n",
    "print(df)"
   ]
  },
  {
   "cell_type": "code",
   "execution_count": null,
   "id": "07b6eee7-2116-47c8-add8-c82a85443fc3",
   "metadata": {},
   "outputs": [],
   "source": []
  }
 ],
 "metadata": {
  "kernelspec": {
   "display_name": "Python 3 (ipykernel)",
   "language": "python",
   "name": "python3"
  },
  "language_info": {
   "codemirror_mode": {
    "name": "ipython",
    "version": 3
   },
   "file_extension": ".py",
   "mimetype": "text/x-python",
   "name": "python",
   "nbconvert_exporter": "python",
   "pygments_lexer": "ipython3",
   "version": "3.12.4"
  }
 },
 "nbformat": 4,
 "nbformat_minor": 5
}
