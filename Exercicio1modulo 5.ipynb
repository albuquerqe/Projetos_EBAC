{
 "cells": [
  {
   "cell_type": "markdown",
   "id": "78e8f0c3-6f11-4b3b-919b-dd5de8541b94",
   "metadata": {},
   "source": [
    "#### Preparação da base\r\n",
    "1. Carregue a base 'SINASC_RO_2019.csv'. Conte o número de registros e o número de registros não duplicados da base. Dica: você aprendeu um método que remove duplicados, encadeie este método com um outro método que conta o número de linhas. **Há linhas duplicadas?**  "
   ]
  },
  {
   "cell_type": "code",
   "execution_count": 2,
   "id": "4dd73def-bef2-4e2c-8ad6-585c7bb710a5",
   "metadata": {},
   "outputs": [],
   "source": [
    "import pandas as pd\n",
    "import requests"
   ]
  },
  {
   "cell_type": "code",
   "execution_count": 5,
   "id": "a59bbf17-758a-4029-8f28-fc7dace64fc8",
   "metadata": {},
   "outputs": [
    {
     "name": "stdout",
     "output_type": "stream",
     "text": [
      "(27028, 69)\n"
     ]
    },
    {
     "data": {
      "text/plain": [
       "(27028, 69)"
      ]
     },
     "execution_count": 5,
     "metadata": {},
     "output_type": "execute_result"
    }
   ],
   "source": [
    "sinasc = pd.read_csv('SINASC_RO_2019.csv')\n",
    "print(sinasc.shape)\n",
    "sinasc.drop_duplicates().shape"
   ]
  },
  {
   "cell_type": "code",
   "execution_count": 9,
   "id": "d6cc7264-a8e3-4ffe-b24f-094137e4e5db",
   "metadata": {},
   "outputs": [
    {
     "name": "stdout",
     "output_type": "stream",
     "text": [
      "Total de registros: 27028\n",
      "Total de registros não duplicados: 27028\n"
     ]
    }
   ],
   "source": [
    "total_registros = sinasc.shape[0]\n",
    "registros_unicos = sinasc.drop_duplicates().shape[0]\n",
    "print(f\"Total de registros: {total_registros}\")\n",
    "print(f\"Total de registros não duplicados: {registros_unicos}\")"
   ]
  },
  {
   "cell_type": "code",
   "execution_count": 10,
   "id": "7c8168a0-3ac5-4edd-a59b-1f40bb2754dd",
   "metadata": {},
   "outputs": [
    {
     "name": "stdout",
     "output_type": "stream",
     "text": [
      "Não há duplicados.\n"
     ]
    }
   ],
   "source": [
    "if total_registros == registros_unicos:\n",
    "    print(\"Não há duplicados.\")\n",
    "else:\n",
    "    print(f\"Há {total_registros - registros_unicos} registros duplicados.\")"
   ]
  },
  {
   "cell_type": "markdown",
   "id": "5895cc5e-4a61-44e8-a11b-18fed5b39315",
   "metadata": {},
   "source": [
    "2. Conte o número de valores *missing* por variável.  "
   ]
  },
  {
   "cell_type": "code",
   "execution_count": 13,
   "id": "3c1eee00-a8ba-495f-bb8b-0c83cea15f8c",
   "metadata": {},
   "outputs": [
    {
     "data": {
      "text/plain": [
       "ORIGEM          0\n",
       "CODESTAB      115\n",
       "CODMUNNASC      0\n",
       "LOCNASC         0\n",
       "IDADEMAE        0\n",
       "             ... \n",
       "munResUf        0\n",
       "munResLat       1\n",
       "munResLon       1\n",
       "munResAlt       1\n",
       "munResArea      1\n",
       "Length: 69, dtype: int64"
      ]
     },
     "execution_count": 13,
     "metadata": {},
     "output_type": "execute_result"
    }
   ],
   "source": [
    "sinasc.isna().sum()"
   ]
  },
  {
   "cell_type": "markdown",
   "id": "be7cc920-4260-4a26-9e59-c21a30f1eb26",
   "metadata": {},
   "source": [
    "3. Ok, no item anterior você deve ter achado pouco prático ler a informação de tantas variáveis, muitas delas nem devem ser interesantes. Então crie uma seleção dessa base somente com as colunas que interessam. São elas:\r\n",
    "` \r\n",
    "['LOCNASC', 'IDADEMAE', 'ESTCIVMAE', 'ESCMAE', 'QTDFILVIVO', \r\n",
    "    'GESTACAO', 'GRAVIDEZ', 'CONSULTAS', 'APGAR5'] \r\n",
    "`\r\n",
    "Refaça a contagem de valores *missings*.  "
   ]
  },
  {
   "cell_type": "code",
   "execution_count": 18,
   "id": "71d53916-15a7-4128-9b01-e52a91550899",
   "metadata": {},
   "outputs": [
    {
     "data": {
      "text/plain": [
       "LOCNASC          0\n",
       "IDADEMAE         0\n",
       "ESTCIVMAE      317\n",
       "ESCMAE         312\n",
       "QTDFILVIVO    1573\n",
       "GESTACAO      1232\n",
       "GRAVIDEZ        79\n",
       "CONSULTAS        0\n",
       "APGAR5         103\n",
       "dtype: int64"
      ]
     },
     "execution_count": 18,
     "metadata": {},
     "output_type": "execute_result"
    }
   ],
   "source": [
    "columns_of_interest = [\n",
    "    'LOCNASC', 'IDADEMAE', 'ESTCIVMAE', 'ESCMAE', \n",
    "    'QTDFILVIVO', 'GESTACAO', 'GRAVIDEZ', 'CONSULTAS', 'APGAR5'\n",
    "]\n",
    "sinasc_selected = sinasc[columns_of_interest]\n",
    "\n",
    "sinasc_selected.isna().sum() "
   ]
  },
  {
   "cell_type": "markdown",
   "id": "4256ffb9-5c07-4222-b338-7294ab501b9a",
   "metadata": {},
   "source": [
    "4. Apgar é uma *nota* que o pediatra dá ao bebê quando nasce de acordo com algumas características associadas principalmente à respiração. Apgar 1 e Apgar 5 são as notas 1 e 5 minutos do nascimento. Apgar5 será a nossa variável de interesse principal. Então remova todos os registros com Apgar5 não preenchido. Para esta seleção, conte novamente o número de linhas e o número de *missings*."
   ]
  },
  {
   "cell_type": "code",
   "execution_count": 17,
   "id": "b975509c-949a-4d79-83c4-e71f56a379c8",
   "metadata": {},
   "outputs": [
    {
     "data": {
      "text/plain": [
       "(26925,\n",
       " LOCNASC          0\n",
       " IDADEMAE         0\n",
       " ESTCIVMAE      315\n",
       " ESCMAE         310\n",
       " QTDFILVIVO    1566\n",
       " GESTACAO      1216\n",
       " GRAVIDEZ        76\n",
       " CONSULTAS        0\n",
       " APGAR5           0\n",
       " dtype: int64)"
      ]
     },
     "execution_count": 17,
     "metadata": {},
     "output_type": "execute_result"
    }
   ],
   "source": [
    "sinasc_filtered = sinasc_selected.dropna(subset=['APGAR5'])\n",
    "remaining_rows = len(sinasc_filtered)\n",
    "missing_values_after_filter = sinasc_filtered.isna().sum()\n",
    "\n",
    "remaining_rows, missing_values_after_filter"
   ]
  },
  {
   "cell_type": "markdown",
   "id": "a4ad525f-70e6-42c2-8d7e-34a5577fcce5",
   "metadata": {},
   "source": [
    "5. observe que as variáveis `['ESTCIVMAE', 'CONSULTAS']` possuem o código `9`, que significa *ignorado*. Vamos assumir que o não preenchido é o mesmo que o código `9`.<br>"
   ]
  },
  {
   "cell_type": "code",
   "execution_count": 24,
   "id": "cb0cdfa9-66ff-41cd-862e-2cdc04d8753c",
   "metadata": {},
   "outputs": [
    {
     "name": "stdout",
     "output_type": "stream",
     "text": [
      "missing após a substituição:\n",
      "ESTCIVMAE    0\n",
      "CONSULTAS    0\n",
      "dtype: int64\n"
     ]
    }
   ],
   "source": [
    "sinasc_filtered['ESTCIVMAE'] = sinasc_filtered['ESTCIVMAE'].fillna(9)\n",
    "sinasc_filtered['CONSULTAS'] = sinasc_filtered['CONSULTAS'].fillna(9)\n",
    "\n",
    "print(\"missing após a substituição:\")\n",
    "print(sinasc_filtered[['ESTCIVMAE', 'CONSULTAS']].isna().sum())"
   ]
  },
  {
   "cell_type": "markdown",
   "id": "965a2c9a-df62-4898-adc6-9f7d1f8be65f",
   "metadata": {},
   "source": [
    "6. Substitua os valores faltantes da quantitativa (`QTDFILVIVO`) por zero.  "
   ]
  },
  {
   "cell_type": "code",
   "execution_count": 23,
   "id": "c50e04e8-7017-4421-aa2e-6ae078dd6aee",
   "metadata": {},
   "outputs": [
    {
     "name": "stdout",
     "output_type": "stream",
     "text": [
      "missing após a substituição em QTDFILVIVO:\n",
      "0\n"
     ]
    }
   ],
   "source": [
    "sinasc_filtered['QTDFILVIVO'] = sinasc_filtered['QTDFILVIVO'].fillna(0)\n",
    "\n",
    "print(\"missing após a substituição em QTDFILVIVO:\")\n",
    "print(sinasc_filtered['QTDFILVIVO'].isna().sum())"
   ]
  },
  {
   "cell_type": "markdown",
   "id": "a70f72a8-9ec2-401e-9b34-2c26b49da5e5",
   "metadata": {},
   "source": [
    "7. Das restantes, decida que valore te parece mais adequado (um 'não preenchido' ou um valor 'mais provável' como no item anterior) e preencha. Justifique. Lembre-se de que tratamento de dados é trabalho do cientista, e que estamos tomando decisões a todo o momento - não há necessariamente certo e errado aqui. "
   ]
  },
  {
   "cell_type": "code",
   "execution_count": 29,
   "id": "9355e10b-5f9c-43eb-85b6-aef119dfd1f2",
   "metadata": {},
   "outputs": [],
   "source": [
    "sinasc_filtered['LOCNASC'] = sinasc_filtered['LOCNASC'].fillna(sinasc_filtered['LOCNASC'].mode()[0])\n",
    "\n",
    "sinasc_filtered['IDADEMAE'] = sinasc_filtered['IDADEMAE'].fillna(sinasc_filtered['IDADEMAE'].mean())\n",
    "\n",
    "sinasc_filtered['ESTCIVMAE'] = sinasc_filtered['ESTCIVMAE'].fillna(sinasc_filtered['ESTCIVMAE'].mode()[0])\n",
    "\n",
    "sinasc_filtered['ESCMAE'] = sinasc_filtered['ESCMAE'].fillna(sinasc_filtered['ESCMAE'].mode()[0])\n",
    "\n",
    "sinasc_filtered['GESTACAO'] = pd.to_numeric(sinasc_filtered['GESTACAO'], errors='coerce')\n",
    "\n",
    "sinasc_filtered['GESTACAO'] = sinasc_filtered['GESTACAO'].fillna(sinasc_filtered['GESTACAO'].mean())\n",
    "\n",
    "sinasc_filtered['GRAVIDEZ'] = sinasc_filtered['GRAVIDEZ'].fillna(sinasc_filtered['GRAVIDEZ'].mode()[0])\n",
    "\n",
    "sinasc_filtered['CONSULTAS'] = sinasc_filtered['CONSULTAS'].fillna(0)\n"
   ]
  },
  {
   "cell_type": "markdown",
   "id": "d0ca33ee-bd10-4fa2-8e8b-de0e8ebcef52",
   "metadata": {},
   "source": [
    "8. O Apgar possui uma classificação indicando se o bebê passou por asfixia:\r\n",
    "- Entre 8 e 10 está em uma faixa 'normal'. \r\n",
    "- Entre 6 e 7, significa que o recém-nascido passou por 'asfixia leve'. \r\n",
    "- Entre 4 e 5 significa 'asfixia moderada'.\r\n",
    "- Entre 0 e 3 significa 'asfixia severa'.  "
   ]
  },
  {
   "cell_type": "code",
   "execution_count": 35,
   "id": "5e0d9fe1-d79b-4afd-9f45-36483fdd83d1",
   "metadata": {},
   "outputs": [
    {
     "name": "stdout",
     "output_type": "stream",
     "text": [
      "Apgar_categoria\n",
      "Normal              26463\n",
      "Asfixia leve          320\n",
      "Asfixia severa        177\n",
      "Asfixia moderada       68\n",
      "Name: count, dtype: int64\n"
     ]
    }
   ],
   "source": [
    "def categorizar_apgar(score):\n",
    "    if score >= 8:\n",
    "        return 'Normal'\n",
    "    elif score >= 6:\n",
    "        return 'Asfixia leve'\n",
    "    elif score >= 4:\n",
    "        return 'Asfixia moderada'\n",
    "    else:\n",
    "        return 'Asfixia severa'\n",
    "\n",
    "\n",
    "sinasc['Apgar_categoria'] = sinasc['APGAR5'].apply(categorizar_apgar)\n",
    "frequencias = sinasc['Apgar_categoria'].value_counts()\n",
    "print(frequencias)\n",
    "\n"
   ]
  },
  {
   "cell_type": "markdown",
   "id": "b9dd8ca7-f8e0-4604-9431-76459968c17a",
   "metadata": {},
   "source": [
    "9. Renomeie as variáveis para que fiquem no *snake case*, ou seja, em letras minúsculas, com um *underscore* entre as palávras. Dica: repare que se você não quiser criar um *dataframe* novo, você vai precisar usar a opção `inplace = True`."
   ]
  },
  {
   "cell_type": "code",
   "execution_count": 36,
   "id": "a83a2bbf-ba9c-4266-8477-5524440ff5d7",
   "metadata": {},
   "outputs": [
    {
     "name": "stdout",
     "output_type": "stream",
     "text": [
      "Index(['origem', 'codestab', 'codmunnasc', 'locnasc', 'idademae', 'estcivmae',\n",
      "       'escmae', 'codocupmae', 'qtdfilvivo', 'qtdfilmort', 'codmunres',\n",
      "       'gestacao', 'gravidez', 'parto', 'consultas', 'dtnasc', 'horanasc',\n",
      "       'sexo', 'apgar1', 'apgar5', 'racacor', 'peso', 'idanomal', 'dtcadastro',\n",
      "       'codanomal', 'numerolote', 'versaosist', 'dtrecebim', 'difdata',\n",
      "       'dtrecoriga', 'naturalmae', 'codmunnatu', 'codufnatu', 'escmae2010',\n",
      "       'seriescmae', 'dtnascmae', 'racacormae', 'qtdgestant', 'qtdpartnor',\n",
      "       'qtdpartces', 'idadepai', 'dtultmenst', 'semagestac', 'tpmetestim',\n",
      "       'consprenat', 'mesprenat', 'tpapresent', 'sttrabpart', 'stcesparto',\n",
      "       'tpnascassi', 'tpfuncresp', 'tpdocresp', 'dtdeclarac', 'escmaeagr1',\n",
      "       'stdnepidem', 'stdnnova', 'codpaisres', 'tprobson', 'paridade',\n",
      "       'kotelchuck', 'contador', 'munresstatus', 'munrestipo', 'munresnome',\n",
      "       'munresuf', 'munreslat', 'munreslon', 'munresalt', 'munresarea',\n",
      "       'apgar_categoria'],\n",
      "      dtype='object')\n"
     ]
    }
   ],
   "source": [
    "sinasc.rename(columns=lambda x: x.strip().replace(' ', '_').replace('.', '').replace('-', '_').lower(), inplace=True)\n",
    "\n",
    "print(sinasc.columns)"
   ]
  },
  {
   "cell_type": "code",
   "execution_count": null,
   "id": "8d520751-ded3-4b06-9e4d-d2d151b0b3e0",
   "metadata": {},
   "outputs": [],
   "source": []
  }
 ],
 "metadata": {
  "kernelspec": {
   "display_name": "Python 3 (ipykernel)",
   "language": "python",
   "name": "python3"
  },
  "language_info": {
   "codemirror_mode": {
    "name": "ipython",
    "version": 3
   },
   "file_extension": ".py",
   "mimetype": "text/x-python",
   "name": "python",
   "nbconvert_exporter": "python",
   "pygments_lexer": "ipython3",
   "version": "3.12.4"
  }
 },
 "nbformat": 4,
 "nbformat_minor": 5
}
